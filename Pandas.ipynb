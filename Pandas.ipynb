{
 "cells": [
  {
   "cell_type": "markdown",
   "id": "bdd4cbcc",
   "metadata": {},
   "source": [
    "## Pandas"
   ]
  },
  {
   "cell_type": "markdown",
   "id": "65860457",
   "metadata": {},
   "source": [
    "pandas is a fast, powerful, flexible and easy to use open source data analysis and manipulation tool, built on top of the Python programming language.\n",
    "\n",
    "Python with Pandas is used in a wide range of fields including academic and commercial domains including finance, economics, Statistics, analytics, etc.\n",
    "\n",
    "Panel Data – an Econometrics from Multidimensional data."
   ]
  },
  {
   "cell_type": "code",
   "execution_count": 2,
   "id": "d0240b78",
   "metadata": {},
   "outputs": [
    {
     "name": "stdout",
     "output_type": "stream",
     "text": [
      "Name: pandas\n",
      "Version: 1.2.4\n",
      "Summary: Powerful data structures for data analysis, time series, and statistics\n",
      "Home-page: https://pandas.pydata.org\n",
      "Author: None\n",
      "Author-email: None\n",
      "License: BSD\n",
      "Location: /home/divyasale/anaconda3/lib/python3.8/site-packages\n",
      "Requires: python-dateutil, pytz, numpy\n",
      "Required-by: statsmodels, seaborn\n",
      "Note: you may need to restart the kernel to use updated packages.\n"
     ]
    }
   ],
   "source": [
    "pip show pandas"
   ]
  },
  {
   "cell_type": "code",
   "execution_count": 5,
   "id": "66caaa7d",
   "metadata": {},
   "outputs": [],
   "source": [
    "import pandas as pd\n",
    "import numpy as np"
   ]
  },
  {
   "cell_type": "markdown",
   "id": "3261b989",
   "metadata": {},
   "source": [
    "## Series"
   ]
  },
  {
   "cell_type": "markdown",
   "id": "0d27e007",
   "metadata": {},
   "source": [
    "Series is one-dimentional array of indexed data and it contain elements of any data type"
   ]
  },
  {
   "cell_type": "code",
   "execution_count": 20,
   "id": "d0f035bd",
   "metadata": {},
   "outputs": [
    {
     "name": "stdout",
     "output_type": "stream",
     "text": [
      "0    1\n",
      "1    2\n",
      "2    3\n",
      "3    4\n",
      "4    5\n",
      "5    6\n",
      "dtype: int64\n"
     ]
    },
    {
     "data": {
      "text/plain": [
       "pandas.core.series.Series"
      ]
     },
     "execution_count": 20,
     "metadata": {},
     "output_type": "execute_result"
    }
   ],
   "source": [
    "#Create series from list\n",
    "l1=[1,2,3,4,5,6]\n",
    "\n",
    "s1=pd.Series(l1)   #Create series\n",
    "\n",
    "print(s1)\n",
    "type(s1)"
   ]
  },
  {
   "cell_type": "code",
   "execution_count": 22,
   "id": "ea13a98a",
   "metadata": {},
   "outputs": [
    {
     "name": "stdout",
     "output_type": "stream",
     "text": [
      "0    Python\n",
      "1       2.5\n",
      "2    Yellow\n",
      "3        50\n",
      "4         7\n",
      "5      8.99\n",
      "dtype: object\n"
     ]
    },
    {
     "data": {
      "text/plain": [
       "pandas.core.series.Series"
      ]
     },
     "execution_count": 22,
     "metadata": {},
     "output_type": "execute_result"
    }
   ],
   "source": [
    "l2=[\"Python\",2.5,\"Yellow\",50,7,8.99]\n",
    "\n",
    "s2 = pd.Series(l2)\n",
    "print(s2)\n",
    "type(s2)"
   ]
  },
  {
   "cell_type": "code",
   "execution_count": 24,
   "id": "48805170",
   "metadata": {},
   "outputs": [
    {
     "data": {
      "text/plain": [
       "a    20\n",
       "b    55\n",
       "c    42\n",
       "d    36\n",
       "e    29\n",
       "dtype: int64"
      ]
     },
     "execution_count": 24,
     "metadata": {},
     "output_type": "execute_result"
    }
   ],
   "source": [
    "age=[20,55,42,36,29]\n",
    "pd.Series(age,index=[\"a\",\"b\",\"c\",\"d\",\"e\"])"
   ]
  },
  {
   "cell_type": "code",
   "execution_count": 27,
   "id": "c398e6d4",
   "metadata": {},
   "outputs": [
    {
     "name": "stdout",
     "output_type": "stream",
     "text": [
      "0    1\n",
      "1    2\n",
      "2    4\n",
      "3    5\n",
      "4    6\n",
      "dtype: int64\n",
      "<class 'pandas.core.series.Series'>\n"
     ]
    }
   ],
   "source": [
    "#Create Series using numpy array\n",
    "array=np.array([1,2,4,5,6])\n",
    "s3=pd.Series(array)\n",
    "print(s3)\n",
    "print(type(s3))"
   ]
  },
  {
   "cell_type": "code",
   "execution_count": 28,
   "id": "264c01cf",
   "metadata": {},
   "outputs": [
    {
     "name": "stdout",
     "output_type": "stream",
     "text": [
      "apple        Red\n",
      "Banana    Yellow\n",
      "Grapes     Green\n",
      "Mango     Orange\n",
      "dtype: object\n",
      "<class 'pandas.core.series.Series'>\n"
     ]
    }
   ],
   "source": [
    "#Create Series from dictionary\n",
    "dict={\"apple\":\"Red\",\"Banana\":\"Yellow\",\"Grapes\":\"Green\",\"Mango\":\"Orange\"}\n",
    "s4=pd.Series(dict)\n",
    "print(s4)\n",
    "print(type(s4))"
   ]
  },
  {
   "cell_type": "code",
   "execution_count": 30,
   "id": "8b54c430",
   "metadata": {},
   "outputs": [
    {
     "name": "stdout",
     "output_type": "stream",
     "text": [
      "0    1\n",
      "1    2\n",
      "2    3\n",
      "3    4\n",
      "4    5\n",
      "dtype: int64\n",
      "<class 'pandas.core.series.Series'>\n"
     ]
    }
   ],
   "source": [
    "#Create series from tuple\n",
    "t1=(1,2,3,4,5)\n",
    "s5=pd.Series(t1)\n",
    "print(s5)\n",
    "print(type(s5))"
   ]
  },
  {
   "cell_type": "code",
   "execution_count": 31,
   "id": "7a6a047b",
   "metadata": {},
   "outputs": [],
   "source": [
    "#Set is not used to create series because set is unordered"
   ]
  },
  {
   "cell_type": "markdown",
   "id": "b86bfe46",
   "metadata": {},
   "source": [
    "## DataFrame"
   ]
  },
  {
   "cell_type": "markdown",
   "id": "93d141c1",
   "metadata": {},
   "source": [
    "DataFrames are multidimentional arrays with attached rows and columns labels."
   ]
  },
  {
   "cell_type": "code",
   "execution_count": 39,
   "id": "7f39495a",
   "metadata": {},
   "outputs": [
    {
     "data": {
      "text/html": [
       "<div>\n",
       "<style scoped>\n",
       "    .dataframe tbody tr th:only-of-type {\n",
       "        vertical-align: middle;\n",
       "    }\n",
       "\n",
       "    .dataframe tbody tr th {\n",
       "        vertical-align: top;\n",
       "    }\n",
       "\n",
       "    .dataframe thead th {\n",
       "        text-align: right;\n",
       "    }\n",
       "</style>\n",
       "<table border=\"1\" class=\"dataframe\">\n",
       "  <thead>\n",
       "    <tr style=\"text-align: right;\">\n",
       "      <th></th>\n",
       "      <th>day</th>\n",
       "      <th>temp</th>\n",
       "      <th>windspeed</th>\n",
       "      <th>event</th>\n",
       "    </tr>\n",
       "  </thead>\n",
       "  <tbody>\n",
       "    <tr>\n",
       "      <th>0</th>\n",
       "      <td>1/1/2020</td>\n",
       "      <td>34</td>\n",
       "      <td>12</td>\n",
       "      <td>sunny</td>\n",
       "    </tr>\n",
       "    <tr>\n",
       "      <th>1</th>\n",
       "      <td>1/2/2020</td>\n",
       "      <td>23</td>\n",
       "      <td>18</td>\n",
       "      <td>rain</td>\n",
       "    </tr>\n",
       "    <tr>\n",
       "      <th>2</th>\n",
       "      <td>1/3/2020</td>\n",
       "      <td>41</td>\n",
       "      <td>17</td>\n",
       "      <td>overcast</td>\n",
       "    </tr>\n",
       "    <tr>\n",
       "      <th>3</th>\n",
       "      <td>1/4/2020</td>\n",
       "      <td>38</td>\n",
       "      <td>38</td>\n",
       "      <td>sunny</td>\n",
       "    </tr>\n",
       "    <tr>\n",
       "      <th>4</th>\n",
       "      <td>1/5/2020</td>\n",
       "      <td>28</td>\n",
       "      <td>22</td>\n",
       "      <td>rain</td>\n",
       "    </tr>\n",
       "    <tr>\n",
       "      <th>5</th>\n",
       "      <td>1/6/2020</td>\n",
       "      <td>19</td>\n",
       "      <td>23</td>\n",
       "      <td>snow</td>\n",
       "    </tr>\n",
       "  </tbody>\n",
       "</table>\n",
       "</div>"
      ],
      "text/plain": [
       "        day  temp  windspeed     event\n",
       "0  1/1/2020    34         12     sunny\n",
       "1  1/2/2020    23         18      rain\n",
       "2  1/3/2020    41         17  overcast\n",
       "3  1/4/2020    38         38     sunny\n",
       "4  1/5/2020    28         22      rain\n",
       "5  1/6/2020    19         23      snow"
      ]
     },
     "execution_count": 39,
     "metadata": {},
     "output_type": "execute_result"
    }
   ],
   "source": [
    "##Create DataFrame from dictionary\n",
    "weather_data={\n",
    "    \"day\":[\"1/1/2020\",'1/2/2020','1/3/2020','1/4/2020','1/5/2020','1/6/2020'],\n",
    "    \"temp\":[34,23,41,38,28,19],\n",
    "    'windspeed':[12,18,17,38,22,23],\n",
    "    'event':['sunny','rain','overcast','sunny','rain','snow']\n",
    "}\n",
    "df1=pd.DataFrame(weather_data)\n",
    "df1"
   ]
  },
  {
   "cell_type": "code",
   "execution_count": 40,
   "id": "5d3a0d27",
   "metadata": {},
   "outputs": [
    {
     "data": {
      "text/plain": [
       "day          1/1/2020\n",
       "temp               34\n",
       "windspeed          12\n",
       "event           sunny\n",
       "Name: 0, dtype: object"
      ]
     },
     "execution_count": 40,
     "metadata": {},
     "output_type": "execute_result"
    }
   ],
   "source": [
    "df1.loc[0]   #Gives details of 0th row"
   ]
  },
  {
   "cell_type": "code",
   "execution_count": 41,
   "id": "1f04f95a",
   "metadata": {},
   "outputs": [
    {
     "data": {
      "text/plain": [
       "day          1/5/2020\n",
       "temp               28\n",
       "windspeed          22\n",
       "event            rain\n",
       "Name: 4, dtype: object"
      ]
     },
     "execution_count": 41,
     "metadata": {},
     "output_type": "execute_result"
    }
   ],
   "source": [
    "df1.loc[4]"
   ]
  },
  {
   "cell_type": "code",
   "execution_count": 42,
   "id": "1aed4241",
   "metadata": {},
   "outputs": [
    {
     "data": {
      "text/html": [
       "<div>\n",
       "<style scoped>\n",
       "    .dataframe tbody tr th:only-of-type {\n",
       "        vertical-align: middle;\n",
       "    }\n",
       "\n",
       "    .dataframe tbody tr th {\n",
       "        vertical-align: top;\n",
       "    }\n",
       "\n",
       "    .dataframe thead th {\n",
       "        text-align: right;\n",
       "    }\n",
       "</style>\n",
       "<table border=\"1\" class=\"dataframe\">\n",
       "  <thead>\n",
       "    <tr style=\"text-align: right;\">\n",
       "      <th></th>\n",
       "      <th>day</th>\n",
       "      <th>temp</th>\n",
       "      <th>windspeed</th>\n",
       "      <th>event</th>\n",
       "    </tr>\n",
       "  </thead>\n",
       "  <tbody>\n",
       "    <tr>\n",
       "      <th>3</th>\n",
       "      <td>1/4/2020</td>\n",
       "      <td>38</td>\n",
       "      <td>38</td>\n",
       "      <td>sunny</td>\n",
       "    </tr>\n",
       "    <tr>\n",
       "      <th>4</th>\n",
       "      <td>1/5/2020</td>\n",
       "      <td>28</td>\n",
       "      <td>22</td>\n",
       "      <td>rain</td>\n",
       "    </tr>\n",
       "    <tr>\n",
       "      <th>5</th>\n",
       "      <td>1/6/2020</td>\n",
       "      <td>19</td>\n",
       "      <td>23</td>\n",
       "      <td>snow</td>\n",
       "    </tr>\n",
       "  </tbody>\n",
       "</table>\n",
       "</div>"
      ],
      "text/plain": [
       "        day  temp  windspeed  event\n",
       "3  1/4/2020    38         38  sunny\n",
       "4  1/5/2020    28         22   rain\n",
       "5  1/6/2020    19         23   snow"
      ]
     },
     "execution_count": 42,
     "metadata": {},
     "output_type": "execute_result"
    }
   ],
   "source": [
    "df1.loc[3:]"
   ]
  },
  {
   "cell_type": "code",
   "execution_count": 44,
   "id": "ae876e31",
   "metadata": {},
   "outputs": [
    {
     "data": {
      "text/plain": [
       "(6, 4)"
      ]
     },
     "execution_count": 44,
     "metadata": {},
     "output_type": "execute_result"
    }
   ],
   "source": [
    "df1.shape    #Give No of rows and coloumns"
   ]
  },
  {
   "cell_type": "code",
   "execution_count": 45,
   "id": "02995135",
   "metadata": {},
   "outputs": [
    {
     "data": {
      "text/plain": [
       "Index(['day', 'temp', 'windspeed', 'event'], dtype='object')"
      ]
     },
     "execution_count": 45,
     "metadata": {},
     "output_type": "execute_result"
    }
   ],
   "source": [
    "df1.columns  #Gives names of coloumns present in data set"
   ]
  },
  {
   "cell_type": "code",
   "execution_count": 46,
   "id": "f11a3bc7",
   "metadata": {},
   "outputs": [
    {
     "name": "stdout",
     "output_type": "stream",
     "text": [
      "<class 'pandas.core.frame.DataFrame'>\n",
      "RangeIndex: 6 entries, 0 to 5\n",
      "Data columns (total 4 columns):\n",
      " #   Column     Non-Null Count  Dtype \n",
      "---  ------     --------------  ----- \n",
      " 0   day        6 non-null      object\n",
      " 1   temp       6 non-null      int64 \n",
      " 2   windspeed  6 non-null      int64 \n",
      " 3   event      6 non-null      object\n",
      "dtypes: int64(2), object(2)\n",
      "memory usage: 320.0+ bytes\n"
     ]
    }
   ],
   "source": [
    "df1.info()"
   ]
  },
  {
   "cell_type": "code",
   "execution_count": 47,
   "id": "185c0191",
   "metadata": {},
   "outputs": [
    {
     "data": {
      "text/plain": [
       "24"
      ]
     },
     "execution_count": 47,
     "metadata": {},
     "output_type": "execute_result"
    }
   ],
   "source": [
    "df1.size"
   ]
  },
  {
   "cell_type": "code",
   "execution_count": 48,
   "id": "d084471b",
   "metadata": {},
   "outputs": [
    {
     "data": {
      "text/html": [
       "<div>\n",
       "<style scoped>\n",
       "    .dataframe tbody tr th:only-of-type {\n",
       "        vertical-align: middle;\n",
       "    }\n",
       "\n",
       "    .dataframe tbody tr th {\n",
       "        vertical-align: top;\n",
       "    }\n",
       "\n",
       "    .dataframe thead th {\n",
       "        text-align: right;\n",
       "    }\n",
       "</style>\n",
       "<table border=\"1\" class=\"dataframe\">\n",
       "  <thead>\n",
       "    <tr style=\"text-align: right;\">\n",
       "      <th></th>\n",
       "      <th>temp</th>\n",
       "      <th>windspeed</th>\n",
       "    </tr>\n",
       "  </thead>\n",
       "  <tbody>\n",
       "    <tr>\n",
       "      <th>count</th>\n",
       "      <td>6.000000</td>\n",
       "      <td>6.000000</td>\n",
       "    </tr>\n",
       "    <tr>\n",
       "      <th>mean</th>\n",
       "      <td>30.500000</td>\n",
       "      <td>21.666667</td>\n",
       "    </tr>\n",
       "    <tr>\n",
       "      <th>std</th>\n",
       "      <td>8.642916</td>\n",
       "      <td>8.914408</td>\n",
       "    </tr>\n",
       "    <tr>\n",
       "      <th>min</th>\n",
       "      <td>19.000000</td>\n",
       "      <td>12.000000</td>\n",
       "    </tr>\n",
       "    <tr>\n",
       "      <th>25%</th>\n",
       "      <td>24.250000</td>\n",
       "      <td>17.250000</td>\n",
       "    </tr>\n",
       "    <tr>\n",
       "      <th>50%</th>\n",
       "      <td>31.000000</td>\n",
       "      <td>20.000000</td>\n",
       "    </tr>\n",
       "    <tr>\n",
       "      <th>75%</th>\n",
       "      <td>37.000000</td>\n",
       "      <td>22.750000</td>\n",
       "    </tr>\n",
       "    <tr>\n",
       "      <th>max</th>\n",
       "      <td>41.000000</td>\n",
       "      <td>38.000000</td>\n",
       "    </tr>\n",
       "  </tbody>\n",
       "</table>\n",
       "</div>"
      ],
      "text/plain": [
       "            temp  windspeed\n",
       "count   6.000000   6.000000\n",
       "mean   30.500000  21.666667\n",
       "std     8.642916   8.914408\n",
       "min    19.000000  12.000000\n",
       "25%    24.250000  17.250000\n",
       "50%    31.000000  20.000000\n",
       "75%    37.000000  22.750000\n",
       "max    41.000000  38.000000"
      ]
     },
     "execution_count": 48,
     "metadata": {},
     "output_type": "execute_result"
    }
   ],
   "source": [
    "df1.describe()"
   ]
  },
  {
   "cell_type": "code",
   "execution_count": 49,
   "id": "c7c034e0",
   "metadata": {},
   "outputs": [
    {
     "data": {
      "text/html": [
       "<div>\n",
       "<style scoped>\n",
       "    .dataframe tbody tr th:only-of-type {\n",
       "        vertical-align: middle;\n",
       "    }\n",
       "\n",
       "    .dataframe tbody tr th {\n",
       "        vertical-align: top;\n",
       "    }\n",
       "\n",
       "    .dataframe thead th {\n",
       "        text-align: right;\n",
       "    }\n",
       "</style>\n",
       "<table border=\"1\" class=\"dataframe\">\n",
       "  <thead>\n",
       "    <tr style=\"text-align: right;\">\n",
       "      <th></th>\n",
       "      <th>day</th>\n",
       "      <th>temp</th>\n",
       "      <th>windspeed</th>\n",
       "      <th>event</th>\n",
       "    </tr>\n",
       "  </thead>\n",
       "  <tbody>\n",
       "    <tr>\n",
       "      <th>0</th>\n",
       "      <td>1/1/2020</td>\n",
       "      <td>34</td>\n",
       "      <td>12</td>\n",
       "      <td>sunny</td>\n",
       "    </tr>\n",
       "    <tr>\n",
       "      <th>1</th>\n",
       "      <td>1/2/2020</td>\n",
       "      <td>23</td>\n",
       "      <td>18</td>\n",
       "      <td>rain</td>\n",
       "    </tr>\n",
       "    <tr>\n",
       "      <th>2</th>\n",
       "      <td>1/3/2020</td>\n",
       "      <td>41</td>\n",
       "      <td>17</td>\n",
       "      <td>overcast</td>\n",
       "    </tr>\n",
       "  </tbody>\n",
       "</table>\n",
       "</div>"
      ],
      "text/plain": [
       "        day  temp  windspeed     event\n",
       "0  1/1/2020    34         12     sunny\n",
       "1  1/2/2020    23         18      rain\n",
       "2  1/3/2020    41         17  overcast"
      ]
     },
     "execution_count": 49,
     "metadata": {},
     "output_type": "execute_result"
    }
   ],
   "source": [
    "df1.head(3)   #Print first 3 values"
   ]
  },
  {
   "cell_type": "code",
   "execution_count": 50,
   "id": "ae8c9296",
   "metadata": {},
   "outputs": [
    {
     "data": {
      "text/html": [
       "<div>\n",
       "<style scoped>\n",
       "    .dataframe tbody tr th:only-of-type {\n",
       "        vertical-align: middle;\n",
       "    }\n",
       "\n",
       "    .dataframe tbody tr th {\n",
       "        vertical-align: top;\n",
       "    }\n",
       "\n",
       "    .dataframe thead th {\n",
       "        text-align: right;\n",
       "    }\n",
       "</style>\n",
       "<table border=\"1\" class=\"dataframe\">\n",
       "  <thead>\n",
       "    <tr style=\"text-align: right;\">\n",
       "      <th></th>\n",
       "      <th>day</th>\n",
       "      <th>temp</th>\n",
       "      <th>windspeed</th>\n",
       "      <th>event</th>\n",
       "    </tr>\n",
       "  </thead>\n",
       "  <tbody>\n",
       "    <tr>\n",
       "      <th>3</th>\n",
       "      <td>1/4/2020</td>\n",
       "      <td>38</td>\n",
       "      <td>38</td>\n",
       "      <td>sunny</td>\n",
       "    </tr>\n",
       "    <tr>\n",
       "      <th>4</th>\n",
       "      <td>1/5/2020</td>\n",
       "      <td>28</td>\n",
       "      <td>22</td>\n",
       "      <td>rain</td>\n",
       "    </tr>\n",
       "    <tr>\n",
       "      <th>5</th>\n",
       "      <td>1/6/2020</td>\n",
       "      <td>19</td>\n",
       "      <td>23</td>\n",
       "      <td>snow</td>\n",
       "    </tr>\n",
       "  </tbody>\n",
       "</table>\n",
       "</div>"
      ],
      "text/plain": [
       "        day  temp  windspeed  event\n",
       "3  1/4/2020    38         38  sunny\n",
       "4  1/5/2020    28         22   rain\n",
       "5  1/6/2020    19         23   snow"
      ]
     },
     "execution_count": 50,
     "metadata": {},
     "output_type": "execute_result"
    }
   ],
   "source": [
    "df1.tail(3)  ##Print last 3 values"
   ]
  },
  {
   "cell_type": "code",
   "execution_count": 51,
   "id": "8344494c",
   "metadata": {},
   "outputs": [
    {
     "data": {
      "text/plain": [
       "0    1/1/2020\n",
       "1    1/2/2020\n",
       "2    1/3/2020\n",
       "3    1/4/2020\n",
       "4    1/5/2020\n",
       "5    1/6/2020\n",
       "Name: day, dtype: object"
      ]
     },
     "execution_count": 51,
     "metadata": {},
     "output_type": "execute_result"
    }
   ],
   "source": [
    "df1.day     #Access coloumn which named day"
   ]
  },
  {
   "cell_type": "code",
   "execution_count": 54,
   "id": "27acafaf",
   "metadata": {},
   "outputs": [
    {
     "data": {
      "text/plain": [
       "0    12\n",
       "1    18\n",
       "2    17\n",
       "3    38\n",
       "4    22\n",
       "5    23\n",
       "Name: windspeed, dtype: int64"
      ]
     },
     "execution_count": 54,
     "metadata": {},
     "output_type": "execute_result"
    }
   ],
   "source": [
    "df1[\"windspeed\"]    #It also access that particular column"
   ]
  },
  {
   "cell_type": "code",
   "execution_count": 58,
   "id": "aced3be4",
   "metadata": {},
   "outputs": [
    {
     "data": {
      "text/html": [
       "<div>\n",
       "<style scoped>\n",
       "    .dataframe tbody tr th:only-of-type {\n",
       "        vertical-align: middle;\n",
       "    }\n",
       "\n",
       "    .dataframe tbody tr th {\n",
       "        vertical-align: top;\n",
       "    }\n",
       "\n",
       "    .dataframe thead th {\n",
       "        text-align: right;\n",
       "    }\n",
       "</style>\n",
       "<table border=\"1\" class=\"dataframe\">\n",
       "  <thead>\n",
       "    <tr style=\"text-align: right;\">\n",
       "      <th></th>\n",
       "      <th>day</th>\n",
       "      <th>temp</th>\n",
       "      <th>event</th>\n",
       "    </tr>\n",
       "  </thead>\n",
       "  <tbody>\n",
       "    <tr>\n",
       "      <th>0</th>\n",
       "      <td>1/1/2020</td>\n",
       "      <td>34</td>\n",
       "      <td>sunny</td>\n",
       "    </tr>\n",
       "    <tr>\n",
       "      <th>1</th>\n",
       "      <td>1/2/2020</td>\n",
       "      <td>23</td>\n",
       "      <td>rain</td>\n",
       "    </tr>\n",
       "    <tr>\n",
       "      <th>2</th>\n",
       "      <td>1/3/2020</td>\n",
       "      <td>41</td>\n",
       "      <td>overcast</td>\n",
       "    </tr>\n",
       "    <tr>\n",
       "      <th>3</th>\n",
       "      <td>1/4/2020</td>\n",
       "      <td>38</td>\n",
       "      <td>sunny</td>\n",
       "    </tr>\n",
       "    <tr>\n",
       "      <th>4</th>\n",
       "      <td>1/5/2020</td>\n",
       "      <td>28</td>\n",
       "      <td>rain</td>\n",
       "    </tr>\n",
       "    <tr>\n",
       "      <th>5</th>\n",
       "      <td>1/6/2020</td>\n",
       "      <td>19</td>\n",
       "      <td>snow</td>\n",
       "    </tr>\n",
       "  </tbody>\n",
       "</table>\n",
       "</div>"
      ],
      "text/plain": [
       "        day  temp     event\n",
       "0  1/1/2020    34     sunny\n",
       "1  1/2/2020    23      rain\n",
       "2  1/3/2020    41  overcast\n",
       "3  1/4/2020    38     sunny\n",
       "4  1/5/2020    28      rain\n",
       "5  1/6/2020    19      snow"
      ]
     },
     "execution_count": 58,
     "metadata": {},
     "output_type": "execute_result"
    }
   ],
   "source": [
    "#To access few columns from dataset (For that use list inside list)\n",
    "df2=df1[[\"day\",\"temp\",\"event\"]]  \n",
    "df2"
   ]
  },
  {
   "cell_type": "code",
   "execution_count": 57,
   "id": "25c22777",
   "metadata": {},
   "outputs": [
    {
     "data": {
      "text/html": [
       "<div>\n",
       "<style scoped>\n",
       "    .dataframe tbody tr th:only-of-type {\n",
       "        vertical-align: middle;\n",
       "    }\n",
       "\n",
       "    .dataframe tbody tr th {\n",
       "        vertical-align: top;\n",
       "    }\n",
       "\n",
       "    .dataframe thead th {\n",
       "        text-align: right;\n",
       "    }\n",
       "</style>\n",
       "<table border=\"1\" class=\"dataframe\">\n",
       "  <thead>\n",
       "    <tr style=\"text-align: right;\">\n",
       "      <th></th>\n",
       "      <th>temp</th>\n",
       "      <th>windspeed</th>\n",
       "    </tr>\n",
       "  </thead>\n",
       "  <tbody>\n",
       "    <tr>\n",
       "      <th>temp</th>\n",
       "      <td>1.000000</td>\n",
       "      <td>0.132388</td>\n",
       "    </tr>\n",
       "    <tr>\n",
       "      <th>windspeed</th>\n",
       "      <td>0.132388</td>\n",
       "      <td>1.000000</td>\n",
       "    </tr>\n",
       "  </tbody>\n",
       "</table>\n",
       "</div>"
      ],
      "text/plain": [
       "               temp  windspeed\n",
       "temp       1.000000   0.132388\n",
       "windspeed  0.132388   1.000000"
      ]
     },
     "execution_count": 57,
     "metadata": {},
     "output_type": "execute_result"
    }
   ],
   "source": [
    "#Determine Correlation  (Onle work with numerical values)   -- more the correlation more the similarity\n",
    "#                                                           -- more the correlation more the similarity\n",
    "df1.corr()       "
   ]
  },
  {
   "cell_type": "code",
   "execution_count": 62,
   "id": "2e139843",
   "metadata": {},
   "outputs": [
    {
     "data": {
      "text/html": [
       "<div>\n",
       "<style scoped>\n",
       "    .dataframe tbody tr th:only-of-type {\n",
       "        vertical-align: middle;\n",
       "    }\n",
       "\n",
       "    .dataframe tbody tr th {\n",
       "        vertical-align: top;\n",
       "    }\n",
       "\n",
       "    .dataframe thead th {\n",
       "        text-align: right;\n",
       "    }\n",
       "</style>\n",
       "<table border=\"1\" class=\"dataframe\">\n",
       "  <thead>\n",
       "    <tr style=\"text-align: right;\">\n",
       "      <th></th>\n",
       "      <th>day</th>\n",
       "      <th>temp</th>\n",
       "      <th>event</th>\n",
       "      <th>avg_temp</th>\n",
       "    </tr>\n",
       "  </thead>\n",
       "  <tbody>\n",
       "    <tr>\n",
       "      <th>0</th>\n",
       "      <td>1/1/2020</td>\n",
       "      <td>34</td>\n",
       "      <td>sunny</td>\n",
       "      <td>34</td>\n",
       "    </tr>\n",
       "    <tr>\n",
       "      <th>1</th>\n",
       "      <td>1/2/2020</td>\n",
       "      <td>23</td>\n",
       "      <td>rain</td>\n",
       "      <td>23</td>\n",
       "    </tr>\n",
       "    <tr>\n",
       "      <th>2</th>\n",
       "      <td>1/3/2020</td>\n",
       "      <td>41</td>\n",
       "      <td>overcast</td>\n",
       "      <td>41</td>\n",
       "    </tr>\n",
       "    <tr>\n",
       "      <th>3</th>\n",
       "      <td>1/4/2020</td>\n",
       "      <td>38</td>\n",
       "      <td>sunny</td>\n",
       "      <td>38</td>\n",
       "    </tr>\n",
       "    <tr>\n",
       "      <th>4</th>\n",
       "      <td>1/5/2020</td>\n",
       "      <td>28</td>\n",
       "      <td>rain</td>\n",
       "      <td>28</td>\n",
       "    </tr>\n",
       "    <tr>\n",
       "      <th>5</th>\n",
       "      <td>1/6/2020</td>\n",
       "      <td>19</td>\n",
       "      <td>snow</td>\n",
       "      <td>19</td>\n",
       "    </tr>\n",
       "  </tbody>\n",
       "</table>\n",
       "</div>"
      ],
      "text/plain": [
       "        day  temp     event  avg_temp\n",
       "0  1/1/2020    34     sunny        34\n",
       "1  1/2/2020    23      rain        23\n",
       "2  1/3/2020    41  overcast        41\n",
       "3  1/4/2020    38     sunny        38\n",
       "4  1/5/2020    28      rain        28\n",
       "5  1/6/2020    19      snow        19"
      ]
     },
     "execution_count": 62,
     "metadata": {},
     "output_type": "execute_result"
    }
   ],
   "source": [
    "df2[\"avg_temp\"]=[34,23,41,38,28,19]\n",
    "df2"
   ]
  },
  {
   "cell_type": "code",
   "execution_count": 63,
   "id": "765ca877",
   "metadata": {},
   "outputs": [
    {
     "data": {
      "text/html": [
       "<div>\n",
       "<style scoped>\n",
       "    .dataframe tbody tr th:only-of-type {\n",
       "        vertical-align: middle;\n",
       "    }\n",
       "\n",
       "    .dataframe tbody tr th {\n",
       "        vertical-align: top;\n",
       "    }\n",
       "\n",
       "    .dataframe thead th {\n",
       "        text-align: right;\n",
       "    }\n",
       "</style>\n",
       "<table border=\"1\" class=\"dataframe\">\n",
       "  <thead>\n",
       "    <tr style=\"text-align: right;\">\n",
       "      <th></th>\n",
       "      <th>temp</th>\n",
       "      <th>avg_temp</th>\n",
       "    </tr>\n",
       "  </thead>\n",
       "  <tbody>\n",
       "    <tr>\n",
       "      <th>temp</th>\n",
       "      <td>1.0</td>\n",
       "      <td>1.0</td>\n",
       "    </tr>\n",
       "    <tr>\n",
       "      <th>avg_temp</th>\n",
       "      <td>1.0</td>\n",
       "      <td>1.0</td>\n",
       "    </tr>\n",
       "  </tbody>\n",
       "</table>\n",
       "</div>"
      ],
      "text/plain": [
       "          temp  avg_temp\n",
       "temp       1.0       1.0\n",
       "avg_temp   1.0       1.0"
      ]
     },
     "execution_count": 63,
     "metadata": {},
     "output_type": "execute_result"
    }
   ],
   "source": [
    "df2.corr()      #It gives same correlation because all values are same"
   ]
  },
  {
   "cell_type": "code",
   "execution_count": 64,
   "id": "2e731773",
   "metadata": {},
   "outputs": [
    {
     "data": {
      "text/plain": [
       "23"
      ]
     },
     "execution_count": 64,
     "metadata": {},
     "output_type": "execute_result"
    }
   ],
   "source": [
    "df2.temp[1]   #To access value from particular column"
   ]
  },
  {
   "cell_type": "code",
   "execution_count": 66,
   "id": "d60b579b",
   "metadata": {},
   "outputs": [
    {
     "data": {
      "text/plain": [
       "[0     True\n",
       " 1    False\n",
       " 2     True\n",
       " 3     True\n",
       " 4    False\n",
       " 5    False\n",
       " Name: temp, dtype: bool]"
      ]
     },
     "execution_count": 66,
     "metadata": {},
     "output_type": "execute_result"
    }
   ],
   "source": [
    "[df1[\"temp\"]>30]"
   ]
  },
  {
   "cell_type": "code",
   "execution_count": 68,
   "id": "a7173541",
   "metadata": {},
   "outputs": [
    {
     "data": {
      "text/html": [
       "<div>\n",
       "<style scoped>\n",
       "    .dataframe tbody tr th:only-of-type {\n",
       "        vertical-align: middle;\n",
       "    }\n",
       "\n",
       "    .dataframe tbody tr th {\n",
       "        vertical-align: top;\n",
       "    }\n",
       "\n",
       "    .dataframe thead th {\n",
       "        text-align: right;\n",
       "    }\n",
       "</style>\n",
       "<table border=\"1\" class=\"dataframe\">\n",
       "  <thead>\n",
       "    <tr style=\"text-align: right;\">\n",
       "      <th></th>\n",
       "      <th>day</th>\n",
       "      <th>temp</th>\n",
       "      <th>windspeed</th>\n",
       "      <th>event</th>\n",
       "    </tr>\n",
       "  </thead>\n",
       "  <tbody>\n",
       "    <tr>\n",
       "      <th>0</th>\n",
       "      <td>1/1/2020</td>\n",
       "      <td>34</td>\n",
       "      <td>12</td>\n",
       "      <td>sunny</td>\n",
       "    </tr>\n",
       "    <tr>\n",
       "      <th>2</th>\n",
       "      <td>1/3/2020</td>\n",
       "      <td>41</td>\n",
       "      <td>17</td>\n",
       "      <td>overcast</td>\n",
       "    </tr>\n",
       "    <tr>\n",
       "      <th>3</th>\n",
       "      <td>1/4/2020</td>\n",
       "      <td>38</td>\n",
       "      <td>38</td>\n",
       "      <td>sunny</td>\n",
       "    </tr>\n",
       "  </tbody>\n",
       "</table>\n",
       "</div>"
      ],
      "text/plain": [
       "        day  temp  windspeed     event\n",
       "0  1/1/2020    34         12     sunny\n",
       "2  1/3/2020    41         17  overcast\n",
       "3  1/4/2020    38         38     sunny"
      ]
     },
     "execution_count": 68,
     "metadata": {},
     "output_type": "execute_result"
    }
   ],
   "source": [
    "df1[df1[\"temp\"]>30]   #Values greater than 30"
   ]
  },
  {
   "cell_type": "code",
   "execution_count": 69,
   "id": "b28de755",
   "metadata": {},
   "outputs": [
    {
     "data": {
      "text/plain": [
       "1    1/2/2020\n",
       "5    1/6/2020\n",
       "Name: day, dtype: object"
      ]
     },
     "execution_count": 69,
     "metadata": {},
     "output_type": "execute_result"
    }
   ],
   "source": [
    "df1[\"day\"][df1[\"temp\"]<25] "
   ]
  },
  {
   "cell_type": "markdown",
   "id": "5167bd86",
   "metadata": {},
   "source": [
    "##### Save DataFrame to csv file"
   ]
  },
  {
   "cell_type": "code",
   "execution_count": 70,
   "id": "b6efc026",
   "metadata": {},
   "outputs": [],
   "source": [
    "df1.to_csv(\"weather_data_csv\")    #Data saved to your local machine"
   ]
  },
  {
   "cell_type": "code",
   "execution_count": null,
   "id": "8de6f1e3",
   "metadata": {},
   "outputs": [],
   "source": []
  },
  {
   "cell_type": "markdown",
   "id": "3009dc64",
   "metadata": {},
   "source": [
    "## How to read data from files"
   ]
  },
  {
   "cell_type": "markdown",
   "id": "bd969192",
   "metadata": {},
   "source": [
    "#### 1.Read Data from Excel File"
   ]
  },
  {
   "cell_type": "code",
   "execution_count": 33,
   "id": "a0b5ccac",
   "metadata": {},
   "outputs": [],
   "source": [
    "df=pd.read_excel(\"/home/divyasale/Downloads/superstore_sales.xlsx\")"
   ]
  },
  {
   "cell_type": "code",
   "execution_count": 34,
   "id": "dc29d659",
   "metadata": {},
   "outputs": [
    {
     "data": {
      "text/html": [
       "<div>\n",
       "<style scoped>\n",
       "    .dataframe tbody tr th:only-of-type {\n",
       "        vertical-align: middle;\n",
       "    }\n",
       "\n",
       "    .dataframe tbody tr th {\n",
       "        vertical-align: top;\n",
       "    }\n",
       "\n",
       "    .dataframe thead th {\n",
       "        text-align: right;\n",
       "    }\n",
       "</style>\n",
       "<table border=\"1\" class=\"dataframe\">\n",
       "  <thead>\n",
       "    <tr style=\"text-align: right;\">\n",
       "      <th></th>\n",
       "      <th>order_id</th>\n",
       "      <th>order_date</th>\n",
       "      <th>ship_date</th>\n",
       "      <th>ship_mode</th>\n",
       "      <th>customer_name</th>\n",
       "      <th>segment</th>\n",
       "      <th>state</th>\n",
       "      <th>country</th>\n",
       "      <th>market</th>\n",
       "      <th>region</th>\n",
       "      <th>...</th>\n",
       "      <th>category</th>\n",
       "      <th>sub_category</th>\n",
       "      <th>product_name</th>\n",
       "      <th>sales</th>\n",
       "      <th>quantity</th>\n",
       "      <th>discount</th>\n",
       "      <th>profit</th>\n",
       "      <th>shipping_cost</th>\n",
       "      <th>order_priority</th>\n",
       "      <th>year</th>\n",
       "    </tr>\n",
       "  </thead>\n",
       "  <tbody>\n",
       "    <tr>\n",
       "      <th>0</th>\n",
       "      <td>AG-2011-2040</td>\n",
       "      <td>2011-01-01</td>\n",
       "      <td>2011-01-06</td>\n",
       "      <td>Standard Class</td>\n",
       "      <td>Toby Braunhardt</td>\n",
       "      <td>Consumer</td>\n",
       "      <td>Constantine</td>\n",
       "      <td>Algeria</td>\n",
       "      <td>Africa</td>\n",
       "      <td>Africa</td>\n",
       "      <td>...</td>\n",
       "      <td>Office Supplies</td>\n",
       "      <td>Storage</td>\n",
       "      <td>Tenex Lockers, Blue</td>\n",
       "      <td>408.300</td>\n",
       "      <td>2.0</td>\n",
       "      <td>0.0</td>\n",
       "      <td>106.140</td>\n",
       "      <td>35.46</td>\n",
       "      <td>Medium</td>\n",
       "      <td>2011</td>\n",
       "    </tr>\n",
       "    <tr>\n",
       "      <th>1</th>\n",
       "      <td>IN-2011-47883</td>\n",
       "      <td>2011-01-01</td>\n",
       "      <td>2011-01-08</td>\n",
       "      <td>Standard Class</td>\n",
       "      <td>Joseph Holt</td>\n",
       "      <td>Consumer</td>\n",
       "      <td>New South Wales</td>\n",
       "      <td>Australia</td>\n",
       "      <td>APAC</td>\n",
       "      <td>Oceania</td>\n",
       "      <td>...</td>\n",
       "      <td>Office Supplies</td>\n",
       "      <td>Supplies</td>\n",
       "      <td>Acme Trimmer, High Speed</td>\n",
       "      <td>120.366</td>\n",
       "      <td>3.0</td>\n",
       "      <td>0.1</td>\n",
       "      <td>36.036</td>\n",
       "      <td>9.72</td>\n",
       "      <td>Medium</td>\n",
       "      <td>2011</td>\n",
       "    </tr>\n",
       "    <tr>\n",
       "      <th>2</th>\n",
       "      <td>HU-2011-1220</td>\n",
       "      <td>2011-01-01</td>\n",
       "      <td>2011-01-05</td>\n",
       "      <td>Second Class</td>\n",
       "      <td>Annie Thurman</td>\n",
       "      <td>Consumer</td>\n",
       "      <td>Budapest</td>\n",
       "      <td>Hungary</td>\n",
       "      <td>EMEA</td>\n",
       "      <td>EMEA</td>\n",
       "      <td>...</td>\n",
       "      <td>Office Supplies</td>\n",
       "      <td>Storage</td>\n",
       "      <td>Tenex Box, Single Width</td>\n",
       "      <td>66.120</td>\n",
       "      <td>4.0</td>\n",
       "      <td>NaN</td>\n",
       "      <td>29.640</td>\n",
       "      <td>8.17</td>\n",
       "      <td>High</td>\n",
       "      <td>2011</td>\n",
       "    </tr>\n",
       "    <tr>\n",
       "      <th>3</th>\n",
       "      <td>IT-2011-3647632</td>\n",
       "      <td>2011-01-01</td>\n",
       "      <td>2011-01-05</td>\n",
       "      <td>Second Class</td>\n",
       "      <td>Eugene Moren</td>\n",
       "      <td>Home Office</td>\n",
       "      <td>Stockholm</td>\n",
       "      <td>Sweden</td>\n",
       "      <td>EU</td>\n",
       "      <td>North</td>\n",
       "      <td>...</td>\n",
       "      <td>Office Supplies</td>\n",
       "      <td>Paper</td>\n",
       "      <td>Enermax Note Cards, Premium</td>\n",
       "      <td>44.865</td>\n",
       "      <td>3.0</td>\n",
       "      <td>0.5</td>\n",
       "      <td>-26.055</td>\n",
       "      <td>4.82</td>\n",
       "      <td>High</td>\n",
       "      <td>2011</td>\n",
       "    </tr>\n",
       "    <tr>\n",
       "      <th>4</th>\n",
       "      <td>IN-2011-47883</td>\n",
       "      <td>2011-01-01</td>\n",
       "      <td>2011-01-08</td>\n",
       "      <td>Standard Class</td>\n",
       "      <td>Joseph Holt</td>\n",
       "      <td>Consumer</td>\n",
       "      <td>New South Wales</td>\n",
       "      <td>Australia</td>\n",
       "      <td>APAC</td>\n",
       "      <td>Oceania</td>\n",
       "      <td>...</td>\n",
       "      <td>Furniture</td>\n",
       "      <td>Furnishings</td>\n",
       "      <td>Eldon Light Bulb, Duo Pack</td>\n",
       "      <td>113.670</td>\n",
       "      <td>5.0</td>\n",
       "      <td>0.1</td>\n",
       "      <td>37.770</td>\n",
       "      <td>4.70</td>\n",
       "      <td>Medium</td>\n",
       "      <td>2011</td>\n",
       "    </tr>\n",
       "  </tbody>\n",
       "</table>\n",
       "<p>5 rows × 21 columns</p>\n",
       "</div>"
      ],
      "text/plain": [
       "          order_id order_date  ship_date       ship_mode    customer_name  \\\n",
       "0     AG-2011-2040 2011-01-01 2011-01-06  Standard Class  Toby Braunhardt   \n",
       "1    IN-2011-47883 2011-01-01 2011-01-08  Standard Class      Joseph Holt   \n",
       "2     HU-2011-1220 2011-01-01 2011-01-05    Second Class    Annie Thurman   \n",
       "3  IT-2011-3647632 2011-01-01 2011-01-05    Second Class     Eugene Moren   \n",
       "4    IN-2011-47883 2011-01-01 2011-01-08  Standard Class      Joseph Holt   \n",
       "\n",
       "       segment            state    country  market   region  ...  \\\n",
       "0     Consumer      Constantine    Algeria  Africa   Africa  ...   \n",
       "1     Consumer  New South Wales  Australia    APAC  Oceania  ...   \n",
       "2     Consumer         Budapest    Hungary    EMEA     EMEA  ...   \n",
       "3  Home Office        Stockholm     Sweden      EU    North  ...   \n",
       "4     Consumer  New South Wales  Australia    APAC  Oceania  ...   \n",
       "\n",
       "          category sub_category                 product_name    sales  \\\n",
       "0  Office Supplies      Storage          Tenex Lockers, Blue  408.300   \n",
       "1  Office Supplies     Supplies     Acme Trimmer, High Speed  120.366   \n",
       "2  Office Supplies      Storage      Tenex Box, Single Width   66.120   \n",
       "3  Office Supplies        Paper  Enermax Note Cards, Premium   44.865   \n",
       "4        Furniture  Furnishings   Eldon Light Bulb, Duo Pack  113.670   \n",
       "\n",
       "   quantity  discount   profit  shipping_cost  order_priority  year  \n",
       "0       2.0       0.0  106.140          35.46          Medium  2011  \n",
       "1       3.0       0.1   36.036           9.72          Medium  2011  \n",
       "2       4.0       NaN   29.640           8.17            High  2011  \n",
       "3       3.0       0.5  -26.055           4.82            High  2011  \n",
       "4       5.0       0.1   37.770           4.70          Medium  2011  \n",
       "\n",
       "[5 rows x 21 columns]"
      ]
     },
     "execution_count": 34,
     "metadata": {},
     "output_type": "execute_result"
    }
   ],
   "source": [
    "df.head()"
   ]
  },
  {
   "cell_type": "markdown",
   "id": "668868e7",
   "metadata": {},
   "source": [
    "#### 2. Read data from csv file"
   ]
  },
  {
   "cell_type": "code",
   "execution_count": 5,
   "id": "b0842e1c",
   "metadata": {},
   "outputs": [],
   "source": [
    "df3=pd.read_csv(\"weather_data_csv\")"
   ]
  },
  {
   "cell_type": "code",
   "execution_count": 6,
   "id": "335bc43a",
   "metadata": {},
   "outputs": [
    {
     "data": {
      "text/html": [
       "<div>\n",
       "<style scoped>\n",
       "    .dataframe tbody tr th:only-of-type {\n",
       "        vertical-align: middle;\n",
       "    }\n",
       "\n",
       "    .dataframe tbody tr th {\n",
       "        vertical-align: top;\n",
       "    }\n",
       "\n",
       "    .dataframe thead th {\n",
       "        text-align: right;\n",
       "    }\n",
       "</style>\n",
       "<table border=\"1\" class=\"dataframe\">\n",
       "  <thead>\n",
       "    <tr style=\"text-align: right;\">\n",
       "      <th></th>\n",
       "      <th>Unnamed: 0</th>\n",
       "      <th>day</th>\n",
       "      <th>temp</th>\n",
       "      <th>windspeed</th>\n",
       "      <th>event</th>\n",
       "    </tr>\n",
       "  </thead>\n",
       "  <tbody>\n",
       "    <tr>\n",
       "      <th>0</th>\n",
       "      <td>0</td>\n",
       "      <td>1/1/2020</td>\n",
       "      <td>34</td>\n",
       "      <td>12</td>\n",
       "      <td>sunny</td>\n",
       "    </tr>\n",
       "    <tr>\n",
       "      <th>1</th>\n",
       "      <td>1</td>\n",
       "      <td>1/2/2020</td>\n",
       "      <td>23</td>\n",
       "      <td>18</td>\n",
       "      <td>rain</td>\n",
       "    </tr>\n",
       "    <tr>\n",
       "      <th>2</th>\n",
       "      <td>2</td>\n",
       "      <td>1/3/2020</td>\n",
       "      <td>41</td>\n",
       "      <td>17</td>\n",
       "      <td>overcast</td>\n",
       "    </tr>\n",
       "    <tr>\n",
       "      <th>3</th>\n",
       "      <td>3</td>\n",
       "      <td>1/4/2020</td>\n",
       "      <td>38</td>\n",
       "      <td>38</td>\n",
       "      <td>sunny</td>\n",
       "    </tr>\n",
       "    <tr>\n",
       "      <th>4</th>\n",
       "      <td>4</td>\n",
       "      <td>1/5/2020</td>\n",
       "      <td>28</td>\n",
       "      <td>22</td>\n",
       "      <td>rain</td>\n",
       "    </tr>\n",
       "    <tr>\n",
       "      <th>5</th>\n",
       "      <td>5</td>\n",
       "      <td>1/6/2020</td>\n",
       "      <td>19</td>\n",
       "      <td>23</td>\n",
       "      <td>snow</td>\n",
       "    </tr>\n",
       "  </tbody>\n",
       "</table>\n",
       "</div>"
      ],
      "text/plain": [
       "   Unnamed: 0       day  temp  windspeed     event\n",
       "0           0  1/1/2020    34         12     sunny\n",
       "1           1  1/2/2020    23         18      rain\n",
       "2           2  1/3/2020    41         17  overcast\n",
       "3           3  1/4/2020    38         38     sunny\n",
       "4           4  1/5/2020    28         22      rain\n",
       "5           5  1/6/2020    19         23      snow"
      ]
     },
     "execution_count": 6,
     "metadata": {},
     "output_type": "execute_result"
    }
   ],
   "source": [
    "df3"
   ]
  },
  {
   "cell_type": "code",
   "execution_count": 7,
   "id": "0bab44b3",
   "metadata": {},
   "outputs": [],
   "source": [
    "df4=df3.drop(\"Unnamed: 0\",axis=1)"
   ]
  },
  {
   "cell_type": "code",
   "execution_count": 8,
   "id": "fcb2e44f",
   "metadata": {},
   "outputs": [
    {
     "data": {
      "text/html": [
       "<div>\n",
       "<style scoped>\n",
       "    .dataframe tbody tr th:only-of-type {\n",
       "        vertical-align: middle;\n",
       "    }\n",
       "\n",
       "    .dataframe tbody tr th {\n",
       "        vertical-align: top;\n",
       "    }\n",
       "\n",
       "    .dataframe thead th {\n",
       "        text-align: right;\n",
       "    }\n",
       "</style>\n",
       "<table border=\"1\" class=\"dataframe\">\n",
       "  <thead>\n",
       "    <tr style=\"text-align: right;\">\n",
       "      <th></th>\n",
       "      <th>day</th>\n",
       "      <th>temp</th>\n",
       "      <th>windspeed</th>\n",
       "      <th>event</th>\n",
       "    </tr>\n",
       "  </thead>\n",
       "  <tbody>\n",
       "    <tr>\n",
       "      <th>0</th>\n",
       "      <td>1/1/2020</td>\n",
       "      <td>34</td>\n",
       "      <td>12</td>\n",
       "      <td>sunny</td>\n",
       "    </tr>\n",
       "    <tr>\n",
       "      <th>1</th>\n",
       "      <td>1/2/2020</td>\n",
       "      <td>23</td>\n",
       "      <td>18</td>\n",
       "      <td>rain</td>\n",
       "    </tr>\n",
       "    <tr>\n",
       "      <th>2</th>\n",
       "      <td>1/3/2020</td>\n",
       "      <td>41</td>\n",
       "      <td>17</td>\n",
       "      <td>overcast</td>\n",
       "    </tr>\n",
       "    <tr>\n",
       "      <th>3</th>\n",
       "      <td>1/4/2020</td>\n",
       "      <td>38</td>\n",
       "      <td>38</td>\n",
       "      <td>sunny</td>\n",
       "    </tr>\n",
       "    <tr>\n",
       "      <th>4</th>\n",
       "      <td>1/5/2020</td>\n",
       "      <td>28</td>\n",
       "      <td>22</td>\n",
       "      <td>rain</td>\n",
       "    </tr>\n",
       "    <tr>\n",
       "      <th>5</th>\n",
       "      <td>1/6/2020</td>\n",
       "      <td>19</td>\n",
       "      <td>23</td>\n",
       "      <td>snow</td>\n",
       "    </tr>\n",
       "  </tbody>\n",
       "</table>\n",
       "</div>"
      ],
      "text/plain": [
       "        day  temp  windspeed     event\n",
       "0  1/1/2020    34         12     sunny\n",
       "1  1/2/2020    23         18      rain\n",
       "2  1/3/2020    41         17  overcast\n",
       "3  1/4/2020    38         38     sunny\n",
       "4  1/5/2020    28         22      rain\n",
       "5  1/6/2020    19         23      snow"
      ]
     },
     "execution_count": 8,
     "metadata": {},
     "output_type": "execute_result"
    }
   ],
   "source": [
    "df4"
   ]
  },
  {
   "cell_type": "code",
   "execution_count": 11,
   "id": "89592303",
   "metadata": {},
   "outputs": [
    {
     "data": {
      "text/plain": [
       "30.5"
      ]
     },
     "execution_count": 11,
     "metadata": {},
     "output_type": "execute_result"
    }
   ],
   "source": [
    "df4.temp.mean()"
   ]
  },
  {
   "cell_type": "code",
   "execution_count": 12,
   "id": "d45eb6ce",
   "metadata": {},
   "outputs": [
    {
     "data": {
      "text/plain": [
       "38"
      ]
     },
     "execution_count": 12,
     "metadata": {},
     "output_type": "execute_result"
    }
   ],
   "source": [
    "df4.windspeed.max()"
   ]
  },
  {
   "cell_type": "code",
   "execution_count": 13,
   "id": "135ae7be",
   "metadata": {},
   "outputs": [
    {
     "data": {
      "text/plain": [
       "0     rain\n",
       "1    sunny\n",
       "dtype: object"
      ]
     },
     "execution_count": 13,
     "metadata": {},
     "output_type": "execute_result"
    }
   ],
   "source": [
    "df4.event.mode()"
   ]
  },
  {
   "cell_type": "markdown",
   "id": "b180156d",
   "metadata": {},
   "source": [
    "#### How to work with JSON Files"
   ]
  },
  {
   "cell_type": "code",
   "execution_count": 15,
   "id": "fe812bc2",
   "metadata": {},
   "outputs": [],
   "source": [
    "df=pd.read_json(\"/home/divyasale/Downloads/sample1.json\")"
   ]
  },
  {
   "cell_type": "code",
   "execution_count": 16,
   "id": "0b4fe6b2",
   "metadata": {},
   "outputs": [
    {
     "data": {
      "text/html": [
       "<div>\n",
       "<style scoped>\n",
       "    .dataframe tbody tr th:only-of-type {\n",
       "        vertical-align: middle;\n",
       "    }\n",
       "\n",
       "    .dataframe tbody tr th {\n",
       "        vertical-align: top;\n",
       "    }\n",
       "\n",
       "    .dataframe thead th {\n",
       "        text-align: right;\n",
       "    }\n",
       "</style>\n",
       "<table border=\"1\" class=\"dataframe\">\n",
       "  <thead>\n",
       "    <tr style=\"text-align: right;\">\n",
       "      <th></th>\n",
       "      <th>id</th>\n",
       "      <th>name</th>\n",
       "      <th>math</th>\n",
       "      <th>physics</th>\n",
       "      <th>chemistry</th>\n",
       "    </tr>\n",
       "  </thead>\n",
       "  <tbody>\n",
       "    <tr>\n",
       "      <th>0</th>\n",
       "      <td>A001</td>\n",
       "      <td>Kavya</td>\n",
       "      <td>60</td>\n",
       "      <td>66</td>\n",
       "      <td>61</td>\n",
       "    </tr>\n",
       "    <tr>\n",
       "      <th>1</th>\n",
       "      <td>A002</td>\n",
       "      <td>Divyanshi</td>\n",
       "      <td>89</td>\n",
       "      <td>76</td>\n",
       "      <td>51</td>\n",
       "    </tr>\n",
       "    <tr>\n",
       "      <th>2</th>\n",
       "      <td>A003</td>\n",
       "      <td>Dnyanada</td>\n",
       "      <td>79</td>\n",
       "      <td>90</td>\n",
       "      <td>78</td>\n",
       "    </tr>\n",
       "  </tbody>\n",
       "</table>\n",
       "</div>"
      ],
      "text/plain": [
       "     id       name  math  physics  chemistry\n",
       "0  A001      Kavya    60       66         61\n",
       "1  A002  Divyanshi    89       76         51\n",
       "2  A003   Dnyanada    79       90         78"
      ]
     },
     "execution_count": 16,
     "metadata": {},
     "output_type": "execute_result"
    }
   ],
   "source": [
    "df"
   ]
  },
  {
   "cell_type": "code",
   "execution_count": 17,
   "id": "8eefa0f2",
   "metadata": {},
   "outputs": [
    {
     "data": {
      "text/plain": [
       "(3, 5)"
      ]
     },
     "execution_count": 17,
     "metadata": {},
     "output_type": "execute_result"
    }
   ],
   "source": [
    "df.shape"
   ]
  },
  {
   "cell_type": "code",
   "execution_count": 18,
   "id": "9f479cf9",
   "metadata": {},
   "outputs": [
    {
     "data": {
      "text/plain": [
       "15"
      ]
     },
     "execution_count": 18,
     "metadata": {},
     "output_type": "execute_result"
    }
   ],
   "source": [
    "df.size"
   ]
  },
  {
   "cell_type": "code",
   "execution_count": 19,
   "id": "62bc2a56",
   "metadata": {},
   "outputs": [
    {
     "data": {
      "text/plain": [
       "<bound method DataFrame.info of      id       name  math  physics  chemistry\n",
       "0  A001      Kavya    60       66         61\n",
       "1  A002  Divyanshi    89       76         51\n",
       "2  A003   Dnyanada    79       90         78>"
      ]
     },
     "execution_count": 19,
     "metadata": {},
     "output_type": "execute_result"
    }
   ],
   "source": [
    "df.info"
   ]
  },
  {
   "cell_type": "code",
   "execution_count": 20,
   "id": "6a00bf94",
   "metadata": {},
   "outputs": [
    {
     "name": "stdout",
     "output_type": "stream",
     "text": [
      "77.33333333333333\n",
      "76.0\n",
      "63.333333333333336\n"
     ]
    }
   ],
   "source": [
    "print(df.physics.mean())\n",
    "print(df.math.mean())\n",
    "print(df.chemistry.mean())"
   ]
  },
  {
   "cell_type": "markdown",
   "id": "c5455a42",
   "metadata": {},
   "source": [
    "#### How to read data directly from internet"
   ]
  },
  {
   "cell_type": "code",
   "execution_count": 21,
   "id": "b86c05e1",
   "metadata": {},
   "outputs": [],
   "source": [
    "df1=pd.read_json(\"https://raw.githubusercontent.com/goradbj/AI/main/sample.json\")"
   ]
  },
  {
   "cell_type": "code",
   "execution_count": 22,
   "id": "8019ee87",
   "metadata": {},
   "outputs": [
    {
     "data": {
      "text/html": [
       "<div>\n",
       "<style scoped>\n",
       "    .dataframe tbody tr th:only-of-type {\n",
       "        vertical-align: middle;\n",
       "    }\n",
       "\n",
       "    .dataframe tbody tr th {\n",
       "        vertical-align: top;\n",
       "    }\n",
       "\n",
       "    .dataframe thead th {\n",
       "        text-align: right;\n",
       "    }\n",
       "</style>\n",
       "<table border=\"1\" class=\"dataframe\">\n",
       "  <thead>\n",
       "    <tr style=\"text-align: right;\">\n",
       "      <th></th>\n",
       "      <th>id</th>\n",
       "      <th>name</th>\n",
       "      <th>math</th>\n",
       "      <th>physics</th>\n",
       "      <th>chemistry</th>\n",
       "    </tr>\n",
       "  </thead>\n",
       "  <tbody>\n",
       "    <tr>\n",
       "      <th>0</th>\n",
       "      <td>A001</td>\n",
       "      <td>Kavya</td>\n",
       "      <td>60</td>\n",
       "      <td>66</td>\n",
       "      <td>61</td>\n",
       "    </tr>\n",
       "    <tr>\n",
       "      <th>1</th>\n",
       "      <td>A002</td>\n",
       "      <td>Divyanshi</td>\n",
       "      <td>89</td>\n",
       "      <td>76</td>\n",
       "      <td>51</td>\n",
       "    </tr>\n",
       "    <tr>\n",
       "      <th>2</th>\n",
       "      <td>A003</td>\n",
       "      <td>Dnyanada</td>\n",
       "      <td>79</td>\n",
       "      <td>90</td>\n",
       "      <td>78</td>\n",
       "    </tr>\n",
       "  </tbody>\n",
       "</table>\n",
       "</div>"
      ],
      "text/plain": [
       "     id       name  math  physics  chemistry\n",
       "0  A001      Kavya    60       66         61\n",
       "1  A002  Divyanshi    89       76         51\n",
       "2  A003   Dnyanada    79       90         78"
      ]
     },
     "execution_count": 22,
     "metadata": {},
     "output_type": "execute_result"
    }
   ],
   "source": [
    "df1"
   ]
  },
  {
   "cell_type": "markdown",
   "id": "a4dc8fe6",
   "metadata": {},
   "source": [
    "## Data Preprocessing using Pandas"
   ]
  },
  {
   "cell_type": "markdown",
   "id": "542fbe30",
   "metadata": {},
   "source": [
    "##### Read csv file directly from internet"
   ]
  },
  {
   "cell_type": "code",
   "execution_count": 8,
   "id": "78b805b3",
   "metadata": {},
   "outputs": [],
   "source": [
    "bank_data=pd.read_csv(\"https://raw.githubusercontent.com/goradbj/MachineLearning/main/Bank_Loan_Approval.csv\")"
   ]
  },
  {
   "cell_type": "code",
   "execution_count": 9,
   "id": "4c0cee58",
   "metadata": {},
   "outputs": [
    {
     "data": {
      "text/html": [
       "<div>\n",
       "<style scoped>\n",
       "    .dataframe tbody tr th:only-of-type {\n",
       "        vertical-align: middle;\n",
       "    }\n",
       "\n",
       "    .dataframe tbody tr th {\n",
       "        vertical-align: top;\n",
       "    }\n",
       "\n",
       "    .dataframe thead th {\n",
       "        text-align: right;\n",
       "    }\n",
       "</style>\n",
       "<table border=\"1\" class=\"dataframe\">\n",
       "  <thead>\n",
       "    <tr style=\"text-align: right;\">\n",
       "      <th></th>\n",
       "      <th>Loan_ID</th>\n",
       "      <th>Gender</th>\n",
       "      <th>Married</th>\n",
       "      <th>Dependents</th>\n",
       "      <th>Education</th>\n",
       "      <th>Self_Employed</th>\n",
       "      <th>ApplicantIncome</th>\n",
       "      <th>CoapplicantIncome</th>\n",
       "      <th>LoanAmount</th>\n",
       "      <th>Loan_Amount_Term</th>\n",
       "      <th>Credit_History</th>\n",
       "      <th>Property_Area</th>\n",
       "      <th>Loan_Status</th>\n",
       "    </tr>\n",
       "  </thead>\n",
       "  <tbody>\n",
       "    <tr>\n",
       "      <th>0</th>\n",
       "      <td>LP001002</td>\n",
       "      <td>Male</td>\n",
       "      <td>No</td>\n",
       "      <td>0</td>\n",
       "      <td>Graduate</td>\n",
       "      <td>No</td>\n",
       "      <td>5849</td>\n",
       "      <td>0.0</td>\n",
       "      <td>NaN</td>\n",
       "      <td>360.0</td>\n",
       "      <td>1.0</td>\n",
       "      <td>Urban</td>\n",
       "      <td>Y</td>\n",
       "    </tr>\n",
       "    <tr>\n",
       "      <th>1</th>\n",
       "      <td>LP001003</td>\n",
       "      <td>Male</td>\n",
       "      <td>Yes</td>\n",
       "      <td>1</td>\n",
       "      <td>Graduate</td>\n",
       "      <td>No</td>\n",
       "      <td>4583</td>\n",
       "      <td>1508.0</td>\n",
       "      <td>128.0</td>\n",
       "      <td>360.0</td>\n",
       "      <td>1.0</td>\n",
       "      <td>Rural</td>\n",
       "      <td>N</td>\n",
       "    </tr>\n",
       "    <tr>\n",
       "      <th>2</th>\n",
       "      <td>LP001005</td>\n",
       "      <td>Male</td>\n",
       "      <td>Yes</td>\n",
       "      <td>0</td>\n",
       "      <td>Graduate</td>\n",
       "      <td>Yes</td>\n",
       "      <td>3000</td>\n",
       "      <td>0.0</td>\n",
       "      <td>66.0</td>\n",
       "      <td>360.0</td>\n",
       "      <td>1.0</td>\n",
       "      <td>Urban</td>\n",
       "      <td>Y</td>\n",
       "    </tr>\n",
       "    <tr>\n",
       "      <th>3</th>\n",
       "      <td>LP001006</td>\n",
       "      <td>Male</td>\n",
       "      <td>Yes</td>\n",
       "      <td>0</td>\n",
       "      <td>Not Graduate</td>\n",
       "      <td>No</td>\n",
       "      <td>2583</td>\n",
       "      <td>2358.0</td>\n",
       "      <td>120.0</td>\n",
       "      <td>360.0</td>\n",
       "      <td>1.0</td>\n",
       "      <td>Urban</td>\n",
       "      <td>Y</td>\n",
       "    </tr>\n",
       "    <tr>\n",
       "      <th>4</th>\n",
       "      <td>LP001008</td>\n",
       "      <td>Male</td>\n",
       "      <td>No</td>\n",
       "      <td>0</td>\n",
       "      <td>Graduate</td>\n",
       "      <td>No</td>\n",
       "      <td>6000</td>\n",
       "      <td>0.0</td>\n",
       "      <td>141.0</td>\n",
       "      <td>360.0</td>\n",
       "      <td>1.0</td>\n",
       "      <td>Urban</td>\n",
       "      <td>Y</td>\n",
       "    </tr>\n",
       "    <tr>\n",
       "      <th>...</th>\n",
       "      <td>...</td>\n",
       "      <td>...</td>\n",
       "      <td>...</td>\n",
       "      <td>...</td>\n",
       "      <td>...</td>\n",
       "      <td>...</td>\n",
       "      <td>...</td>\n",
       "      <td>...</td>\n",
       "      <td>...</td>\n",
       "      <td>...</td>\n",
       "      <td>...</td>\n",
       "      <td>...</td>\n",
       "      <td>...</td>\n",
       "    </tr>\n",
       "    <tr>\n",
       "      <th>609</th>\n",
       "      <td>LP002978</td>\n",
       "      <td>Female</td>\n",
       "      <td>No</td>\n",
       "      <td>0</td>\n",
       "      <td>Graduate</td>\n",
       "      <td>No</td>\n",
       "      <td>2900</td>\n",
       "      <td>0.0</td>\n",
       "      <td>71.0</td>\n",
       "      <td>360.0</td>\n",
       "      <td>1.0</td>\n",
       "      <td>Rural</td>\n",
       "      <td>Y</td>\n",
       "    </tr>\n",
       "    <tr>\n",
       "      <th>610</th>\n",
       "      <td>LP002979</td>\n",
       "      <td>Male</td>\n",
       "      <td>Yes</td>\n",
       "      <td>3+</td>\n",
       "      <td>Graduate</td>\n",
       "      <td>No</td>\n",
       "      <td>4106</td>\n",
       "      <td>0.0</td>\n",
       "      <td>40.0</td>\n",
       "      <td>180.0</td>\n",
       "      <td>1.0</td>\n",
       "      <td>Rural</td>\n",
       "      <td>Y</td>\n",
       "    </tr>\n",
       "    <tr>\n",
       "      <th>611</th>\n",
       "      <td>LP002983</td>\n",
       "      <td>Male</td>\n",
       "      <td>Yes</td>\n",
       "      <td>1</td>\n",
       "      <td>Graduate</td>\n",
       "      <td>No</td>\n",
       "      <td>8072</td>\n",
       "      <td>240.0</td>\n",
       "      <td>253.0</td>\n",
       "      <td>360.0</td>\n",
       "      <td>1.0</td>\n",
       "      <td>Urban</td>\n",
       "      <td>Y</td>\n",
       "    </tr>\n",
       "    <tr>\n",
       "      <th>612</th>\n",
       "      <td>LP002984</td>\n",
       "      <td>Male</td>\n",
       "      <td>Yes</td>\n",
       "      <td>2</td>\n",
       "      <td>Graduate</td>\n",
       "      <td>No</td>\n",
       "      <td>7583</td>\n",
       "      <td>0.0</td>\n",
       "      <td>187.0</td>\n",
       "      <td>360.0</td>\n",
       "      <td>1.0</td>\n",
       "      <td>Urban</td>\n",
       "      <td>Y</td>\n",
       "    </tr>\n",
       "    <tr>\n",
       "      <th>613</th>\n",
       "      <td>LP002990</td>\n",
       "      <td>Female</td>\n",
       "      <td>No</td>\n",
       "      <td>0</td>\n",
       "      <td>Graduate</td>\n",
       "      <td>Yes</td>\n",
       "      <td>4583</td>\n",
       "      <td>0.0</td>\n",
       "      <td>133.0</td>\n",
       "      <td>360.0</td>\n",
       "      <td>0.0</td>\n",
       "      <td>Semiurban</td>\n",
       "      <td>N</td>\n",
       "    </tr>\n",
       "  </tbody>\n",
       "</table>\n",
       "<p>614 rows × 13 columns</p>\n",
       "</div>"
      ],
      "text/plain": [
       "      Loan_ID  Gender Married Dependents     Education Self_Employed  \\\n",
       "0    LP001002    Male      No          0      Graduate            No   \n",
       "1    LP001003    Male     Yes          1      Graduate            No   \n",
       "2    LP001005    Male     Yes          0      Graduate           Yes   \n",
       "3    LP001006    Male     Yes          0  Not Graduate            No   \n",
       "4    LP001008    Male      No          0      Graduate            No   \n",
       "..        ...     ...     ...        ...           ...           ...   \n",
       "609  LP002978  Female      No          0      Graduate            No   \n",
       "610  LP002979    Male     Yes         3+      Graduate            No   \n",
       "611  LP002983    Male     Yes          1      Graduate            No   \n",
       "612  LP002984    Male     Yes          2      Graduate            No   \n",
       "613  LP002990  Female      No          0      Graduate           Yes   \n",
       "\n",
       "     ApplicantIncome  CoapplicantIncome  LoanAmount  Loan_Amount_Term  \\\n",
       "0               5849                0.0         NaN             360.0   \n",
       "1               4583             1508.0       128.0             360.0   \n",
       "2               3000                0.0        66.0             360.0   \n",
       "3               2583             2358.0       120.0             360.0   \n",
       "4               6000                0.0       141.0             360.0   \n",
       "..               ...                ...         ...               ...   \n",
       "609             2900                0.0        71.0             360.0   \n",
       "610             4106                0.0        40.0             180.0   \n",
       "611             8072              240.0       253.0             360.0   \n",
       "612             7583                0.0       187.0             360.0   \n",
       "613             4583                0.0       133.0             360.0   \n",
       "\n",
       "     Credit_History Property_Area Loan_Status  \n",
       "0               1.0         Urban           Y  \n",
       "1               1.0         Rural           N  \n",
       "2               1.0         Urban           Y  \n",
       "3               1.0         Urban           Y  \n",
       "4               1.0         Urban           Y  \n",
       "..              ...           ...         ...  \n",
       "609             1.0         Rural           Y  \n",
       "610             1.0         Rural           Y  \n",
       "611             1.0         Urban           Y  \n",
       "612             1.0         Urban           Y  \n",
       "613             0.0     Semiurban           N  \n",
       "\n",
       "[614 rows x 13 columns]"
      ]
     },
     "execution_count": 9,
     "metadata": {},
     "output_type": "execute_result"
    }
   ],
   "source": [
    "bank_data"
   ]
  },
  {
   "cell_type": "markdown",
   "id": "89d49512",
   "metadata": {},
   "source": [
    "### Step1 = Let's explore dataset"
   ]
  },
  {
   "cell_type": "code",
   "execution_count": 10,
   "id": "b38bbd02",
   "metadata": {},
   "outputs": [
    {
     "data": {
      "text/plain": [
       "(614, 13)"
      ]
     },
     "execution_count": 10,
     "metadata": {},
     "output_type": "execute_result"
    }
   ],
   "source": [
    "bank_data.shape"
   ]
  },
  {
   "cell_type": "code",
   "execution_count": 11,
   "id": "91d562f1",
   "metadata": {},
   "outputs": [
    {
     "data": {
      "text/plain": [
       "7982"
      ]
     },
     "execution_count": 11,
     "metadata": {},
     "output_type": "execute_result"
    }
   ],
   "source": [
    "bank_data.size"
   ]
  },
  {
   "cell_type": "code",
   "execution_count": 12,
   "id": "de8299ba",
   "metadata": {},
   "outputs": [
    {
     "name": "stdout",
     "output_type": "stream",
     "text": [
      "<class 'pandas.core.frame.DataFrame'>\n",
      "RangeIndex: 614 entries, 0 to 613\n",
      "Data columns (total 13 columns):\n",
      " #   Column             Non-Null Count  Dtype  \n",
      "---  ------             --------------  -----  \n",
      " 0   Loan_ID            614 non-null    object \n",
      " 1   Gender             601 non-null    object \n",
      " 2   Married            611 non-null    object \n",
      " 3   Dependents         599 non-null    object \n",
      " 4   Education          614 non-null    object \n",
      " 5   Self_Employed      582 non-null    object \n",
      " 6   ApplicantIncome    614 non-null    int64  \n",
      " 7   CoapplicantIncome  614 non-null    float64\n",
      " 8   LoanAmount         592 non-null    float64\n",
      " 9   Loan_Amount_Term   600 non-null    float64\n",
      " 10  Credit_History     564 non-null    float64\n",
      " 11  Property_Area      614 non-null    object \n",
      " 12  Loan_Status        614 non-null    object \n",
      "dtypes: float64(4), int64(1), object(8)\n",
      "memory usage: 62.5+ KB\n"
     ]
    }
   ],
   "source": [
    "bank_data.info()"
   ]
  },
  {
   "cell_type": "code",
   "execution_count": 13,
   "id": "ac5d9728",
   "metadata": {},
   "outputs": [
    {
     "data": {
      "text/plain": [
       "Index(['Loan_ID', 'Gender', 'Married', 'Dependents', 'Education',\n",
       "       'Self_Employed', 'ApplicantIncome', 'CoapplicantIncome', 'LoanAmount',\n",
       "       'Loan_Amount_Term', 'Credit_History', 'Property_Area', 'Loan_Status'],\n",
       "      dtype='object')"
      ]
     },
     "execution_count": 13,
     "metadata": {},
     "output_type": "execute_result"
    }
   ],
   "source": [
    "bank_data.columns"
   ]
  },
  {
   "cell_type": "markdown",
   "id": "5681a08b",
   "metadata": {},
   "source": [
    "### Step 2 : Check for missing values"
   ]
  },
  {
   "cell_type": "code",
   "execution_count": 14,
   "id": "8874f53d",
   "metadata": {},
   "outputs": [
    {
     "data": {
      "text/html": [
       "<div>\n",
       "<style scoped>\n",
       "    .dataframe tbody tr th:only-of-type {\n",
       "        vertical-align: middle;\n",
       "    }\n",
       "\n",
       "    .dataframe tbody tr th {\n",
       "        vertical-align: top;\n",
       "    }\n",
       "\n",
       "    .dataframe thead th {\n",
       "        text-align: right;\n",
       "    }\n",
       "</style>\n",
       "<table border=\"1\" class=\"dataframe\">\n",
       "  <thead>\n",
       "    <tr style=\"text-align: right;\">\n",
       "      <th></th>\n",
       "      <th>Loan_ID</th>\n",
       "      <th>Gender</th>\n",
       "      <th>Married</th>\n",
       "      <th>Dependents</th>\n",
       "      <th>Education</th>\n",
       "      <th>Self_Employed</th>\n",
       "      <th>ApplicantIncome</th>\n",
       "      <th>CoapplicantIncome</th>\n",
       "      <th>LoanAmount</th>\n",
       "      <th>Loan_Amount_Term</th>\n",
       "      <th>Credit_History</th>\n",
       "      <th>Property_Area</th>\n",
       "      <th>Loan_Status</th>\n",
       "    </tr>\n",
       "  </thead>\n",
       "  <tbody>\n",
       "    <tr>\n",
       "      <th>0</th>\n",
       "      <td>False</td>\n",
       "      <td>False</td>\n",
       "      <td>False</td>\n",
       "      <td>False</td>\n",
       "      <td>False</td>\n",
       "      <td>False</td>\n",
       "      <td>False</td>\n",
       "      <td>False</td>\n",
       "      <td>True</td>\n",
       "      <td>False</td>\n",
       "      <td>False</td>\n",
       "      <td>False</td>\n",
       "      <td>False</td>\n",
       "    </tr>\n",
       "    <tr>\n",
       "      <th>1</th>\n",
       "      <td>False</td>\n",
       "      <td>False</td>\n",
       "      <td>False</td>\n",
       "      <td>False</td>\n",
       "      <td>False</td>\n",
       "      <td>False</td>\n",
       "      <td>False</td>\n",
       "      <td>False</td>\n",
       "      <td>False</td>\n",
       "      <td>False</td>\n",
       "      <td>False</td>\n",
       "      <td>False</td>\n",
       "      <td>False</td>\n",
       "    </tr>\n",
       "    <tr>\n",
       "      <th>2</th>\n",
       "      <td>False</td>\n",
       "      <td>False</td>\n",
       "      <td>False</td>\n",
       "      <td>False</td>\n",
       "      <td>False</td>\n",
       "      <td>False</td>\n",
       "      <td>False</td>\n",
       "      <td>False</td>\n",
       "      <td>False</td>\n",
       "      <td>False</td>\n",
       "      <td>False</td>\n",
       "      <td>False</td>\n",
       "      <td>False</td>\n",
       "    </tr>\n",
       "    <tr>\n",
       "      <th>3</th>\n",
       "      <td>False</td>\n",
       "      <td>False</td>\n",
       "      <td>False</td>\n",
       "      <td>False</td>\n",
       "      <td>False</td>\n",
       "      <td>False</td>\n",
       "      <td>False</td>\n",
       "      <td>False</td>\n",
       "      <td>False</td>\n",
       "      <td>False</td>\n",
       "      <td>False</td>\n",
       "      <td>False</td>\n",
       "      <td>False</td>\n",
       "    </tr>\n",
       "    <tr>\n",
       "      <th>4</th>\n",
       "      <td>False</td>\n",
       "      <td>False</td>\n",
       "      <td>False</td>\n",
       "      <td>False</td>\n",
       "      <td>False</td>\n",
       "      <td>False</td>\n",
       "      <td>False</td>\n",
       "      <td>False</td>\n",
       "      <td>False</td>\n",
       "      <td>False</td>\n",
       "      <td>False</td>\n",
       "      <td>False</td>\n",
       "      <td>False</td>\n",
       "    </tr>\n",
       "    <tr>\n",
       "      <th>...</th>\n",
       "      <td>...</td>\n",
       "      <td>...</td>\n",
       "      <td>...</td>\n",
       "      <td>...</td>\n",
       "      <td>...</td>\n",
       "      <td>...</td>\n",
       "      <td>...</td>\n",
       "      <td>...</td>\n",
       "      <td>...</td>\n",
       "      <td>...</td>\n",
       "      <td>...</td>\n",
       "      <td>...</td>\n",
       "      <td>...</td>\n",
       "    </tr>\n",
       "    <tr>\n",
       "      <th>609</th>\n",
       "      <td>False</td>\n",
       "      <td>False</td>\n",
       "      <td>False</td>\n",
       "      <td>False</td>\n",
       "      <td>False</td>\n",
       "      <td>False</td>\n",
       "      <td>False</td>\n",
       "      <td>False</td>\n",
       "      <td>False</td>\n",
       "      <td>False</td>\n",
       "      <td>False</td>\n",
       "      <td>False</td>\n",
       "      <td>False</td>\n",
       "    </tr>\n",
       "    <tr>\n",
       "      <th>610</th>\n",
       "      <td>False</td>\n",
       "      <td>False</td>\n",
       "      <td>False</td>\n",
       "      <td>False</td>\n",
       "      <td>False</td>\n",
       "      <td>False</td>\n",
       "      <td>False</td>\n",
       "      <td>False</td>\n",
       "      <td>False</td>\n",
       "      <td>False</td>\n",
       "      <td>False</td>\n",
       "      <td>False</td>\n",
       "      <td>False</td>\n",
       "    </tr>\n",
       "    <tr>\n",
       "      <th>611</th>\n",
       "      <td>False</td>\n",
       "      <td>False</td>\n",
       "      <td>False</td>\n",
       "      <td>False</td>\n",
       "      <td>False</td>\n",
       "      <td>False</td>\n",
       "      <td>False</td>\n",
       "      <td>False</td>\n",
       "      <td>False</td>\n",
       "      <td>False</td>\n",
       "      <td>False</td>\n",
       "      <td>False</td>\n",
       "      <td>False</td>\n",
       "    </tr>\n",
       "    <tr>\n",
       "      <th>612</th>\n",
       "      <td>False</td>\n",
       "      <td>False</td>\n",
       "      <td>False</td>\n",
       "      <td>False</td>\n",
       "      <td>False</td>\n",
       "      <td>False</td>\n",
       "      <td>False</td>\n",
       "      <td>False</td>\n",
       "      <td>False</td>\n",
       "      <td>False</td>\n",
       "      <td>False</td>\n",
       "      <td>False</td>\n",
       "      <td>False</td>\n",
       "    </tr>\n",
       "    <tr>\n",
       "      <th>613</th>\n",
       "      <td>False</td>\n",
       "      <td>False</td>\n",
       "      <td>False</td>\n",
       "      <td>False</td>\n",
       "      <td>False</td>\n",
       "      <td>False</td>\n",
       "      <td>False</td>\n",
       "      <td>False</td>\n",
       "      <td>False</td>\n",
       "      <td>False</td>\n",
       "      <td>False</td>\n",
       "      <td>False</td>\n",
       "      <td>False</td>\n",
       "    </tr>\n",
       "  </tbody>\n",
       "</table>\n",
       "<p>614 rows × 13 columns</p>\n",
       "</div>"
      ],
      "text/plain": [
       "     Loan_ID  Gender  Married  Dependents  Education  Self_Employed  \\\n",
       "0      False   False    False       False      False          False   \n",
       "1      False   False    False       False      False          False   \n",
       "2      False   False    False       False      False          False   \n",
       "3      False   False    False       False      False          False   \n",
       "4      False   False    False       False      False          False   \n",
       "..       ...     ...      ...         ...        ...            ...   \n",
       "609    False   False    False       False      False          False   \n",
       "610    False   False    False       False      False          False   \n",
       "611    False   False    False       False      False          False   \n",
       "612    False   False    False       False      False          False   \n",
       "613    False   False    False       False      False          False   \n",
       "\n",
       "     ApplicantIncome  CoapplicantIncome  LoanAmount  Loan_Amount_Term  \\\n",
       "0              False              False        True             False   \n",
       "1              False              False       False             False   \n",
       "2              False              False       False             False   \n",
       "3              False              False       False             False   \n",
       "4              False              False       False             False   \n",
       "..               ...                ...         ...               ...   \n",
       "609            False              False       False             False   \n",
       "610            False              False       False             False   \n",
       "611            False              False       False             False   \n",
       "612            False              False       False             False   \n",
       "613            False              False       False             False   \n",
       "\n",
       "     Credit_History  Property_Area  Loan_Status  \n",
       "0             False          False        False  \n",
       "1             False          False        False  \n",
       "2             False          False        False  \n",
       "3             False          False        False  \n",
       "4             False          False        False  \n",
       "..              ...            ...          ...  \n",
       "609           False          False        False  \n",
       "610           False          False        False  \n",
       "611           False          False        False  \n",
       "612           False          False        False  \n",
       "613           False          False        False  \n",
       "\n",
       "[614 rows x 13 columns]"
      ]
     },
     "execution_count": 14,
     "metadata": {},
     "output_type": "execute_result"
    }
   ],
   "source": [
    "bank_data.isna()   #Find missing values in given dataset"
   ]
  },
  {
   "cell_type": "code",
   "execution_count": 15,
   "id": "b4c93bdb",
   "metadata": {},
   "outputs": [
    {
     "data": {
      "text/plain": [
       "Loan_ID               0\n",
       "Gender               13\n",
       "Married               3\n",
       "Dependents           15\n",
       "Education             0\n",
       "Self_Employed        32\n",
       "ApplicantIncome       0\n",
       "CoapplicantIncome     0\n",
       "LoanAmount           22\n",
       "Loan_Amount_Term     14\n",
       "Credit_History       50\n",
       "Property_Area         0\n",
       "Loan_Status           0\n",
       "dtype: int64"
      ]
     },
     "execution_count": 15,
     "metadata": {},
     "output_type": "execute_result"
    }
   ],
   "source": [
    "bank_data.isna().sum()"
   ]
  },
  {
   "cell_type": "code",
   "execution_count": 16,
   "id": "ee3e77b8",
   "metadata": {},
   "outputs": [
    {
     "data": {
      "text/plain": [
       "149"
      ]
     },
     "execution_count": 16,
     "metadata": {},
     "output_type": "execute_result"
    }
   ],
   "source": [
    "bank_data.isna().sum().sum()   #Total missing values in given dataset"
   ]
  },
  {
   "cell_type": "code",
   "execution_count": 17,
   "id": "cee307ec",
   "metadata": {},
   "outputs": [
    {
     "data": {
      "text/plain": [
       "24.267100977198698"
      ]
     },
     "execution_count": 17,
     "metadata": {},
     "output_type": "execute_result"
    }
   ],
   "source": [
    "bank_data.isna().sum().sum()/len(bank_data)*100  #Total Percentage of missing data"
   ]
  },
  {
   "cell_type": "code",
   "execution_count": 18,
   "id": "99691a25",
   "metadata": {},
   "outputs": [
    {
     "data": {
      "text/plain": [
       "Loan_ID              0.000000\n",
       "Gender               2.117264\n",
       "Married              0.488599\n",
       "Dependents           2.442997\n",
       "Education            0.000000\n",
       "Self_Employed        5.211726\n",
       "ApplicantIncome      0.000000\n",
       "CoapplicantIncome    0.000000\n",
       "LoanAmount           3.583062\n",
       "Loan_Amount_Term     2.280130\n",
       "Credit_History       8.143322\n",
       "Property_Area        0.000000\n",
       "Loan_Status          0.000000\n",
       "dtype: float64"
      ]
     },
     "execution_count": 18,
     "metadata": {},
     "output_type": "execute_result"
    }
   ],
   "source": [
    "bank_data.isna().sum()/len(bank_data)*100   #Missing Percentage of each column"
   ]
  },
  {
   "cell_type": "markdown",
   "id": "1b98568f",
   "metadata": {},
   "source": [
    "### Step 3 : Drop the irrelevant columns which are not required for model building"
   ]
  },
  {
   "cell_type": "code",
   "execution_count": 19,
   "id": "d08d4236",
   "metadata": {},
   "outputs": [
    {
     "data": {
      "text/plain": [
       "Index(['Loan_ID', 'Gender', 'Married', 'Dependents', 'Education',\n",
       "       'Self_Employed', 'ApplicantIncome', 'CoapplicantIncome', 'LoanAmount',\n",
       "       'Loan_Amount_Term', 'Credit_History', 'Property_Area', 'Loan_Status'],\n",
       "      dtype='object')"
      ]
     },
     "execution_count": 19,
     "metadata": {},
     "output_type": "execute_result"
    }
   ],
   "source": [
    "bank_data.columns"
   ]
  },
  {
   "cell_type": "code",
   "execution_count": 20,
   "id": "b2aad7d2",
   "metadata": {},
   "outputs": [],
   "source": [
    "bank_data_updated=bank_data.drop(\"Loan_ID\",axis=\"columns\")"
   ]
  },
  {
   "cell_type": "code",
   "execution_count": 21,
   "id": "7088f0b3",
   "metadata": {},
   "outputs": [
    {
     "data": {
      "text/plain": [
       "(614, 12)"
      ]
     },
     "execution_count": 21,
     "metadata": {},
     "output_type": "execute_result"
    }
   ],
   "source": [
    "bank_data_updated.shape   #Column gets dropped"
   ]
  },
  {
   "cell_type": "markdown",
   "id": "081f3b38",
   "metadata": {},
   "source": [
    "### Step4 : Drop Duplicate Records"
   ]
  },
  {
   "cell_type": "code",
   "execution_count": 22,
   "id": "c70e4655",
   "metadata": {},
   "outputs": [],
   "source": [
    "bank_data_updated=bank_data_updated.drop_duplicates()"
   ]
  },
  {
   "cell_type": "code",
   "execution_count": 23,
   "id": "c0fce619",
   "metadata": {},
   "outputs": [
    {
     "data": {
      "text/plain": [
       "(614, 12)"
      ]
     },
     "execution_count": 23,
     "metadata": {},
     "output_type": "execute_result"
    }
   ],
   "source": [
    "bank_data_updated.shape   #No duplicate value Found"
   ]
  },
  {
   "cell_type": "markdown",
   "id": "a4018b15",
   "metadata": {},
   "source": [
    "### Step 5 : Impute Missing Values"
   ]
  },
  {
   "cell_type": "code",
   "execution_count": 24,
   "id": "b2b051ae",
   "metadata": {},
   "outputs": [
    {
     "data": {
      "text/plain": [
       "Gender               13\n",
       "Married               3\n",
       "Dependents           15\n",
       "Education             0\n",
       "Self_Employed        32\n",
       "ApplicantIncome       0\n",
       "CoapplicantIncome     0\n",
       "LoanAmount           22\n",
       "Loan_Amount_Term     14\n",
       "Credit_History       50\n",
       "Property_Area         0\n",
       "Loan_Status           0\n",
       "dtype: int64"
      ]
     },
     "execution_count": 24,
     "metadata": {},
     "output_type": "execute_result"
    }
   ],
   "source": [
    "bank_data_updated.isna().sum()"
   ]
  },
  {
   "cell_type": "code",
   "execution_count": 25,
   "id": "16872962",
   "metadata": {},
   "outputs": [
    {
     "data": {
      "text/plain": [
       "array(['Male', 'Female', nan], dtype=object)"
      ]
     },
     "execution_count": 25,
     "metadata": {},
     "output_type": "execute_result"
    }
   ],
   "source": [
    "bank_data_updated.Gender.unique()"
   ]
  },
  {
   "cell_type": "code",
   "execution_count": 26,
   "id": "a153181f",
   "metadata": {},
   "outputs": [],
   "source": [
    "bank_data_updated.Gender.fillna((\"Male\"),inplace=True)"
   ]
  },
  {
   "cell_type": "code",
   "execution_count": 27,
   "id": "1394d8eb",
   "metadata": {},
   "outputs": [
    {
     "data": {
      "text/plain": [
       "Gender                0\n",
       "Married               3\n",
       "Dependents           15\n",
       "Education             0\n",
       "Self_Employed        32\n",
       "ApplicantIncome       0\n",
       "CoapplicantIncome     0\n",
       "LoanAmount           22\n",
       "Loan_Amount_Term     14\n",
       "Credit_History       50\n",
       "Property_Area         0\n",
       "Loan_Status           0\n",
       "dtype: int64"
      ]
     },
     "execution_count": 27,
     "metadata": {},
     "output_type": "execute_result"
    }
   ],
   "source": [
    "bank_data_updated.isna().sum()"
   ]
  },
  {
   "cell_type": "code",
   "execution_count": 28,
   "id": "c7a6ec91",
   "metadata": {},
   "outputs": [
    {
     "data": {
      "text/plain": [
       "array(['No', 'Yes', nan], dtype=object)"
      ]
     },
     "execution_count": 28,
     "metadata": {},
     "output_type": "execute_result"
    }
   ],
   "source": [
    "bank_data_updated.Married.unique()"
   ]
  },
  {
   "cell_type": "code",
   "execution_count": 29,
   "id": "1e1a5558",
   "metadata": {},
   "outputs": [
    {
     "data": {
      "text/plain": [
       "array(['0', '1', '2', '3+', nan], dtype=object)"
      ]
     },
     "execution_count": 29,
     "metadata": {},
     "output_type": "execute_result"
    }
   ],
   "source": [
    "bank_data_updated.Dependents.unique()"
   ]
  },
  {
   "cell_type": "code",
   "execution_count": 30,
   "id": "851f1df3",
   "metadata": {},
   "outputs": [
    {
     "data": {
      "text/plain": [
       "array(['No', 'Yes', nan], dtype=object)"
      ]
     },
     "execution_count": 30,
     "metadata": {},
     "output_type": "execute_result"
    }
   ],
   "source": [
    "bank_data_updated.Self_Employed.unique()"
   ]
  },
  {
   "cell_type": "code",
   "execution_count": 31,
   "id": "710d8662",
   "metadata": {},
   "outputs": [
    {
     "data": {
      "text/plain": [
       "array([ nan, 128.,  66., 120., 141., 267.,  95., 158., 168., 349.,  70.,\n",
       "       109., 200., 114.,  17., 125., 100.,  76., 133., 115., 104., 315.,\n",
       "       116., 112., 151., 191., 122., 110.,  35., 201.,  74., 106., 320.,\n",
       "       144., 184.,  80.,  47.,  75., 134.,  96.,  88.,  44., 286.,  97.,\n",
       "       135., 180.,  99., 165., 258., 126., 312., 136., 172.,  81., 187.,\n",
       "       113., 176., 130., 111., 167., 265.,  50., 210., 175., 131., 188.,\n",
       "        25., 137., 160., 225., 216.,  94., 139., 152., 118., 185., 154.,\n",
       "        85., 259., 194.,  93., 370., 182., 650., 102., 290.,  84., 242.,\n",
       "       129.,  30., 244., 600., 255.,  98., 275., 121.,  63., 700.,  87.,\n",
       "       101., 495.,  67.,  73., 260., 108.,  58.,  48., 164., 170.,  83.,\n",
       "        90., 166., 124.,  55.,  59., 127., 214., 240.,  72.,  60., 138.,\n",
       "        42., 280., 140., 155., 123., 279., 192., 304., 330., 150., 207.,\n",
       "       436.,  78.,  54.,  89., 143., 105., 132., 480.,  56., 159., 300.,\n",
       "       376., 117.,  71., 490., 173.,  46., 228., 308., 236., 570., 380.,\n",
       "       296., 156., 103.,  45.,  65.,  53., 360.,  62., 218., 178., 239.,\n",
       "       405., 148., 190., 149., 153., 162., 230.,  86., 234., 246., 500.,\n",
       "       186., 119., 107., 209., 208., 243.,  40., 250., 311., 400., 161.,\n",
       "       196., 324., 157., 145., 181.,  26., 211.,   9., 205.,  36.,  61.,\n",
       "       146., 292., 142., 350., 496., 253.])"
      ]
     },
     "execution_count": 31,
     "metadata": {},
     "output_type": "execute_result"
    }
   ],
   "source": [
    "bank_data_updated.LoanAmount.unique()"
   ]
  },
  {
   "cell_type": "code",
   "execution_count": 120,
   "id": "5862f15f",
   "metadata": {},
   "outputs": [
    {
     "data": {
      "text/plain": [
       "array([360., 120., 240.,  nan, 180.,  60., 300., 480.,  36.,  84.,  12.])"
      ]
     },
     "execution_count": 120,
     "metadata": {},
     "output_type": "execute_result"
    }
   ],
   "source": [
    "bank_data_updated.Loan_Amount_Term.unique()"
   ]
  },
  {
   "cell_type": "code",
   "execution_count": 121,
   "id": "4ea479bc",
   "metadata": {},
   "outputs": [
    {
     "data": {
      "text/plain": [
       "array([ 1.,  0., nan])"
      ]
     },
     "execution_count": 121,
     "metadata": {},
     "output_type": "execute_result"
    }
   ],
   "source": [
    "bank_data_updated.Credit_History.unique()"
   ]
  },
  {
   "cell_type": "markdown",
   "id": "f58ae410",
   "metadata": {},
   "source": [
    "##  "
   ]
  },
  {
   "cell_type": "code",
   "execution_count": 127,
   "id": "bf9a341b",
   "metadata": {},
   "outputs": [
    {
     "data": {
      "text/plain": [
       "array(['0', '1', '2', '3+', 0], dtype=object)"
      ]
     },
     "execution_count": 127,
     "metadata": {},
     "output_type": "execute_result"
    }
   ],
   "source": [
    "bank_data_updated.Dependents.unique()"
   ]
  },
  {
   "cell_type": "code",
   "execution_count": 128,
   "id": "2998d990",
   "metadata": {},
   "outputs": [],
   "source": [
    "bank_data_updated.replace({'3+':'3',0:'0'},inplace=True)    #Make all unique values of same data type"
   ]
  },
  {
   "cell_type": "code",
   "execution_count": 129,
   "id": "d796f799",
   "metadata": {},
   "outputs": [
    {
     "data": {
      "text/plain": [
       "array(['0', '1', '2', '3'], dtype=object)"
      ]
     },
     "execution_count": 129,
     "metadata": {},
     "output_type": "execute_result"
    }
   ],
   "source": [
    "bank_data_updated.Dependents.unique()"
   ]
  },
  {
   "cell_type": "code",
   "execution_count": 131,
   "id": "c14f2930",
   "metadata": {},
   "outputs": [],
   "source": [
    "bank_data_updated.Dependents=pd.to_numeric(bank_data_updated.Dependents)"
   ]
  },
  {
   "cell_type": "code",
   "execution_count": 134,
   "id": "16b56b54",
   "metadata": {},
   "outputs": [
    {
     "data": {
      "text/plain": [
       "array([0, 1, 2, 3])"
      ]
     },
     "execution_count": 134,
     "metadata": {},
     "output_type": "execute_result"
    }
   ],
   "source": [
    "bank_data_updated.Dependents.unique()   #Make all unique values Numeric"
   ]
  },
  {
   "cell_type": "code",
   "execution_count": null,
   "id": "4d4bf112",
   "metadata": {},
   "outputs": [],
   "source": [
    "#Filling missing values"
   ]
  },
  {
   "cell_type": "code",
   "execution_count": 32,
   "id": "12c28f01",
   "metadata": {},
   "outputs": [],
   "source": [
    "bank_data_updated.Married.fillna((\"No\"),inplace=True)\n",
    "bank_data_updated.Dependents.fillna((0),inplace=True)\n",
    "bank_data_updated.Self_Employed.fillna((\"No\"),inplace=True)\n",
    "bank_data_updated.LoanAmount.fillna((bank_data_updated.LoanAmount.mean()),inplace=True)\n",
    "bank_data_updated.Loan_Amount_Term.fillna((bank_data_updated.Loan_Amount_Term.mean()),inplace=True)\n",
    "bank_data_updated.Credit_History.fillna((1),inplace=True)"
   ]
  },
  {
   "cell_type": "code",
   "execution_count": 33,
   "id": "0295d3f4",
   "metadata": {},
   "outputs": [
    {
     "data": {
      "text/plain": [
       "Gender               0\n",
       "Married              0\n",
       "Dependents           0\n",
       "Education            0\n",
       "Self_Employed        0\n",
       "ApplicantIncome      0\n",
       "CoapplicantIncome    0\n",
       "LoanAmount           0\n",
       "Loan_Amount_Term     0\n",
       "Credit_History       0\n",
       "Property_Area        0\n",
       "Loan_Status          0\n",
       "dtype: int64"
      ]
     },
     "execution_count": 33,
     "metadata": {},
     "output_type": "execute_result"
    }
   ],
   "source": [
    "bank_data_updated.isna().sum()    #All missing values gets filled"
   ]
  },
  {
   "cell_type": "code",
   "execution_count": 135,
   "id": "b40aaf63",
   "metadata": {},
   "outputs": [
    {
     "data": {
      "text/html": [
       "<div>\n",
       "<style scoped>\n",
       "    .dataframe tbody tr th:only-of-type {\n",
       "        vertical-align: middle;\n",
       "    }\n",
       "\n",
       "    .dataframe tbody tr th {\n",
       "        vertical-align: top;\n",
       "    }\n",
       "\n",
       "    .dataframe thead th {\n",
       "        text-align: right;\n",
       "    }\n",
       "</style>\n",
       "<table border=\"1\" class=\"dataframe\">\n",
       "  <thead>\n",
       "    <tr style=\"text-align: right;\">\n",
       "      <th></th>\n",
       "      <th>Gender</th>\n",
       "      <th>Married</th>\n",
       "      <th>Dependents</th>\n",
       "      <th>Education</th>\n",
       "      <th>Self_Employed</th>\n",
       "      <th>ApplicantIncome</th>\n",
       "      <th>CoapplicantIncome</th>\n",
       "      <th>LoanAmount</th>\n",
       "      <th>Loan_Amount_Term</th>\n",
       "      <th>Credit_History</th>\n",
       "      <th>Property_Area</th>\n",
       "      <th>Loan_Status</th>\n",
       "    </tr>\n",
       "  </thead>\n",
       "  <tbody>\n",
       "    <tr>\n",
       "      <th>0</th>\n",
       "      <td>Male</td>\n",
       "      <td>No</td>\n",
       "      <td>0</td>\n",
       "      <td>Graduate</td>\n",
       "      <td>No</td>\n",
       "      <td>5849</td>\n",
       "      <td>0</td>\n",
       "      <td>120.0</td>\n",
       "      <td>360.0</td>\n",
       "      <td>1.0</td>\n",
       "      <td>Urban</td>\n",
       "      <td>Y</td>\n",
       "    </tr>\n",
       "    <tr>\n",
       "      <th>1</th>\n",
       "      <td>Male</td>\n",
       "      <td>Yes</td>\n",
       "      <td>1</td>\n",
       "      <td>Graduate</td>\n",
       "      <td>No</td>\n",
       "      <td>4583</td>\n",
       "      <td>1508.0</td>\n",
       "      <td>128.0</td>\n",
       "      <td>360.0</td>\n",
       "      <td>1.0</td>\n",
       "      <td>Rural</td>\n",
       "      <td>N</td>\n",
       "    </tr>\n",
       "    <tr>\n",
       "      <th>2</th>\n",
       "      <td>Male</td>\n",
       "      <td>Yes</td>\n",
       "      <td>0</td>\n",
       "      <td>Graduate</td>\n",
       "      <td>Yes</td>\n",
       "      <td>3000</td>\n",
       "      <td>0</td>\n",
       "      <td>66.0</td>\n",
       "      <td>360.0</td>\n",
       "      <td>1.0</td>\n",
       "      <td>Urban</td>\n",
       "      <td>Y</td>\n",
       "    </tr>\n",
       "    <tr>\n",
       "      <th>3</th>\n",
       "      <td>Male</td>\n",
       "      <td>Yes</td>\n",
       "      <td>0</td>\n",
       "      <td>Not Graduate</td>\n",
       "      <td>No</td>\n",
       "      <td>2583</td>\n",
       "      <td>2358.0</td>\n",
       "      <td>120.0</td>\n",
       "      <td>360.0</td>\n",
       "      <td>1.0</td>\n",
       "      <td>Urban</td>\n",
       "      <td>Y</td>\n",
       "    </tr>\n",
       "    <tr>\n",
       "      <th>4</th>\n",
       "      <td>Male</td>\n",
       "      <td>No</td>\n",
       "      <td>0</td>\n",
       "      <td>Graduate</td>\n",
       "      <td>No</td>\n",
       "      <td>6000</td>\n",
       "      <td>0</td>\n",
       "      <td>141.0</td>\n",
       "      <td>360.0</td>\n",
       "      <td>1.0</td>\n",
       "      <td>Urban</td>\n",
       "      <td>Y</td>\n",
       "    </tr>\n",
       "  </tbody>\n",
       "</table>\n",
       "</div>"
      ],
      "text/plain": [
       "  Gender Married  Dependents     Education Self_Employed  ApplicantIncome  \\\n",
       "0   Male      No           0      Graduate            No             5849   \n",
       "1   Male     Yes           1      Graduate            No             4583   \n",
       "2   Male     Yes           0      Graduate           Yes             3000   \n",
       "3   Male     Yes           0  Not Graduate            No             2583   \n",
       "4   Male      No           0      Graduate            No             6000   \n",
       "\n",
       "  CoapplicantIncome LoanAmount Loan_Amount_Term Credit_History Property_Area  \\\n",
       "0                 0      120.0            360.0            1.0         Urban   \n",
       "1            1508.0      128.0            360.0            1.0         Rural   \n",
       "2                 0       66.0            360.0            1.0         Urban   \n",
       "3            2358.0      120.0            360.0            1.0         Urban   \n",
       "4                 0      141.0            360.0            1.0         Urban   \n",
       "\n",
       "  Loan_Status  \n",
       "0           Y  \n",
       "1           N  \n",
       "2           Y  \n",
       "3           Y  \n",
       "4           Y  "
      ]
     },
     "execution_count": 135,
     "metadata": {},
     "output_type": "execute_result"
    }
   ],
   "source": [
    "bank_data_updated.head()"
   ]
  },
  {
   "cell_type": "code",
   "execution_count": 136,
   "id": "7fbdacdc",
   "metadata": {},
   "outputs": [
    {
     "name": "stdout",
     "output_type": "stream",
     "text": [
      "<class 'pandas.core.frame.DataFrame'>\n",
      "Int64Index: 614 entries, 0 to 613\n",
      "Data columns (total 12 columns):\n",
      " #   Column             Non-Null Count  Dtype \n",
      "---  ------             --------------  ----- \n",
      " 0   Gender             614 non-null    object\n",
      " 1   Married            614 non-null    object\n",
      " 2   Dependents         614 non-null    int64 \n",
      " 3   Education          614 non-null    object\n",
      " 4   Self_Employed      614 non-null    object\n",
      " 5   ApplicantIncome    614 non-null    int64 \n",
      " 6   CoapplicantIncome  614 non-null    object\n",
      " 7   LoanAmount         614 non-null    object\n",
      " 8   Loan_Amount_Term   614 non-null    object\n",
      " 9   Credit_History     614 non-null    object\n",
      " 10  Property_Area      614 non-null    object\n",
      " 11  Loan_Status        614 non-null    object\n",
      "dtypes: int64(2), object(10)\n",
      "memory usage: 62.4+ KB\n"
     ]
    }
   ],
   "source": [
    "bank_data_updated.info()"
   ]
  },
  {
   "cell_type": "code",
   "execution_count": 137,
   "id": "c94ec676",
   "metadata": {},
   "outputs": [
    {
     "data": {
      "text/html": [
       "<div>\n",
       "<style scoped>\n",
       "    .dataframe tbody tr th:only-of-type {\n",
       "        vertical-align: middle;\n",
       "    }\n",
       "\n",
       "    .dataframe tbody tr th {\n",
       "        vertical-align: top;\n",
       "    }\n",
       "\n",
       "    .dataframe thead th {\n",
       "        text-align: right;\n",
       "    }\n",
       "</style>\n",
       "<table border=\"1\" class=\"dataframe\">\n",
       "  <thead>\n",
       "    <tr style=\"text-align: right;\">\n",
       "      <th></th>\n",
       "      <th>Dependents</th>\n",
       "      <th>ApplicantIncome</th>\n",
       "    </tr>\n",
       "  </thead>\n",
       "  <tbody>\n",
       "    <tr>\n",
       "      <th>count</th>\n",
       "      <td>614.000000</td>\n",
       "      <td>614.000000</td>\n",
       "    </tr>\n",
       "    <tr>\n",
       "      <th>mean</th>\n",
       "      <td>0.744300</td>\n",
       "      <td>5403.459283</td>\n",
       "    </tr>\n",
       "    <tr>\n",
       "      <th>std</th>\n",
       "      <td>1.009623</td>\n",
       "      <td>6109.041673</td>\n",
       "    </tr>\n",
       "    <tr>\n",
       "      <th>min</th>\n",
       "      <td>0.000000</td>\n",
       "      <td>150.000000</td>\n",
       "    </tr>\n",
       "    <tr>\n",
       "      <th>25%</th>\n",
       "      <td>0.000000</td>\n",
       "      <td>2877.500000</td>\n",
       "    </tr>\n",
       "    <tr>\n",
       "      <th>50%</th>\n",
       "      <td>0.000000</td>\n",
       "      <td>3812.500000</td>\n",
       "    </tr>\n",
       "    <tr>\n",
       "      <th>75%</th>\n",
       "      <td>1.000000</td>\n",
       "      <td>5795.000000</td>\n",
       "    </tr>\n",
       "    <tr>\n",
       "      <th>max</th>\n",
       "      <td>3.000000</td>\n",
       "      <td>81000.000000</td>\n",
       "    </tr>\n",
       "  </tbody>\n",
       "</table>\n",
       "</div>"
      ],
      "text/plain": [
       "       Dependents  ApplicantIncome\n",
       "count  614.000000       614.000000\n",
       "mean     0.744300      5403.459283\n",
       "std      1.009623      6109.041673\n",
       "min      0.000000       150.000000\n",
       "25%      0.000000      2877.500000\n",
       "50%      0.000000      3812.500000\n",
       "75%      1.000000      5795.000000\n",
       "max      3.000000     81000.000000"
      ]
     },
     "execution_count": 137,
     "metadata": {},
     "output_type": "execute_result"
    }
   ],
   "source": [
    "bank_data_updated.describe()    #Gives all statistical values"
   ]
  },
  {
   "cell_type": "markdown",
   "id": "e27e032c",
   "metadata": {},
   "source": [
    "### Interacting and do the web scrapping on internet with pandas"
   ]
  },
  {
   "cell_type": "markdown",
   "id": "b8d5a4a2",
   "metadata": {},
   "source": [
    "#### Case Study 1 : Scrapping Worlds Billionaires list"
   ]
  },
  {
   "cell_type": "code",
   "execution_count": 138,
   "id": "23503101",
   "metadata": {},
   "outputs": [
    {
     "name": "stdout",
     "output_type": "stream",
     "text": [
      "Requirement already satisfied: lxml in /home/divyasale/anaconda3/lib/python3.8/site-packages (4.6.3)\n",
      "Note: you may need to restart the kernel to use updated packages.\n"
     ]
    }
   ],
   "source": [
    "pip install lxml"
   ]
  },
  {
   "cell_type": "code",
   "execution_count": 139,
   "id": "642664dc",
   "metadata": {},
   "outputs": [
    {
     "name": "stdout",
     "output_type": "stream",
     "text": [
      "Requirement already satisfied: html5lib in /home/divyasale/anaconda3/lib/python3.8/site-packages (1.1)\n",
      "Requirement already satisfied: webencodings in /home/divyasale/anaconda3/lib/python3.8/site-packages (from html5lib) (0.5.1)\n",
      "Requirement already satisfied: six>=1.9 in /home/divyasale/anaconda3/lib/python3.8/site-packages (from html5lib) (1.15.0)\n",
      "Note: you may need to restart the kernel to use updated packages.\n"
     ]
    }
   ],
   "source": [
    "pip install html5lib"
   ]
  },
  {
   "cell_type": "code",
   "execution_count": 140,
   "id": "a7881ed3",
   "metadata": {},
   "outputs": [],
   "source": [
    "url=\"https://en.wikipedia.org/wiki/The_World%27s_Billionaires\"\n",
    "df=pd.read_html(url)"
   ]
  },
  {
   "cell_type": "code",
   "execution_count": 141,
   "id": "4b563072",
   "metadata": {},
   "outputs": [
    {
     "data": {
      "text/plain": [
       "45"
      ]
     },
     "execution_count": 141,
     "metadata": {},
     "output_type": "execute_result"
    }
   ],
   "source": [
    "len(df)"
   ]
  },
  {
   "cell_type": "code",
   "execution_count": 142,
   "id": "129b4cfc",
   "metadata": {},
   "outputs": [
    {
     "data": {
      "text/plain": [
       "[                                                    0  \\\n",
       " 0   List of the world's billionaires, ranked in or...   \n",
       " 1   The net worth of the world's billionaires incr...   \n",
       " 2                                 Publication details   \n",
       " 3                                           Publisher   \n",
       " 4                                         Publication   \n",
       " 5                                     First published   \n",
       " 6                                  Latest publication   \n",
       " 7                      Current list details (2021)[2]   \n",
       " 8                                          Wealthiest   \n",
       " 9                                     Net worth (1st)   \n",
       " 10                             Number of billionaires   \n",
       " 11                         Total list net worth value   \n",
       " 12                            New members to the list   \n",
       " 13           Forbes: The World's Billionaires website   \n",
       " \n",
       "                                                     1  \n",
       " 0   List of the world's billionaires, ranked in or...  \n",
       " 1   The net worth of the world's billionaires incr...  \n",
       " 2                                 Publication details  \n",
       " 3                Whale Media InvestmentsForbes family  \n",
       " 4                                              Forbes  \n",
       " 5                                       March 1987[1]  \n",
       " 6                                       April 6, 2021  \n",
       " 7                      Current list details (2021)[2]  \n",
       " 8                                          Jeff Bezos  \n",
       " 9                                      US$177 billion  \n",
       " 10                                               2755  \n",
       " 11                                   US$13.1 trillion  \n",
       " 12                                                493  \n",
       " 13           Forbes: The World's Billionaires website  ,\n",
       "    Icon                                 Description\n",
       " 0   NaN  Has not changed from the previous ranking.\n",
       " 1   NaN    Has increased from the previous ranking.\n",
       " 2   NaN    Has decreased from the previous ranking.,\n",
       "    No.                      Name Net worth (USD)  Age    Nationality  \\\n",
       " 0    1                Jeff Bezos    $177 billion   57  United States   \n",
       " 1    2                 Elon Musk    $151 billion   49  United States   \n",
       " 2    3  Bernard Arnault & family    $150 billion   72         France   \n",
       " 3    4                Bill Gates    $124 billion   65  United States   \n",
       " 4    5           Mark Zuckerberg     $97 billion   36  United States   \n",
       " 5    6            Warren Buffett     $96 billion   90  United States   \n",
       " 6    7             Larry Ellison     $93 billion   76  United States   \n",
       " 7    8                Larry Page   $91.5 billion   48  United States   \n",
       " 8    9               Sergey Brin     $89 billion   47  United States   \n",
       " 9   10             Mukesh Ambani   $84.5 billion   63          India   \n",
       " \n",
       "    Source(s) of wealth  \n",
       " 0               Amazon  \n",
       " 1        Tesla, SpaceX  \n",
       " 2                 LVMH  \n",
       " 3            Microsoft  \n",
       " 4       Meta Platforms  \n",
       " 5   Berkshire Hathaway  \n",
       " 6   Oracle Corporation  \n",
       " 7        Alphabet Inc.  \n",
       " 8        Alphabet Inc.  \n",
       " 9  Reliance Industries  ,\n",
       "    No.                      Name Net worth (USD)  Age    Nationality  \\\n",
       " 0    1                Jeff Bezos    $113 billion   56  United States   \n",
       " 1    2                Bill Gates     $98 billion   64  United States   \n",
       " 2    3  Bernard Arnault & family     $76 billion   71         France   \n",
       " 3    4            Warren Buffett   $67.5 billion   89  United States   \n",
       " 4    5             Larry Ellison     $59 billion   75  United States   \n",
       " 5    6            Amancio Ortega   $55.1 billion   84          Spain   \n",
       " 6    7           Mark Zuckerberg   $54.7 billion   35  United States   \n",
       " 7    8                Jim Walton   $54.6 billion   71  United States   \n",
       " 8    9              Alice Walton   $54.4 billion   70  United States   \n",
       " 9   10          S. Robson Walton   $54.1 billion   77  United States   \n",
       " \n",
       "   Source(s) of wealth  \n",
       " 0              Amazon  \n",
       " 1           Microsoft  \n",
       " 2                LVMH  \n",
       " 3  Berkshire Hathaway  \n",
       " 4  Oracle Corporation  \n",
       " 5       Inditex, Zara  \n",
       " 6      Facebook, Inc.  \n",
       " 7             Walmart  \n",
       " 8             Walmart  \n",
       " 9             Walmart  ,\n",
       "    No.               Name Net worth (USD)  Age    Nationality  \\\n",
       " 0    1         Jeff Bezos    $131 billion   55  United States   \n",
       " 1    2         Bill Gates   $96.5 billion   63  United States   \n",
       " 2    3     Warren Buffett   $82.5 billion   88  United States   \n",
       " 3    4    Bernard Arnault     $76 billion   70         France   \n",
       " 4    5        Carlos Slim     $64 billion   79         Mexico   \n",
       " 5    6     Amancio Ortega   $62.7 billion   82          Spain   \n",
       " 6    7      Larry Ellison   $62.5 billion   74  United States   \n",
       " 7    8    Mark Zuckerberg   $62.3 billion   34  United States   \n",
       " 8    9  Michael Bloomberg   $55.5 billion   77  United States   \n",
       " 9   10         Larry Page   $50.8 billion   45  United States   \n",
       " \n",
       "           Source(s) of wealth  \n",
       " 0                      Amazon  \n",
       " 1                   Microsoft  \n",
       " 2          Berkshire Hathaway  \n",
       " 3                        LVMH  \n",
       " 4  América Móvil, Grupo Carso  \n",
       " 5               Inditex, Zara  \n",
       " 6          Oracle Corporation  \n",
       " 7              Facebook, Inc.  \n",
       " 8              Bloomberg L.P.  \n",
       " 9               Alphabet Inc.  ,\n",
       "    No.             Name Net worth (USD)  Age    Nationality  \\\n",
       " 0    1       Jeff Bezos    $112 billion   54  United States   \n",
       " 1    2       Bill Gates     $90 billion   62  United States   \n",
       " 2    3   Warren Buffett     $84 billion   87  United States   \n",
       " 3    4  Bernard Arnault     $72 billion   69         France   \n",
       " 4    5  Mark Zuckerberg     $71 billion   33  United States   \n",
       " 5    6   Amancio Ortega     $70 billion   81          Spain   \n",
       " 6    7      Carlos Slim   $67.1 billion   78         Mexico   \n",
       " 7    8     Charles Koch     $60 billion   82  United States   \n",
       " 8    8       David Koch     $60 billion   77  United States   \n",
       " 9   10    Larry Ellison   $58.5 billion   73  United States   \n",
       " \n",
       "           Source(s) of wealth  \n",
       " 0                      Amazon  \n",
       " 1                   Microsoft  \n",
       " 2          Berkshire Hathaway  \n",
       " 3                        LVMH  \n",
       " 4              Facebook, Inc.  \n",
       " 5               Inditex, Zara  \n",
       " 6  América Móvil, Grupo Carso  \n",
       " 7             Koch Industries  \n",
       " 8             Koch Industries  \n",
       " 9          Oracle Corporation  ,\n",
       "    No.               Name Net worth (USD)  Age    Nationality  \\\n",
       " 0    1         Bill Gates   $86.0 billion   61  United States   \n",
       " 1    2     Warren Buffett   $75.6 billion   86  United States   \n",
       " 2    3         Jeff Bezos   $72.8 billion   53  United States   \n",
       " 3    4     Amancio Ortega   $71.3 billion   80          Spain   \n",
       " 4    5    Mark Zuckerberg   $56.0 billion   32  United States   \n",
       " 5    6        Carlos Slim   $54.5 billion   77         Mexico   \n",
       " 6    7      Larry Ellison   $52.2 billion   72  United States   \n",
       " 7    8       Charles Koch   $48.3 billion   81  United States   \n",
       " 8    8         David Koch   $48.3 billion   76  United States   \n",
       " 9   10  Michael Bloomberg   $47.5 billion   75  United States   \n",
       " \n",
       "           Source(s) of wealth  \n",
       " 0                   Microsoft  \n",
       " 1          Berkshire Hathaway  \n",
       " 2                      Amazon  \n",
       " 3               Inditex, Zara  \n",
       " 4              Facebook, Inc.  \n",
       " 5  América Móvil, Grupo Carso  \n",
       " 6          Oracle Corporation  \n",
       " 7             Koch Industries  \n",
       " 8             Koch Industries  \n",
       " 9              Bloomberg L.P.  ,\n",
       "    No.               Name Net worth (USD)  Age    Nationality  \\\n",
       " 0    1         Bill Gates   $75.0 billion   60  United States   \n",
       " 1    2     Amancio Ortega   $67.0 billion   79          Spain   \n",
       " 2    3     Warren Buffett   $60.8 billion   85  United States   \n",
       " 3    4        Carlos Slim   $50.0 billion   76         Mexico   \n",
       " 4    5         Jeff Bezos   $45.2 billion   52  United States   \n",
       " 5    6    Mark Zuckerberg   $44.6 billion   31  United States   \n",
       " 6    7      Larry Ellison   $43.6 billion   71  United States   \n",
       " 7    8  Michael Bloomberg   $40.0 billion   74  United States   \n",
       " 8    9       Charles Koch   $39.6 billion   80  United States   \n",
       " 9    9         David Koch   $39.6 billion   75  United States   \n",
       " \n",
       "           Source(s) of wealth  \n",
       " 0                   Microsoft  \n",
       " 1                     Inditex  \n",
       " 2          Berkshire Hathaway  \n",
       " 3  América Móvil, Grupo Carso  \n",
       " 4                      Amazon  \n",
       " 5              Facebook, Inc.  \n",
       " 6          Oracle Corporation  \n",
       " 7              Bloomberg L.P.  \n",
       " 8             Koch Industries  \n",
       " 9             Koch Industries  ,\n",
       "    No.                 Name Net worth (USD)  Age    Nationality  \\\n",
       " 0    1           Bill Gates   $79.2 billion   59  United States   \n",
       " 1    2          Carlos Slim   $77.1 billion   75         Mexico   \n",
       " 2    3       Warren Buffett   $72.7 billion   84  United States   \n",
       " 3    4       Amancio Ortega   $64.5 billion   78          Spain   \n",
       " 4    5        Larry Ellison   $54.3 billion   70  United States   \n",
       " 5    6         Charles Koch   $42.9 billion   79  United States   \n",
       " 6    6           David Koch   $42.9 billion   74  United States   \n",
       " 7    8       Christy Walton   $41.7 billion   66  United States   \n",
       " 8    9           Jim Walton   $40.6 billion   66  United States   \n",
       " 9   10  Liliane Bettencourt   $40.1 billion   92         France   \n",
       " \n",
       "           Source(s) of wealth  \n",
       " 0                   Microsoft  \n",
       " 1  América Móvil, Grupo Carso  \n",
       " 2          Berkshire Hathaway  \n",
       " 3                     Inditex  \n",
       " 4          Oracle Corporation  \n",
       " 5             Koch Industries  \n",
       " 6             Koch Industries  \n",
       " 7                     Walmart  \n",
       " 8                     Walmart  \n",
       " 9                     L'Oreal  ,\n",
       "    No.                     Name Net worth (USD)  Age    Nationality  \\\n",
       " 0    1               Bill Gates   $76.0 billion   58  United States   \n",
       " 1    2     Carlos Slim & family   $72.0 billion   74         Mexico   \n",
       " 2    3           Amancio Ortega   $64.0 billion   77          Spain   \n",
       " 3    4           Warren Buffett   $58.2 billion   83  United States   \n",
       " 4    5            Larry Ellison   $48.0 billion   70  United States   \n",
       " 5    6             Charles Koch   $40.0 billion   78  United States   \n",
       " 6    6               David Koch   $40.0 billion   73  United States   \n",
       " 7    8          Sheldon Adelson   $38.0 billion   80  United States   \n",
       " 8    9  Christy Walton & family   $36.7 billion   65  United States   \n",
       " 9   10               Jim Walton   $34.7 billion   65  United States   \n",
       " \n",
       "           Source(s) of wealth  \n",
       " 0                   Microsoft  \n",
       " 1  América Móvil, Grupo Carso  \n",
       " 2                     Inditex  \n",
       " 3          Berkshire Hathaway  \n",
       " 4          Oracle Corporation  \n",
       " 5             Koch Industries  \n",
       " 6             Koch Industries  \n",
       " 7             Las Vegas Sands  \n",
       " 8                     Walmart  \n",
       " 9                     Walmart  ,\n",
       "    No.                          Name Net worth (USD)  Age    Nationality  \\\n",
       " 0    1          Carlos Slim & family   $73.0 billion   73         Mexico   \n",
       " 1    2                    Bill Gates   $67.0 billion   57  United States   \n",
       " 2    3                Amancio Ortega   $57.0 billion   76          Spain   \n",
       " 3    4                Warren Buffett   $53.5 billion   82  United States   \n",
       " 4    5                 Larry Ellison   $43.0 billion   68  United States   \n",
       " 5    6                  Charles Koch   $34.0 billion   77  United States   \n",
       " 6    6                    David Koch   $34.0 billion   72  United States   \n",
       " 7    8                   Li Ka-shing   $31.0 billion   84      Hong Kong   \n",
       " 8    9  Liliane Bettencourt & family   $30.0 billion   90         France   \n",
       " 9   10               Bernard Arnault   $29.0 billion   63         France   \n",
       " \n",
       "           Source(s) of wealth  \n",
       " 0  América Móvil, Grupo Carso  \n",
       " 1                   Microsoft  \n",
       " 2               Inditex Group  \n",
       " 3          Berkshire Hathaway  \n",
       " 4          Oracle Corporation  \n",
       " 5             Koch Industries  \n",
       " 6             Koch Industries  \n",
       " 7        Cheung Kong Holdings  \n",
       " 8                     L'Oréal  \n",
       " 9                        LVMH  ,\n",
       "    No.                  Name Net worth (USD)  Age    Nationality  \\\n",
       " 0    1  Carlos Slim & family   $69.0 billion   72         Mexico   \n",
       " 1    2            Bill Gates   $61.0 billion   56  United States   \n",
       " 2    3        Warren Buffett   $44.0 billion   81  United States   \n",
       " 3    4       Bernard Arnault   $41.0 billion   63         France   \n",
       " 4    5        Amancio Ortega   $37.5 billion   75          Spain   \n",
       " 5    6         Larry Ellison   $36.0 billion   67  United States   \n",
       " 6    7          Eike Batista   $30.0 billion   55         Brazil   \n",
       " 7    8        Stefan Persson   $26.0 billion   64         Sweden   \n",
       " 8    9           Li Ka-shing   $25.5 billion   83      Hong Kong   \n",
       " 9   10         Karl Albrecht   $25.4 billion   92        Germany   \n",
       " \n",
       "                   Source(s) of wealth  \n",
       " 0          América Móvil, Grupo Carso  \n",
       " 1                           Microsoft  \n",
       " 2                  Berkshire Hathaway  \n",
       " 3  LVMH Moët Hennessy • Louis Vuitton  \n",
       " 4                       Inditex Group  \n",
       " 5                  Oracle Corporation  \n",
       " 6                           EBX Group  \n",
       " 7                                 H&M  \n",
       " 8                Cheung Kong Holdings  \n",
       " 9                                Aldi  ,\n",
       "    No.                     Name Net worth (USD)  Age    Nationality  \\\n",
       " 0    1     Carlos Slim & family   $74.0 billion   71         Mexico   \n",
       " 1    2               Bill Gates   $56.0 billion   55  United States   \n",
       " 2    3           Warren Buffett   $50.0 billion   80  United States   \n",
       " 3    4          Bernard Arnault   $41.0 billion   62         France   \n",
       " 4    5            Larry Ellison   $39.5 billion   66  United States   \n",
       " 5    6           Lakshmi Mittal   $31.1 billion   60          India   \n",
       " 6    7           Amancio Ortega   $31.0 billion   74          Spain   \n",
       " 7    8             Eike Batista   $30.0 billion   53         Brazil   \n",
       " 8    9            Mukesh Ambani   $27.0 billion   54          India   \n",
       " 9   10  Christy Walton & family   $26.5 billion   62  United States   \n",
       " \n",
       "                   Source(s) of wealth  \n",
       " 0          América Móvil, Grupo Carso  \n",
       " 1                           Microsoft  \n",
       " 2                  Berkshire Hathaway  \n",
       " 3  LVMH Moët Hennessy • Louis Vuitton  \n",
       " 4                  Oracle Corporation  \n",
       " 5                      Arcelor Mittal  \n",
       " 6                       Inditex Group  \n",
       " 7                           EBX Group  \n",
       " 8                 Reliance Industries  \n",
       " 9                             Walmart  ,\n",
       "    No.                  Name Net worth (USD)  Age    Nationality  \\\n",
       " 0    1  Carlos Slim & family   $53.5 billion   70         Mexico   \n",
       " 1    2            Bill Gates   $53.0 billion   54  United States   \n",
       " 2    3        Warren Buffett   $47.0 billion   79  United States   \n",
       " 3    4         Mukesh Ambani   $29.0 billion   53          India   \n",
       " 4    5        Lakshmi Mittal   $28.7 billion   60          India   \n",
       " 5    6         Larry Ellison   $28.0 billion   66  United States   \n",
       " 6    7       Bernard Arnault   $27.5 billion   61         France   \n",
       " 7    8          Eike Batista   $27.0 billion   53         Brazil   \n",
       " 8    9        Amancio Ortega   $25.0 billion   74          Spain   \n",
       " 9   10         Karl Albrecht   $23.5 billion   90        Germany   \n",
       " \n",
       "                   Source(s) of wealth  \n",
       " 0          América Móvil, Grupo Carso  \n",
       " 1                           Microsoft  \n",
       " 2                  Berkshire Hathaway  \n",
       " 3                 Reliance Industries  \n",
       " 4                      Arcelor Mittal  \n",
       " 5                  Oracle Corporation  \n",
       " 6  LVMH Moët Hennessy • Louis Vuitton  \n",
       " 7                           EBX Group  \n",
       " 8                       Inditex Group  \n",
       " 9                            Aldi Süd  ,\n",
       "    No.            Name Net worth (USD)  Age    Nationality  \\\n",
       " 0    1      Bill Gates   $40.0 billion   53  United States   \n",
       " 1    2  Warren Buffett   $37.0 billion   78  United States   \n",
       " 2    3     Carlos Slim   $35.0 billion   69         Mexico   \n",
       " 3    4   Larry Ellison   $22.5 billion   64  United States   \n",
       " 4    5  Ingvar Kamprad   $22.0 billion   83         Sweden   \n",
       " 5    6   Karl Albrecht   $21.5 billion   89        Germany   \n",
       " 6    7   Mukesh Ambani   $19.5 billion   52          India   \n",
       " 7    8  Lakshmi Mittal   $19.3 billion   58          India   \n",
       " 8    9   Theo Albrecht   $18.8 billion   87        Germany   \n",
       " 9   10  Amancio Ortega   $18.3 billion   73          Spain   \n",
       " \n",
       "           Source(s) of wealth  \n",
       " 0                   Microsoft  \n",
       " 1          Berkshire Hathaway  \n",
       " 2  América Móvil, Grupo Carso  \n",
       " 3          Oracle Corporation  \n",
       " 4                        IKEA  \n",
       " 5                    Aldi Süd  \n",
       " 6         Reliance Industries  \n",
       " 7              Arcelor Mittal  \n",
       " 8     Aldi Nord, Trader Joe's  \n",
       " 9               Inditex Group  ,\n",
       "    No.              Name Net worth (USD)  Age    Nationality  \\\n",
       " 0    1    Warren Buffett   $62.0 billion   77  United States   \n",
       " 1    2       Carlos Slim   $60.0 billion   68         Mexico   \n",
       " 2    3        Bill Gates   $58.0 billion   52  United States   \n",
       " 3    4    Lakshmi Mittal   $45.0 billion   57          India   \n",
       " 4    5     Mukesh Ambani   $43.0 billion   51          India   \n",
       " 5    6       Anil Ambani   $42.0 billion   48          India   \n",
       " 6    7    Ingvar Kamprad   $31.0 billion   81         Sweden   \n",
       " 7    8  Kushal Pal Singh   $30.0 billion   76          India   \n",
       " 8    9    Oleg Deripaska   $28.0 billion   40         Russia   \n",
       " 9   10     Karl Albrecht   $27.0 billion   88        Germany   \n",
       " \n",
       "            Source(s) of wealth  \n",
       " 0           Berkshire Hathaway  \n",
       " 1   América Móvil, Grupo Carso  \n",
       " 2                    Microsoft  \n",
       " 3               Arcelor Mittal  \n",
       " 4          Reliance Industries  \n",
       " 5  Anil Dhirubhai Ambani Group  \n",
       " 6                         IKEA  \n",
       " 7                    DLF Group  \n",
       " 8                        Rusal  \n",
       " 9                     Aldi Süd  ,\n",
       "    No.             Name Net worth (USD)  Age    Nationality  \\\n",
       " 0    1       Bill Gates   $56.0 billion   51  United States   \n",
       " 1    2   Warren Buffett   $52.0 billion   76  United States   \n",
       " 2    3      Carlos Slim   $49.0 billion   67         Mexico   \n",
       " 3    4   Ingvar Kamprad   $33.0 billion   80         Sweden   \n",
       " 4    5   Lakshmi Mittal   $32.0 billion   56          India   \n",
       " 5    6  Sheldon Adelson   $26.5 billion   73  United States   \n",
       " 6    7  Bernard Arnault   $26.0 billion   58         France   \n",
       " 7    8   Amancio Ortega   $24.0 billion   71          Spain   \n",
       " 8    9      Li Ka-shing   $23.0 billion   78      Hong Kong   \n",
       " 9   10    David Thomson   $22.0 billion   49         Canada   \n",
       " \n",
       "                        Source(s) of wealth  \n",
       " 0                                Microsoft  \n",
       " 1                       Berkshire Hathaway  \n",
       " 2               América Móvil, Grupo Carso  \n",
       " 3                                     IKEA  \n",
       " 4                           Arcelor Mittal  \n",
       " 5                          Las Vegas Sands  \n",
       " 6                                     LVMH  \n",
       " 7                            Inditex Group  \n",
       " 8  Cheung Kong Holdings, Hutchison Whampoa  \n",
       " 9                      Thomson Corporation  ,\n",
       "    No.                 Name Net worth (USD)  Age    Nationality  \\\n",
       " 0    1           Bill Gates   $52.0 billion   50  United States   \n",
       " 1    2       Warren Buffett   $42.0 billion   75  United States   \n",
       " 2    3          Carlos Slim   $30.0 billion   66         Mexico   \n",
       " 3    4       Ingvar Kamprad   $28.0 billion   79         Sweden   \n",
       " 4    5       Lakshmi Mittal   $23.5 billion   55          India   \n",
       " 5    6           Paul Allen   $22.0 billion   53  United States   \n",
       " 6    7      Bernard Arnault   $21.5 billion   57         France   \n",
       " 7    8  Al-Waleed bin Talal   $20.0 billion   49   Saudi Arabia   \n",
       " 8    9      Kenneth Thomson   $19.6 billion   82         Canada   \n",
       " 9   10          Li Ka-shing   $18.8 billion   77      Hong Kong   \n",
       " \n",
       "                     Source(s) of wealth  \n",
       " 0                             Microsoft  \n",
       " 1                    Berkshire Hathaway  \n",
       " 2            América Móvil, Grupo Carso  \n",
       " 3                                  IKEA  \n",
       " 4                  Mittal Steel Company  \n",
       " 5                             Microsoft  \n",
       " 6    LVMH Moët Hennessy • Louis Vuitton  \n",
       " 7               Kingdom Holding Company  \n",
       " 8                   Thomson Corporation  \n",
       " 9  Cheung Kong Group, Hutchison Whampoa  ,\n",
       "    No.                 Name Net worth (USD)  Age    Nationality  \\\n",
       " 0    1           Bill Gates   $46.5 billion   49  United States   \n",
       " 1    2       Warren Buffett   $44.0 billion   74  United States   \n",
       " 2    3       Lakshmi Mittal   $25.0 billion   54          India   \n",
       " 3    4          Carlos Slim   $23.8 billion   65         Mexico   \n",
       " 4    5  Al-Waleed bin Talal   $23.7 billion   49   Saudi Arabia   \n",
       " 5    6       Ingvar Kamprad   $23.0 billion   79         Sweden   \n",
       " 6    7           Paul Allen   $21.0 billion   52  United States   \n",
       " 7    8        Karl Albrecht   $18.5 billion   85        Germany   \n",
       " 8    9        Larry Ellison   $18.4 billion   60  United States   \n",
       " 9   10     S. Robson Walton   $18.3 billion   61  United States   \n",
       " \n",
       "           Source(s) of wealth  \n",
       " 0                   Microsoft  \n",
       " 1          Berkshire Hathaway  \n",
       " 2        Mittal Steel Company  \n",
       " 3  América Móvil, Grupo Carso  \n",
       " 4     Kingdom Holding Company  \n",
       " 5                        IKEA  \n",
       " 6                   Microsoft  \n",
       " 7                    Aldi Süd  \n",
       " 8          Oracle Corporation  \n",
       " 9                     Walmart  ,\n",
       "    No.                 Name Net worth (USD)  Age    Nationality  \\\n",
       " 0    1           Bill Gates   $46.6 billion   48  United States   \n",
       " 1    2       Warren Buffett   $42.9 billion   73  United States   \n",
       " 2    3        Karl Albrecht   $23.0 billion   84        Germany   \n",
       " 3    4  Al-Waleed bin Talal   $21.5 billion   47   Saudi Arabia   \n",
       " 4    5           Paul Allen   $21.0 billion   51  United States   \n",
       " 5    6        Alice Walton*   $20.0 billion   55  United States   \n",
       " 6    6        Helen Walton*   $20.0 billion   84  United States   \n",
       " 7    6          Jim Walton*   $20.0 billion   56  United States   \n",
       " 8    6         John Walton*   $20.0 billion   58  United States   \n",
       " 9    6    S. Robson Walton*   $20.0 billion   60  United States   \n",
       " \n",
       "        Source(s) of wealth  \n",
       " 0                Microsoft  \n",
       " 1       Berkshire Hathaway  \n",
       " 2                 Aldi Süd  \n",
       " 3  Kingdom Holding Company  \n",
       " 4                Microsoft  \n",
       " 5                 Wal-Mart  \n",
       " 6                 Wal-Mart  \n",
       " 7                 Wal-Mart  \n",
       " 8                 Wal-Mart  \n",
       " 9                 Wal-Mart  ,\n",
       "     No.                    Name Net worth (USD)  Age    Nationality  \\\n",
       " 0     1              Bill Gates   $40.7 billion   47  United States   \n",
       " 1     2          Warren Buffett   $30.5 billion   72  United States   \n",
       " 2     3  Karl and Theo Albrecht   $25.6 billion   83        Germany   \n",
       " 3     4              Paul Allen   $20.1 billion   50  United States   \n",
       " 4     5     Al-Waleed bin Talal   $17.7 billion   46   Saudi Arabia   \n",
       " 5     6           Larry Ellison   $16.6 billion   58  United States   \n",
       " 6     7           Alice Walton*   $16.5 billion   54  United States   \n",
       " 7     7           Helen Walton*   $16.5 billion   83  United States   \n",
       " 8     7             Jim Walton*   $16.5 billion   55  United States   \n",
       " 9     7            John Walton*   $16.5 billion   57  United States   \n",
       " 10    7       S. Robson Walton*   $16.5 billion   59  United States   \n",
       " \n",
       "         Source(s) of wealth  \n",
       " 0                 Microsoft  \n",
       " 1        Berkshire Hathaway  \n",
       " 2                  Aldi Süd  \n",
       " 3                 Microsoft  \n",
       " 4   Kingdom Holding Company  \n",
       " 5        Oracle Corporation  \n",
       " 6                  Wal-Mart  \n",
       " 7                  Wal-Mart  \n",
       " 8                  Wal-Mart  \n",
       " 9                  Wal-Mart  \n",
       " 10                 Wal-Mart  ,\n",
       "    No.                    Name Net worth (USD)  Age    Nationality  \\\n",
       " 0    1              Bill Gates   $52.8 billion   46  United States   \n",
       " 1    2          Warren Buffett   $35.0 billion   71  United States   \n",
       " 2    3  Karl and Theo Albrecht   $26.8 billion   82        Germany   \n",
       " 3    4              Paul Allen   $25.2 billion   49  United States   \n",
       " 4    5           Larry Ellison   $23.5 billion   57  United States   \n",
       " 5    6             Jim Walton*   $20.8 billion   54  United States   \n",
       " 6    7            John Walton*   $20.7 billion   56  United States   \n",
       " 7    8           Alice Walton*   $20.5 billion   53  United States   \n",
       " 8    8       S. Robson Walton*   $20.5 billion   58  United States   \n",
       " 9    8           Helen Walton*   $20.5 billion   82  United States   \n",
       " \n",
       "   Source(s) of wealth  \n",
       " 0           Microsoft  \n",
       " 1  Berkshire Hathaway  \n",
       " 2            Aldi Süd  \n",
       " 3           Microsoft  \n",
       " 4  Oracle Corporation  \n",
       " 5            Wal-Mart  \n",
       " 6            Wal-Mart  \n",
       " 7            Wal-Mart  \n",
       " 8            Wal-Mart  \n",
       " 9            Wal-Mart  ,\n",
       "     No.                    Name Net worth (USD)  Age    Nationality  \\\n",
       " 0     1              Bill Gates   $58.7 billion   45  United States   \n",
       " 1     2          Warren Buffett   $32.3 billion   70  United States   \n",
       " 2     3              Paul Allen   $30.4 billion   48  United States   \n",
       " 3     4           Larry Ellison   $26.0 billion   56  United States   \n",
       " 4     5  Karl and Theo Albrecht   $25.0 billion   81        Germany   \n",
       " 5     6     Al-Waleed bin Talal   $20.0 billion   44   Saudi Arabia   \n",
       " 6     7             Jim Walton*   $18.8 billion   53  United States   \n",
       " 7     8            John Walton*   $18.7 billion   55  United States   \n",
       " 8     9       S. Robson Walton*   $18.6 billion   57  United States   \n",
       " 9    10           Alice Walton*   $18.5 billion   52  United States   \n",
       " 10   10           Helen Walton*   $18.5 billion   81  United States   \n",
       " \n",
       "         Source(s) of wealth  \n",
       " 0                 Microsoft  \n",
       " 1        Berkshire Hathaway  \n",
       " 2                 Microsoft  \n",
       " 3        Oracle Corporation  \n",
       " 4                      Aldi  \n",
       " 5   Kingdom Holding Company  \n",
       " 6                  Wal-Mart  \n",
       " 7                  Wal-Mart  \n",
       " 8                  Wal-Mart  \n",
       " 9                  Wal-Mart  \n",
       " 10                 Wal-Mart  ,\n",
       "    No.                    Name Net worth (USD)  Age    Nationality  \\\n",
       " 0    1              Bill Gates   $60.0 billion   44  United States   \n",
       " 1    2           Larry Ellison   $47.0 billion   55  United States   \n",
       " 2    3              Paul Allen   $28.0 billion   47  United States   \n",
       " 3    4          Warren Buffett   $25.6 billion   69  United States   \n",
       " 4    5  Karl and Theo Albrecht   $20.0 billion   80        Germany   \n",
       " 5    6     Al-Waleed bin Talal   $20.0 billion   43   Saudi Arabia   \n",
       " 6    7        S. Robson Walton   $20.0 billion   57  United States   \n",
       " 7    8           Masayoshi Son   $19.4 billion   43          Japan   \n",
       " 8    9            Michael Dell   $19.1 billion   35  United States   \n",
       " 9   10         Kenneth Thomson   $16.1 billion   77         Canada   \n",
       " \n",
       "                  Source(s) of wealth  \n",
       " 0                          Microsoft  \n",
       " 1                 Oracle Corporation  \n",
       " 2                          Microsoft  \n",
       " 3                 Berkshire Hathaway  \n",
       " 4                           Aldi Süd  \n",
       " 5            Kingdom Holding Company  \n",
       " 6                           Wal-Mart  \n",
       " 7  Softbank Capital, SoftBank Mobile  \n",
       " 8                               Dell  \n",
       " 9            The Thomson Corporation  ,\n",
       "    No.[44]                    Name Net worth (USD)    Nationality\n",
       " 0        1              Bill Gates   $90.0 billion  United States\n",
       " 1        2          Warren Buffett   $36.0 billion  United States\n",
       " 2        3              Paul Allen   $30.0 billion  United States\n",
       " 3        4          Steven Ballmer   $19.5 billion  United States\n",
       " 4        5         Philip Anschutz   $16.5 billion  United States\n",
       " 5        6            Michael Dell   $16.5 billion  United States\n",
       " 6        7        S. Robson Walton   $15.8 billion  United States\n",
       " 7        8     Al-Waleed Bin Talal   $15.0 billion   Saudi Arabia\n",
       " 8        9  Karl and Theo Albrecht   $13.6 billion        Germany\n",
       " 9       10    Li Ka-shing & family   $12.6 billion      Hong Kong,\n",
       "    No.[44]                       Name Net worth (USD)    Nationality\n",
       " 0        1                 Bill Gates   $51.0 billion  United States\n",
       " 1        2              Walton family   $48.0 billion  United States\n",
       " 2        3             Warren Buffett   $33.0 billion  United States\n",
       " 3        4                 Paul Allen   $21.0 billion  United States\n",
       " 4        5            Kenneth Thomson   $14.4 billion         Canada\n",
       " 5        6    Jay and Robert Pritzker   $13.5 billion  United States\n",
       " 6        7  Forrest Mars Sr. & family   $13.5 billion  United States\n",
       " 7        8        Al-Waleed Bin Talal   $13.3 billion   Saudi Arabia\n",
       " 8        9               Lee Shau-kee   $12.7 billion      Hong Kong\n",
       " 9       10     Karl and Theo Albrecht   $11.7 billion        Germany,\n",
       "    No.[44]                       Name Net worth (USD)    Nationality\n",
       " 0        1                 Bill Gates   $36.4 billion  United States\n",
       " 1        2              Walton family   $27.6 billion  United States\n",
       " 2        3             Warren Buffett   $23.2 billion  United States\n",
       " 3        4               Lee Shau-kee   $14.7 billion      Hong Kong\n",
       " 4        5                 Paul Allen   $14.1 billion  United States\n",
       " 5        6              Kwok brothers   $12.3 billion      Hong Kong\n",
       " 6        7                Haas family   $12.3 billion  United States\n",
       " 7        8  Forrest Mars Sr. & family   $12.0 billion  United States\n",
       " 8        9     Karl and Theo Albrecht   $11.5 billion        Germany\n",
       " 9       10      Tsai Wan-lin & family   $11.3 billion         Taiwan,\n",
       "    No.[44]                             Name Net worth (USD)    Nationality\n",
       " 0        1                    Walton family   $22.9 billion  United States\n",
       " 1        2                       Bill Gates   $18.0 billion  United States\n",
       " 2        3                   Warren Buffett   $15.3 billion  United States\n",
       " 3        4  Oeri, Hoffman & Sacher families   $13.1 billion    Switzerland\n",
       " 4        5                     Lee Shau-kee   $12.7 billion      Hong Kong\n",
       " 5        6            Tsai Wan-lin & family   $12.2 billion         Taiwan\n",
       " 6        7                    Kwok brothers   $11.2 billion      Hong Kong\n",
       " 7        8             Li Ka-shing & family   $10.6 billion      Hong Kong\n",
       " 8        9                Yoshiaki Tsutsumi    $9.2 billion          Japan\n",
       " 9       10           Karl and Theo Albrecht    $9.0 billion        Germany,\n",
       "    No.[44]                          Name Net worth (USD)    Nationality\n",
       " 0        1                 Walton family   $23.5 billion  United States\n",
       " 1        2                    Bill Gates   $12.9 billion  United States\n",
       " 2        3                Warren Buffett   $10.7 billion  United States\n",
       " 3        4          Hans and Gad Rausing    $9.0 billion         Sweden\n",
       " 4        5             Yoshiaki Tsutsumi    $9.0 billion          Japan\n",
       " 5        6  Paul Sacher & Hoffman family    $8.6 billion    Switzerland\n",
       " 6        7         Tsai Wan-lin & family    $8.5 billion         Taiwan\n",
       " 7        8               Kenneth Thomson    $6.5 billion         Canada\n",
       " 8        9                  Lee Shau-kee    $6.5 billion      Hong Kong\n",
       " 9       10                 Chung Ju-yung    $6.2 billion    South Korea,\n",
       "    No.[44]                          Name Net worth (USD)    Nationality\n",
       " 0        1                 Walton family   $22.6 billion  United States\n",
       " 1        2                du Pont family    $9.0 billion  United States\n",
       " 2        3          Hans and Gad Rausing    $9.0 billion         Sweden\n",
       " 3        4             Yoshiaki Tsutsumi    $8.5 billion          Japan\n",
       " 4        5                    Bill Gates    $8.2 billion  United States\n",
       " 5        6                Warren Buffett    $7.9 billion  United States\n",
       " 6        7  Paul Sacher & Hoffman family    $7.8 billion    Switzerland\n",
       " 7        8         Tsai Wan-lin & family    $7.5 billion         Taiwan\n",
       " 8        9        Karl and Theo Albrecht    $7.3 billion        Germany\n",
       " 9       10                   Carlos Slim    $6.6 billion         Mexico,\n",
       "    No.[44]                         Name Net worth (USD)    Nationality\n",
       " 0        1                Walton family   $25.3 billion  United States\n",
       " 1        2                  Mars family    $9.2 billion  United States\n",
       " 2        3            Yoshiaki Tsutsumi    $9.0 billion          Japan\n",
       " 3        4               du Pont family    $8.6 billion  United States\n",
       " 4        5        Minoru and Akira Mori    $7.5 billion          Japan\n",
       " 5        6                   Bill Gates    $7.4 billion  United States\n",
       " 6        7   Samuel and Donald Newhouse    $7.0 billion  United States\n",
       " 7        8  Sid and Lee Bass & brothers    $6.8 billion  United States\n",
       " 8        9               Warren Buffett    $6.6 billion  United States\n",
       " 9       10                  Erivan Haub    $6.2 billion        Germany,\n",
       "    No.[44]                      Name Net worth (USD)     Nationality\n",
       " 0        1             Walton family   $23.8 billion   United States\n",
       " 1        2           Taikichiro Mori   $13.0 billion           Japan\n",
       " 2        3         Yoshiaki Tsutsumi   $10.0 billion           Japan\n",
       " 3        4      Hans and Gad Rausing    $7.0 billion          Sweden\n",
       " 4        5               Erivan Haub    $6.9 billion         Germany\n",
       " 5        6             Haniel family    $6.4 billion         Germany\n",
       " 6        7                Bill Gates    $6.4 billion   United States\n",
       " 7        8  David Sainsbury & family    $6.2 billion  United Kingdom\n",
       " 8        9           Kenneth Thomson    $6.2 billion          Canada\n",
       " 9       10              Shin Kyuk-ho    $6.0 billion     South Korea,\n",
       "    No.[44]                          Name Net worth (USD)    Nationality\n",
       " 0        1                 Walton family   $18.5 billion  United States\n",
       " 1        2               Taikichiro Mori   $15.0 billion          Japan\n",
       " 2        3             Yoshiaki Tsutsumi   $14.0 billion          Japan\n",
       " 3        4                du Pont family   $10.0 billion  United States\n",
       " 4        5          Hans and Gad Rausing    $9.0 billion         Sweden\n",
       " 5        6          Kitaro Watanabe [ja]    $7.7 billion          Japan\n",
       " 6        7     Paul Reichmann & brothers    $7.1 billion         Canada\n",
       " 7        8               Kenneth Thomson    $6.8 billion         Canada\n",
       " 8        9  Kenkichi Nakajima [Wikidata]    $6.1 billion          Japan\n",
       " 9       10                  Shin Kyuk-ho    $6.0 billion    South Korea,\n",
       "    No.[44]                          Name Net worth (USD)    Nationality\n",
       " 0        1             Yoshiaki Tsutsumi   $16.0 billion          Japan\n",
       " 1        2               Taikichiro Mori   $14.6 billion          Japan\n",
       " 2        3                 Walton family   $13.5 billion  United States\n",
       " 3        4                du Pont family   $10.0 billion  United States\n",
       " 4        5          Hans and Gad Rausing    $9.6 billion         Sweden\n",
       " 5        6          Kitaro Watanabe [ja]    $9.2 billion          Japan\n",
       " 6        7     Paul Reichmann & brothers    $9.0 billion         Canada\n",
       " 7        8  Kenkichi Nakajima [Wikidata]    $8.4 billion          Japan\n",
       " 8        9                  Shin Kyuk-ho    $7.5 billion    South Korea\n",
       " 9       10                Eitaro Itoyama    $5.8 billion          Japan,\n",
       "    No.[45]                                   Name Net worth (USD)  \\\n",
       " 0        1                      Yoshiaki Tsutsumi   $15.0 billion   \n",
       " 1        2                        Taikichiro Mori   $14.2 billion   \n",
       " 2        3                    Sam Walton & family    $8.7 billion   \n",
       " 3        4                     Reichmann brothers    $8.0 billion   \n",
       " 4        4                           Shin Kyuk-ho    $8.0 billion   \n",
       " 5        6           Hirotomo Takei [ja] & family    $7.8 billion   \n",
       " 6        7                   Kitaro Watanabe [ja]   $7.0 billion+   \n",
       " 7        8  Haruhiko Yoshimoto [Wikidata]& family    $7.0 billion   \n",
       " 8        8                   Hans and Gad Rausing    $7.0 billion   \n",
       " 9       10                         Eitaro Itoyama    $6.6 billion   \n",
       " \n",
       "      Nationality  \n",
       " 0          Japan  \n",
       " 1          Japan  \n",
       " 2  United States  \n",
       " 3         Canada  \n",
       " 4    South Korea  \n",
       " 5          Japan  \n",
       " 6          Japan  \n",
       " 7          Japan  \n",
       " 8         Sweden  \n",
       " 9          Japan  ,\n",
       "    No.[46]                           Name Net worth (USD)    Nationality\n",
       " 0        1              Yoshiaki Tsutsumi   $18.9 billion          Japan\n",
       " 1        2                Taikichiro Mori   $18.0 billion          Japan\n",
       " 2        3             Reichmann brothers    $9.0 billion         Canada\n",
       " 3        4                   Shin Kyuk-ho    $8.0 billion    South Korea\n",
       " 4        4                   K. C. Irving    $8.0 billion         Canada\n",
       " 5        6  Haruhiko Yoshimoto [Wikidata]    $7.8 billion          Japan\n",
       " 6        7                     Sam Walton    $6.5 billion  United States\n",
       " 7        8                   Tsai Wan-lin    $5.6 billion         Taiwan\n",
       " 8        9                 Eitaro Itoyama   $5.0 billion+          Japan\n",
       " 9       10           Kitaro Watanabe [ja]    $5.2 billion          Japan,\n",
       "    No.[47]                           Name Net worth (USD)   Nationality\n",
       " 0        1              Yoshiaki Tsutsumi     $20 billion         Japan\n",
       " 1        2                Taikichiro Mori     $15 billion         Japan\n",
       " 2        3         Shigeru Kobayashi [ja]    $7.5 billion         Japan\n",
       " 3        4  Haruhiko Yoshimoto [Wikidata]    $7.0 billion         Japan\n",
       " 4        5   Salim Ahmed Bin Mahfouz [ar]    $6.2 billion  Saudi Arabia\n",
       " 5        6           Hans and Gad Rausing    $6.0 billion        Sweden\n",
       " 6        7                 Paul Reichmann    $6.0 billion        Canada\n",
       " 7        8         Yohachiro Iwasaki [ja]    $5.6 billion         Japan\n",
       " 8        9                Kenneth Thomson    $5.4 billion        Canada\n",
       " 9       10                     Keizo Saji    $4.0 billion         Japan,\n",
       "                                 Year            Number of billionaires  \\\n",
       " 0                            2021[2]                              2755   \n",
       " 1                               2020                              2095   \n",
       " 2                               2019                              2153   \n",
       " 3                               2018                              2208   \n",
       " 4                               2017                              2043   \n",
       " 5                               2016                              1810   \n",
       " 6                           2015[15]                              1826   \n",
       " 7                           2014[53]                              1645   \n",
       " 8                           2013[54]                              1426   \n",
       " 9                               2012                              1226   \n",
       " 10                              2011                              1210   \n",
       " 11                              2010                              1011   \n",
       " 12                              2009                               793   \n",
       " 13                              2008                              1125   \n",
       " 14                              2007                               946   \n",
       " 15                              2006                               793   \n",
       " 16                              2005                               691   \n",
       " 17                              2004                               587   \n",
       " 18                              2003                               476   \n",
       " 19                              2002                               497   \n",
       " 20                              2001                               538   \n",
       " 21                              2000                               470   \n",
       " 22  Sources: Forbes.[15][53][52][54]  Sources: Forbes.[15][53][52][54]   \n",
       " \n",
       "           Group's combined net worth  \n",
       " 0                     $13.1 trillion  \n",
       " 1                      $8.0 trillion  \n",
       " 2                      $8.7 trillion  \n",
       " 3                      $9.1 trillion  \n",
       " 4                      $7.7 trillion  \n",
       " 5                      $6.5 trillion  \n",
       " 6                      $7.1 trillion  \n",
       " 7                      $6.4 trillion  \n",
       " 8                      $5.4 trillion  \n",
       " 9                      $4.6 trillion  \n",
       " 10                     $4.5 trillion  \n",
       " 11                     $3.6 trillion  \n",
       " 12                     $2.4 trillion  \n",
       " 13                     $4.4 trillion  \n",
       " 14                     $3.5 trillion  \n",
       " 15                     $2.6 trillion  \n",
       " 16                     $2.2 trillion  \n",
       " 17                     $1.9 trillion  \n",
       " 18                     $1.4 trillion  \n",
       " 19                     $1.5 trillion  \n",
       " 20                     $1.8 trillion  \n",
       " 21                               NaN  \n",
       " 22  Sources: Forbes.[15][53][52][54]  ,\n",
       "   .mw-parser-output .navbar{display:inline;font-size:88%;font-weight:normal}.mw-parser-output .navbar-collapse{float:left;text-align:left}.mw-parser-output .navbar-boxtext{word-spacing:0}.mw-parser-output .navbar ul{display:inline-block;white-space:nowrap;line-height:inherit}.mw-parser-output .navbar-brackets::before{margin-right:-0.125em;content:\"[ \"}.mw-parser-output .navbar-brackets::after{margin-left:-0.125em;content:\" ]\"}.mw-parser-output .navbar li{word-spacing:-0.125em}.mw-parser-output .navbar a>span,.mw-parser-output .navbar a>abbr{text-decoration:inherit}.mw-parser-output .navbar-mini abbr{font-variant:small-caps;border-bottom:none;text-decoration:none;cursor:inherit}.mw-parser-output .navbar-ct-full{font-size:114%;margin:0 7em}.mw-parser-output .navbar-ct-mini{font-size:114%;margin:0 4em}.mw-parser-output .infobox .navbar{font-size:100%}.mw-parser-output .navbox .navbar{display:block;font-size:100%}.mw-parser-output .navbox-title .navbar{float:left;text-align:left;margin-right:0.5em}vteForbes magazine  \\\n",
       " 0                                          Companies                                                                                                                                                                                                                                                                                                                                                                                                                                                                                                                                                                                                                                                                                                                                                                                                                                                                                                                                                                                                                  \n",
       " 1                                             People                                                                                                                                                                                                                                                                                                                                                                                                                                                                                                                                                                                                                                                                                                                                                                                                                                                                                                                                                                                                                  \n",
       " 2                                            General                                                                                                                                                                                                                                                                                                                                                                                                                                                                                                                                                                                                                                                                                                                                                                                                                                                                                                                                                                                                                  \n",
       " 3                                            Richest                                                                                                                                                                                                                                                                                                                                                                                                                                                                                                                                                                                                                                                                                                                                                                                                                                                                                                                                                                                                                  \n",
       " 4                                             Places                                                                                                                                                                                                                                                                                                                                                                                                                                                                                                                                                                                                                                                                                                                                                                                                                                                                                                                                                                                                                  \n",
       " 5                                             Sports                                                                                                                                                                                                                                                                                                                                                                                                                                                                                                                                                                                                                                                                                                                                                                                                                                                                                                                                                                                                                  \n",
       " 6                                         Technology                                                                                                                                                                                                                                                                                                                                                                                                                                                                                                                                                                                                                                                                                                                                                                                                                                                                                                                                                                                                                  \n",
       " \n",
       "   .mw-parser-output .navbar{display:inline;font-size:88%;font-weight:normal}.mw-parser-output .navbar-collapse{float:left;text-align:left}.mw-parser-output .navbar-boxtext{word-spacing:0}.mw-parser-output .navbar ul{display:inline-block;white-space:nowrap;line-height:inherit}.mw-parser-output .navbar-brackets::before{margin-right:-0.125em;content:\"[ \"}.mw-parser-output .navbar-brackets::after{margin-left:-0.125em;content:\" ]\"}.mw-parser-output .navbar li{word-spacing:-0.125em}.mw-parser-output .navbar a>span,.mw-parser-output .navbar a>abbr{text-decoration:inherit}.mw-parser-output .navbar-mini abbr{font-variant:small-caps;border-bottom:none;text-decoration:none;cursor:inherit}.mw-parser-output .navbar-ct-full{font-size:114%;margin:0 7em}.mw-parser-output .navbar-ct-mini{font-size:114%;margin:0 4em}.mw-parser-output .infobox .navbar{font-size:100%}.mw-parser-output .navbox .navbar{display:block;font-size:100%}.mw-parser-output .navbox-title .navbar{float:left;text-align:left;margin-right:0.5em}vteForbes magazine.1  \\\n",
       " 0                             Global 2000 Forbes 500                                                                                                                                                                                                                                                                                                                                                                                                                                                                                                                                                                                                                                                                                                                                                                                                                                                                                                                                                                                                                    \n",
       " 1  General Celebrity 100 30 Under 30 China Celebr...                                                                                                                                                                                                                                                                                                                                                                                                                                                                                                                                                                                                                                                                                                                                                                                                                                                                                                                                                                                                                    \n",
       " 2  Celebrity 100 30 Under 30 China Celebrity 100 ...                                                                                                                                                                                                                                                                                                                                                                                                                                                                                                                                                                                                                                                                                                                                                                                                                                                                                                                                                                                                                    \n",
       " 3  The World's Billionaires Forbes 400 Australia’...                                                                                                                                                                                                                                                                                                                                                                                                                                                                                                                                                                                                                                                                                                                                                                                                                                                                                                                                                                                                                    \n",
       " 4                            America's Best Colleges                                                                                                                                                                                                                                                                                                                                                                                                                                                                                                                                                                                                                                                                                                                                                                                                                                                                                                                                                                                                                    \n",
       " 5  Highest-paid athletes Most valuable sports tea...                                                                                                                                                                                                                                                                                                                                                                                                                                                                                                                                                                                                                                                                                                                                                                                                                                                                                                                                                                                                                    \n",
       " 6                Midas List (Tech's Top Deal Makers)                                                                                                                                                                                                                                                                                                                                                                                                                                                                                                                                                                                                                                                                                                                                                                                                                                                                                                                                                                                                                    \n",
       " \n",
       "    .mw-parser-output .navbar{display:inline;font-size:88%;font-weight:normal}.mw-parser-output .navbar-collapse{float:left;text-align:left}.mw-parser-output .navbar-boxtext{word-spacing:0}.mw-parser-output .navbar ul{display:inline-block;white-space:nowrap;line-height:inherit}.mw-parser-output .navbar-brackets::before{margin-right:-0.125em;content:\"[ \"}.mw-parser-output .navbar-brackets::after{margin-left:-0.125em;content:\" ]\"}.mw-parser-output .navbar li{word-spacing:-0.125em}.mw-parser-output .navbar a>span,.mw-parser-output .navbar a>abbr{text-decoration:inherit}.mw-parser-output .navbar-mini abbr{font-variant:small-caps;border-bottom:none;text-decoration:none;cursor:inherit}.mw-parser-output .navbar-ct-full{font-size:114%;margin:0 7em}.mw-parser-output .navbar-ct-mini{font-size:114%;margin:0 4em}.mw-parser-output .infobox .navbar{font-size:100%}.mw-parser-output .navbox .navbar{display:block;font-size:100%}.mw-parser-output .navbox-title .navbar{float:left;text-align:left;margin-right:0.5em}vteForbes magazine.2  \n",
       " 0                                                NaN                                                                                                                                                                                                                                                                                                                                                                                                                                                                                                                                                                                                                                                                                                                                                                                                                                                                                                                                                                                                                    \n",
       " 1                                                NaN                                                                                                                                                                                                                                                                                                                                                                                                                                                                                                                                                                                                                                                                                                                                                                                                                                                                                                                                                                                                                    \n",
       " 2                                                NaN                                                                                                                                                                                                                                                                                                                                                                                                                                                                                                                                                                                                                                                                                                                                                                                                                                                                                                                                                                                                                    \n",
       " 3                                                NaN                                                                                                                                                                                                                                                                                                                                                                                                                                                                                                                                                                                                                                                                                                                                                                                                                                                                                                                                                                                                                    \n",
       " 4                                                NaN                                                                                                                                                                                                                                                                                                                                                                                                                                                                                                                                                                                                                                                                                                                                                                                                                                                                                                                                                                                                                    \n",
       " 5                                                NaN                                                                                                                                                                                                                                                                                                                                                                                                                                                                                                                                                                                                                                                                                                                                                                                                                                                                                                                                                                                                                    \n",
       " 6                                                NaN                                                                                                                                                                                                                                                                                                                                                                                                                                                                                                                                                                                                                                                                                                                                                                                                                                                                                                                                                                                                                    ,\n",
       "          0                                                  1\n",
       " 0  General  Celebrity 100 30 Under 30 China Celebrity 100 ...\n",
       " 1  Richest  The World's Billionaires Forbes 400 Australia’...,\n",
       "   vteBillionaires                                  vteBillionaires.1\n",
       " 0  By citizenship  Argentina Austria Belgium Brazil Canada Chile ...\n",
       " 1       By region             World Africa Asia Europe Latin America\n",
       " 2    Forbes lists  2010 2011 2012 2013 2014 2015 2016 2017 2018 2...\n",
       " 3           Lists  Black Bloomberg Billionaires Index Financial R...\n",
       " 4           Other                             Billionaire space race,\n",
       "                                     vteExtreme wealth  \\\n",
       " 0                                            Concepts   \n",
       " 1   Capital accumulation Overaccumulation Economic...   \n",
       " 2                                              People   \n",
       " 3                                              Wealth   \n",
       " 4                                               Lists   \n",
       " 5                                              People   \n",
       " 6                                       Organizations   \n",
       " 7                                               Other   \n",
       " 8                                            See also   \n",
       " 9   Diseases of affluence Affluenza Argumentum ad ...   \n",
       " 10                                       Philanthropy   \n",
       " 11                                            Sayings   \n",
       " 12                                              Media   \n",
       " 13         Category By Country Commons Search Commons   \n",
       " \n",
       "                                   vteExtreme wealth.1  \n",
       " 0   Capital accumulation Overaccumulation Economic...  \n",
       " 1   Capital accumulation Overaccumulation Economic...  \n",
       " 2   Billionaire Captain of industry High-net-worth...  \n",
       " 3   Concentration Distribution Dynastic Effect Geo...  \n",
       " 4   People Forbes list of billionaires Female bill...  \n",
       " 5   Forbes list of billionaires Female billionaire...  \n",
       " 6   Largest companies by revenue Largest corporate...  \n",
       " 7   Cities by number of billionaires Countries by ...  \n",
       " 8   Diseases of affluence Affluenza Argumentum ad ...  \n",
       " 9   Diseases of affluence Affluenza Argumentum ad ...  \n",
       " 10  Gospel of Wealth The Giving Pledge Philanthroc...  \n",
       " 11  The rich get richer and the poor get poorer So...  \n",
       " 12  Das Kapital Plutus Greek god of wealth Supercl...  \n",
       " 13         Category By Country Commons Search Commons  ,\n",
       "                                                    0  \\\n",
       " 0  Capital accumulation Overaccumulation Economic...   \n",
       " 1                                             People   \n",
       " 2                                             Wealth   \n",
       " \n",
       "                                                    1  \n",
       " 0  Capital accumulation Overaccumulation Economic...  \n",
       " 1  Billionaire Captain of industry High-net-worth...  \n",
       " 2  Concentration Distribution Dynastic Effect Geo...  ,\n",
       "                0                                                  1\n",
       " 0         People  Forbes list of billionaires Female billionaire...\n",
       " 1  Organizations  Largest companies by revenue Largest corporate...\n",
       " 2          Other  Cities by number of billionaires Countries by ...,\n",
       "                                                    0  \\\n",
       " 0  Diseases of affluence Affluenza Argumentum ad ...   \n",
       " 1                                       Philanthropy   \n",
       " 2                                            Sayings   \n",
       " 3                                              Media   \n",
       " \n",
       "                                                    1  \n",
       " 0  Diseases of affluence Affluenza Argumentum ad ...  \n",
       " 1  Gospel of Wealth The Giving Pledge Philanthroc...  \n",
       " 2  The rich get richer and the poor get poorer So...  \n",
       " 3  Das Kapital Plutus Greek god of wealth Supercl...  ]"
      ]
     },
     "execution_count": 142,
     "metadata": {},
     "output_type": "execute_result"
    }
   ],
   "source": [
    "df"
   ]
  },
  {
   "cell_type": "code",
   "execution_count": 153,
   "id": "da81de84",
   "metadata": {},
   "outputs": [],
   "source": [
    "worlds_billionaires_2021=df[2]"
   ]
  },
  {
   "cell_type": "code",
   "execution_count": 154,
   "id": "fcf1b8de",
   "metadata": {},
   "outputs": [],
   "source": [
    "worlds_billionaires_2020=df[3]"
   ]
  },
  {
   "cell_type": "code",
   "execution_count": 155,
   "id": "35cbfdfd",
   "metadata": {},
   "outputs": [
    {
     "data": {
      "text/html": [
       "<div>\n",
       "<style scoped>\n",
       "    .dataframe tbody tr th:only-of-type {\n",
       "        vertical-align: middle;\n",
       "    }\n",
       "\n",
       "    .dataframe tbody tr th {\n",
       "        vertical-align: top;\n",
       "    }\n",
       "\n",
       "    .dataframe thead th {\n",
       "        text-align: right;\n",
       "    }\n",
       "</style>\n",
       "<table border=\"1\" class=\"dataframe\">\n",
       "  <thead>\n",
       "    <tr style=\"text-align: right;\">\n",
       "      <th></th>\n",
       "      <th>No.</th>\n",
       "      <th>Name</th>\n",
       "      <th>Net worth (USD)</th>\n",
       "      <th>Age</th>\n",
       "      <th>Nationality</th>\n",
       "      <th>Source(s) of wealth</th>\n",
       "    </tr>\n",
       "  </thead>\n",
       "  <tbody>\n",
       "    <tr>\n",
       "      <th>0</th>\n",
       "      <td>1</td>\n",
       "      <td>Jeff Bezos</td>\n",
       "      <td>$113 billion</td>\n",
       "      <td>56</td>\n",
       "      <td>United States</td>\n",
       "      <td>Amazon</td>\n",
       "    </tr>\n",
       "    <tr>\n",
       "      <th>1</th>\n",
       "      <td>2</td>\n",
       "      <td>Bill Gates</td>\n",
       "      <td>$98 billion</td>\n",
       "      <td>64</td>\n",
       "      <td>United States</td>\n",
       "      <td>Microsoft</td>\n",
       "    </tr>\n",
       "    <tr>\n",
       "      <th>2</th>\n",
       "      <td>3</td>\n",
       "      <td>Bernard Arnault &amp; family</td>\n",
       "      <td>$76 billion</td>\n",
       "      <td>71</td>\n",
       "      <td>France</td>\n",
       "      <td>LVMH</td>\n",
       "    </tr>\n",
       "    <tr>\n",
       "      <th>3</th>\n",
       "      <td>4</td>\n",
       "      <td>Warren Buffett</td>\n",
       "      <td>$67.5 billion</td>\n",
       "      <td>89</td>\n",
       "      <td>United States</td>\n",
       "      <td>Berkshire Hathaway</td>\n",
       "    </tr>\n",
       "    <tr>\n",
       "      <th>4</th>\n",
       "      <td>5</td>\n",
       "      <td>Larry Ellison</td>\n",
       "      <td>$59 billion</td>\n",
       "      <td>75</td>\n",
       "      <td>United States</td>\n",
       "      <td>Oracle Corporation</td>\n",
       "    </tr>\n",
       "    <tr>\n",
       "      <th>5</th>\n",
       "      <td>6</td>\n",
       "      <td>Amancio Ortega</td>\n",
       "      <td>$55.1 billion</td>\n",
       "      <td>84</td>\n",
       "      <td>Spain</td>\n",
       "      <td>Inditex, Zara</td>\n",
       "    </tr>\n",
       "    <tr>\n",
       "      <th>6</th>\n",
       "      <td>7</td>\n",
       "      <td>Mark Zuckerberg</td>\n",
       "      <td>$54.7 billion</td>\n",
       "      <td>35</td>\n",
       "      <td>United States</td>\n",
       "      <td>Facebook, Inc.</td>\n",
       "    </tr>\n",
       "    <tr>\n",
       "      <th>7</th>\n",
       "      <td>8</td>\n",
       "      <td>Jim Walton</td>\n",
       "      <td>$54.6 billion</td>\n",
       "      <td>71</td>\n",
       "      <td>United States</td>\n",
       "      <td>Walmart</td>\n",
       "    </tr>\n",
       "    <tr>\n",
       "      <th>8</th>\n",
       "      <td>9</td>\n",
       "      <td>Alice Walton</td>\n",
       "      <td>$54.4 billion</td>\n",
       "      <td>70</td>\n",
       "      <td>United States</td>\n",
       "      <td>Walmart</td>\n",
       "    </tr>\n",
       "    <tr>\n",
       "      <th>9</th>\n",
       "      <td>10</td>\n",
       "      <td>S. Robson Walton</td>\n",
       "      <td>$54.1 billion</td>\n",
       "      <td>77</td>\n",
       "      <td>United States</td>\n",
       "      <td>Walmart</td>\n",
       "    </tr>\n",
       "  </tbody>\n",
       "</table>\n",
       "</div>"
      ],
      "text/plain": [
       "   No.                      Name Net worth (USD)  Age    Nationality  \\\n",
       "0    1                Jeff Bezos    $113 billion   56  United States   \n",
       "1    2                Bill Gates     $98 billion   64  United States   \n",
       "2    3  Bernard Arnault & family     $76 billion   71         France   \n",
       "3    4            Warren Buffett   $67.5 billion   89  United States   \n",
       "4    5             Larry Ellison     $59 billion   75  United States   \n",
       "5    6            Amancio Ortega   $55.1 billion   84          Spain   \n",
       "6    7           Mark Zuckerberg   $54.7 billion   35  United States   \n",
       "7    8                Jim Walton   $54.6 billion   71  United States   \n",
       "8    9              Alice Walton   $54.4 billion   70  United States   \n",
       "9   10          S. Robson Walton   $54.1 billion   77  United States   \n",
       "\n",
       "  Source(s) of wealth  \n",
       "0              Amazon  \n",
       "1           Microsoft  \n",
       "2                LVMH  \n",
       "3  Berkshire Hathaway  \n",
       "4  Oracle Corporation  \n",
       "5       Inditex, Zara  \n",
       "6      Facebook, Inc.  \n",
       "7             Walmart  \n",
       "8             Walmart  \n",
       "9             Walmart  "
      ]
     },
     "execution_count": 155,
     "metadata": {},
     "output_type": "execute_result"
    }
   ],
   "source": [
    "worlds_billionaires_2020"
   ]
  },
  {
   "cell_type": "code",
   "execution_count": 156,
   "id": "3075dfcb",
   "metadata": {},
   "outputs": [
    {
     "data": {
      "text/html": [
       "<div>\n",
       "<style scoped>\n",
       "    .dataframe tbody tr th:only-of-type {\n",
       "        vertical-align: middle;\n",
       "    }\n",
       "\n",
       "    .dataframe tbody tr th {\n",
       "        vertical-align: top;\n",
       "    }\n",
       "\n",
       "    .dataframe thead th {\n",
       "        text-align: right;\n",
       "    }\n",
       "</style>\n",
       "<table border=\"1\" class=\"dataframe\">\n",
       "  <thead>\n",
       "    <tr style=\"text-align: right;\">\n",
       "      <th></th>\n",
       "      <th>No.</th>\n",
       "      <th>Name</th>\n",
       "      <th>Net worth (USD)</th>\n",
       "      <th>Age</th>\n",
       "      <th>Nationality</th>\n",
       "      <th>Source(s) of wealth</th>\n",
       "    </tr>\n",
       "  </thead>\n",
       "  <tbody>\n",
       "    <tr>\n",
       "      <th>0</th>\n",
       "      <td>1</td>\n",
       "      <td>Jeff Bezos</td>\n",
       "      <td>$177 billion</td>\n",
       "      <td>57</td>\n",
       "      <td>United States</td>\n",
       "      <td>Amazon</td>\n",
       "    </tr>\n",
       "    <tr>\n",
       "      <th>1</th>\n",
       "      <td>2</td>\n",
       "      <td>Elon Musk</td>\n",
       "      <td>$151 billion</td>\n",
       "      <td>49</td>\n",
       "      <td>United States</td>\n",
       "      <td>Tesla, SpaceX</td>\n",
       "    </tr>\n",
       "    <tr>\n",
       "      <th>2</th>\n",
       "      <td>3</td>\n",
       "      <td>Bernard Arnault &amp; family</td>\n",
       "      <td>$150 billion</td>\n",
       "      <td>72</td>\n",
       "      <td>France</td>\n",
       "      <td>LVMH</td>\n",
       "    </tr>\n",
       "    <tr>\n",
       "      <th>3</th>\n",
       "      <td>4</td>\n",
       "      <td>Bill Gates</td>\n",
       "      <td>$124 billion</td>\n",
       "      <td>65</td>\n",
       "      <td>United States</td>\n",
       "      <td>Microsoft</td>\n",
       "    </tr>\n",
       "    <tr>\n",
       "      <th>4</th>\n",
       "      <td>5</td>\n",
       "      <td>Mark Zuckerberg</td>\n",
       "      <td>$97 billion</td>\n",
       "      <td>36</td>\n",
       "      <td>United States</td>\n",
       "      <td>Meta Platforms</td>\n",
       "    </tr>\n",
       "    <tr>\n",
       "      <th>5</th>\n",
       "      <td>6</td>\n",
       "      <td>Warren Buffett</td>\n",
       "      <td>$96 billion</td>\n",
       "      <td>90</td>\n",
       "      <td>United States</td>\n",
       "      <td>Berkshire Hathaway</td>\n",
       "    </tr>\n",
       "    <tr>\n",
       "      <th>6</th>\n",
       "      <td>7</td>\n",
       "      <td>Larry Ellison</td>\n",
       "      <td>$93 billion</td>\n",
       "      <td>76</td>\n",
       "      <td>United States</td>\n",
       "      <td>Oracle Corporation</td>\n",
       "    </tr>\n",
       "    <tr>\n",
       "      <th>7</th>\n",
       "      <td>8</td>\n",
       "      <td>Larry Page</td>\n",
       "      <td>$91.5 billion</td>\n",
       "      <td>48</td>\n",
       "      <td>United States</td>\n",
       "      <td>Alphabet Inc.</td>\n",
       "    </tr>\n",
       "    <tr>\n",
       "      <th>8</th>\n",
       "      <td>9</td>\n",
       "      <td>Sergey Brin</td>\n",
       "      <td>$89 billion</td>\n",
       "      <td>47</td>\n",
       "      <td>United States</td>\n",
       "      <td>Alphabet Inc.</td>\n",
       "    </tr>\n",
       "    <tr>\n",
       "      <th>9</th>\n",
       "      <td>10</td>\n",
       "      <td>Mukesh Ambani</td>\n",
       "      <td>$84.5 billion</td>\n",
       "      <td>63</td>\n",
       "      <td>India</td>\n",
       "      <td>Reliance Industries</td>\n",
       "    </tr>\n",
       "  </tbody>\n",
       "</table>\n",
       "</div>"
      ],
      "text/plain": [
       "   No.                      Name Net worth (USD)  Age    Nationality  \\\n",
       "0    1                Jeff Bezos    $177 billion   57  United States   \n",
       "1    2                 Elon Musk    $151 billion   49  United States   \n",
       "2    3  Bernard Arnault & family    $150 billion   72         France   \n",
       "3    4                Bill Gates    $124 billion   65  United States   \n",
       "4    5           Mark Zuckerberg     $97 billion   36  United States   \n",
       "5    6            Warren Buffett     $96 billion   90  United States   \n",
       "6    7             Larry Ellison     $93 billion   76  United States   \n",
       "7    8                Larry Page   $91.5 billion   48  United States   \n",
       "8    9               Sergey Brin     $89 billion   47  United States   \n",
       "9   10             Mukesh Ambani   $84.5 billion   63          India   \n",
       "\n",
       "   Source(s) of wealth  \n",
       "0               Amazon  \n",
       "1        Tesla, SpaceX  \n",
       "2                 LVMH  \n",
       "3            Microsoft  \n",
       "4       Meta Platforms  \n",
       "5   Berkshire Hathaway  \n",
       "6   Oracle Corporation  \n",
       "7        Alphabet Inc.  \n",
       "8        Alphabet Inc.  \n",
       "9  Reliance Industries  "
      ]
     },
     "execution_count": 156,
     "metadata": {},
     "output_type": "execute_result"
    }
   ],
   "source": [
    "worlds_billionaires_2021"
   ]
  },
  {
   "cell_type": "markdown",
   "id": "db78eab9",
   "metadata": {},
   "source": [
    "#### Case Study 2 : Scrapping India's Population "
   ]
  },
  {
   "cell_type": "code",
   "execution_count": 65,
   "id": "679d9294",
   "metadata": {},
   "outputs": [],
   "source": [
    "url=\"https://www.findeasy.in/top-indian-states-by-population/\""
   ]
  },
  {
   "cell_type": "code",
   "execution_count": 66,
   "id": "c769b293",
   "metadata": {},
   "outputs": [],
   "source": [
    "pop_data=pd.read_html(url)"
   ]
  },
  {
   "cell_type": "code",
   "execution_count": 67,
   "id": "946c597d",
   "metadata": {},
   "outputs": [
    {
     "data": {
      "text/plain": [
       "11"
      ]
     },
     "execution_count": 67,
     "metadata": {},
     "output_type": "execute_result"
    }
   ],
   "source": [
    "len(pop_data)"
   ]
  },
  {
   "cell_type": "code",
   "execution_count": 68,
   "id": "e94803a7",
   "metadata": {},
   "outputs": [
    {
     "data": {
      "text/html": [
       "<div>\n",
       "<style scoped>\n",
       "    .dataframe tbody tr th:only-of-type {\n",
       "        vertical-align: middle;\n",
       "    }\n",
       "\n",
       "    .dataframe tbody tr th {\n",
       "        vertical-align: top;\n",
       "    }\n",
       "\n",
       "    .dataframe thead th {\n",
       "        text-align: right;\n",
       "    }\n",
       "</style>\n",
       "<table border=\"1\" class=\"dataframe\">\n",
       "  <thead>\n",
       "    <tr style=\"text-align: right;\">\n",
       "      <th></th>\n",
       "      <th>0</th>\n",
       "      <th>1</th>\n",
       "      <th>2</th>\n",
       "      <th>3</th>\n",
       "    </tr>\n",
       "  </thead>\n",
       "  <tbody>\n",
       "    <tr>\n",
       "      <th>0</th>\n",
       "      <td>Rank</td>\n",
       "      <td>States</td>\n",
       "      <td>2011 Census</td>\n",
       "      <td>2021 estimates</td>\n",
       "    </tr>\n",
       "    <tr>\n",
       "      <th>1</th>\n",
       "      <td>1</td>\n",
       "      <td>Uttar Pradesh</td>\n",
       "      <td>199812341</td>\n",
       "      <td>23 Crores</td>\n",
       "    </tr>\n",
       "    <tr>\n",
       "      <th>2</th>\n",
       "      <td>2</td>\n",
       "      <td>Maharashtra</td>\n",
       "      <td>112374333</td>\n",
       "      <td>12.44 Crores</td>\n",
       "    </tr>\n",
       "    <tr>\n",
       "      <th>3</th>\n",
       "      <td>3</td>\n",
       "      <td>Bihar</td>\n",
       "      <td>104099452</td>\n",
       "      <td>12.30 Crores</td>\n",
       "    </tr>\n",
       "    <tr>\n",
       "      <th>4</th>\n",
       "      <td>4</td>\n",
       "      <td>West Bengal</td>\n",
       "      <td>91276115</td>\n",
       "      <td>9.8 Crores</td>\n",
       "    </tr>\n",
       "    <tr>\n",
       "      <th>5</th>\n",
       "      <td>5</td>\n",
       "      <td>Madhya Pradesh</td>\n",
       "      <td>72626809</td>\n",
       "      <td>8.45 Crores</td>\n",
       "    </tr>\n",
       "    <tr>\n",
       "      <th>6</th>\n",
       "      <td>6</td>\n",
       "      <td>Tamil Nadu</td>\n",
       "      <td>72147030</td>\n",
       "      <td>7.65 Crores</td>\n",
       "    </tr>\n",
       "    <tr>\n",
       "      <th>7</th>\n",
       "      <td>7</td>\n",
       "      <td>Rajasthan</td>\n",
       "      <td>68548437</td>\n",
       "      <td>7.92 Crores</td>\n",
       "    </tr>\n",
       "    <tr>\n",
       "      <th>8</th>\n",
       "      <td>8</td>\n",
       "      <td>Karnataka</td>\n",
       "      <td>61095297</td>\n",
       "      <td>6.70 Crores</td>\n",
       "    </tr>\n",
       "    <tr>\n",
       "      <th>9</th>\n",
       "      <td>9</td>\n",
       "      <td>Gujarat</td>\n",
       "      <td>60439692</td>\n",
       "      <td>7 Crores</td>\n",
       "    </tr>\n",
       "    <tr>\n",
       "      <th>10</th>\n",
       "      <td>10</td>\n",
       "      <td>Andhra Pradesh</td>\n",
       "      <td>49386799</td>\n",
       "      <td>5.27 Crores</td>\n",
       "    </tr>\n",
       "    <tr>\n",
       "      <th>11</th>\n",
       "      <td>11</td>\n",
       "      <td>Odisha</td>\n",
       "      <td>41974218</td>\n",
       "      <td>4.55 Crores</td>\n",
       "    </tr>\n",
       "    <tr>\n",
       "      <th>12</th>\n",
       "      <td>12</td>\n",
       "      <td>Telangana</td>\n",
       "      <td>35193978</td>\n",
       "      <td>3.80 Crores</td>\n",
       "    </tr>\n",
       "    <tr>\n",
       "      <th>13</th>\n",
       "      <td>13</td>\n",
       "      <td>Kerala</td>\n",
       "      <td>33406061</td>\n",
       "      <td>3.55 Crores</td>\n",
       "    </tr>\n",
       "    <tr>\n",
       "      <th>14</th>\n",
       "      <td>14</td>\n",
       "      <td>Jharkhand</td>\n",
       "      <td>32988134</td>\n",
       "      <td>3.85 Crores</td>\n",
       "    </tr>\n",
       "    <tr>\n",
       "      <th>15</th>\n",
       "      <td>15</td>\n",
       "      <td>Assam</td>\n",
       "      <td>31205576</td>\n",
       "      <td>3.50 Crores</td>\n",
       "    </tr>\n",
       "    <tr>\n",
       "      <th>16</th>\n",
       "      <td>16</td>\n",
       "      <td>Punjab</td>\n",
       "      <td>27743338</td>\n",
       "      <td>3 Crores</td>\n",
       "    </tr>\n",
       "    <tr>\n",
       "      <th>17</th>\n",
       "      <td>17</td>\n",
       "      <td>Chhattisgarh</td>\n",
       "      <td>25545198</td>\n",
       "      <td>2.95 Crores</td>\n",
       "    </tr>\n",
       "    <tr>\n",
       "      <th>18</th>\n",
       "      <td>18</td>\n",
       "      <td>Haryana</td>\n",
       "      <td>25351462</td>\n",
       "      <td>2.95 Crores</td>\n",
       "    </tr>\n",
       "    <tr>\n",
       "      <th>19</th>\n",
       "      <td>UT1</td>\n",
       "      <td>Delhi</td>\n",
       "      <td>16787941</td>\n",
       "      <td>2 Crores</td>\n",
       "    </tr>\n",
       "    <tr>\n",
       "      <th>20</th>\n",
       "      <td>UT2</td>\n",
       "      <td>Jammu &amp; Kashmir</td>\n",
       "      <td>12258433</td>\n",
       "      <td>1.34 Crores</td>\n",
       "    </tr>\n",
       "    <tr>\n",
       "      <th>21</th>\n",
       "      <td>19</td>\n",
       "      <td>Uttarakhand</td>\n",
       "      <td>10086292</td>\n",
       "      <td>1.14 Crores</td>\n",
       "    </tr>\n",
       "    <tr>\n",
       "      <th>22</th>\n",
       "      <td>20</td>\n",
       "      <td>Himachal Pradesh</td>\n",
       "      <td>6864602</td>\n",
       "      <td>74 Lakhs</td>\n",
       "    </tr>\n",
       "    <tr>\n",
       "      <th>23</th>\n",
       "      <td>21</td>\n",
       "      <td>Tripura</td>\n",
       "      <td>3673917</td>\n",
       "      <td>41 Lakhs</td>\n",
       "    </tr>\n",
       "    <tr>\n",
       "      <th>24</th>\n",
       "      <td>22</td>\n",
       "      <td>Meghalaya</td>\n",
       "      <td>2966889</td>\n",
       "      <td>33 Lakhs</td>\n",
       "    </tr>\n",
       "    <tr>\n",
       "      <th>25</th>\n",
       "      <td>23</td>\n",
       "      <td>Manipur</td>\n",
       "      <td>2855794</td>\n",
       "      <td>31.65 Lakhs</td>\n",
       "    </tr>\n",
       "    <tr>\n",
       "      <th>26</th>\n",
       "      <td>24</td>\n",
       "      <td>Nagaland</td>\n",
       "      <td>1978502</td>\n",
       "      <td>22 Lakhs</td>\n",
       "    </tr>\n",
       "    <tr>\n",
       "      <th>27</th>\n",
       "      <td>25</td>\n",
       "      <td>Goa</td>\n",
       "      <td>1458545</td>\n",
       "      <td>16 Lakhs</td>\n",
       "    </tr>\n",
       "    <tr>\n",
       "      <th>28</th>\n",
       "      <td>26</td>\n",
       "      <td>Arunachal Pradesh</td>\n",
       "      <td>1383727</td>\n",
       "      <td>15.33 Lakhs</td>\n",
       "    </tr>\n",
       "    <tr>\n",
       "      <th>29</th>\n",
       "      <td>UT3</td>\n",
       "      <td>Puducherry</td>\n",
       "      <td>1247953</td>\n",
       "      <td>15.71 Lakhs</td>\n",
       "    </tr>\n",
       "    <tr>\n",
       "      <th>30</th>\n",
       "      <td>27</td>\n",
       "      <td>Mizoram</td>\n",
       "      <td>1097206</td>\n",
       "      <td>12.16 Lakhs</td>\n",
       "    </tr>\n",
       "    <tr>\n",
       "      <th>31</th>\n",
       "      <td>UT4</td>\n",
       "      <td>Chandigarh</td>\n",
       "      <td>1055450</td>\n",
       "      <td>12 Lakhs</td>\n",
       "    </tr>\n",
       "    <tr>\n",
       "      <th>32</th>\n",
       "      <td>28</td>\n",
       "      <td>Sikkim</td>\n",
       "      <td>610577</td>\n",
       "      <td>6.77 Lakhs</td>\n",
       "    </tr>\n",
       "    <tr>\n",
       "      <th>33</th>\n",
       "      <td>UT5</td>\n",
       "      <td>Dadra &amp; Nagar Haveli and Daman &amp; Diu</td>\n",
       "      <td>586956</td>\n",
       "      <td>10.77 Lakhs</td>\n",
       "    </tr>\n",
       "    <tr>\n",
       "      <th>34</th>\n",
       "      <td>UT6</td>\n",
       "      <td>Andaman &amp; Nicobar</td>\n",
       "      <td>380581</td>\n",
       "      <td>4 Lakhs</td>\n",
       "    </tr>\n",
       "    <tr>\n",
       "      <th>35</th>\n",
       "      <td>UT7</td>\n",
       "      <td>Ladakh</td>\n",
       "      <td>274289</td>\n",
       "      <td>2.97 Lakhs</td>\n",
       "    </tr>\n",
       "    <tr>\n",
       "      <th>36</th>\n",
       "      <td>UT8</td>\n",
       "      <td>Lakshadweep</td>\n",
       "      <td>64473</td>\n",
       "      <td>68000</td>\n",
       "    </tr>\n",
       "  </tbody>\n",
       "</table>\n",
       "</div>"
      ],
      "text/plain": [
       "       0                                     1            2               3\n",
       "0   Rank                                States  2011 Census  2021 estimates\n",
       "1      1                         Uttar Pradesh    199812341       23 Crores\n",
       "2      2                           Maharashtra    112374333    12.44 Crores\n",
       "3      3                                 Bihar    104099452    12.30 Crores\n",
       "4      4                           West Bengal     91276115      9.8 Crores\n",
       "5      5                        Madhya Pradesh     72626809     8.45 Crores\n",
       "6      6                            Tamil Nadu     72147030     7.65 Crores\n",
       "7      7                             Rajasthan     68548437     7.92 Crores\n",
       "8      8                             Karnataka     61095297     6.70 Crores\n",
       "9      9                               Gujarat     60439692        7 Crores\n",
       "10    10                        Andhra Pradesh     49386799     5.27 Crores\n",
       "11    11                                Odisha     41974218     4.55 Crores\n",
       "12    12                             Telangana     35193978     3.80 Crores\n",
       "13    13                                Kerala     33406061     3.55 Crores\n",
       "14    14                             Jharkhand     32988134     3.85 Crores\n",
       "15    15                                 Assam     31205576     3.50 Crores\n",
       "16    16                                Punjab     27743338        3 Crores\n",
       "17    17                          Chhattisgarh     25545198     2.95 Crores\n",
       "18    18                               Haryana     25351462     2.95 Crores\n",
       "19   UT1                                 Delhi     16787941        2 Crores\n",
       "20   UT2                       Jammu & Kashmir     12258433     1.34 Crores\n",
       "21    19                           Uttarakhand     10086292     1.14 Crores\n",
       "22    20                      Himachal Pradesh      6864602        74 Lakhs\n",
       "23    21                               Tripura      3673917        41 Lakhs\n",
       "24    22                             Meghalaya      2966889        33 Lakhs\n",
       "25    23                               Manipur      2855794     31.65 Lakhs\n",
       "26    24                              Nagaland      1978502        22 Lakhs\n",
       "27    25                                   Goa      1458545        16 Lakhs\n",
       "28    26                     Arunachal Pradesh      1383727     15.33 Lakhs\n",
       "29   UT3                            Puducherry      1247953     15.71 Lakhs\n",
       "30    27                               Mizoram      1097206     12.16 Lakhs\n",
       "31   UT4                            Chandigarh      1055450        12 Lakhs\n",
       "32    28                                Sikkim       610577      6.77 Lakhs\n",
       "33   UT5  Dadra & Nagar Haveli and Daman & Diu       586956     10.77 Lakhs\n",
       "34   UT6                     Andaman & Nicobar       380581         4 Lakhs\n",
       "35   UT7                                Ladakh       274289      2.97 Lakhs\n",
       "36   UT8                           Lakshadweep        64473           68000"
      ]
     },
     "execution_count": 68,
     "metadata": {},
     "output_type": "execute_result"
    }
   ],
   "source": [
    "pop_data[0]"
   ]
  },
  {
   "cell_type": "code",
   "execution_count": 167,
   "id": "338934b2",
   "metadata": {},
   "outputs": [
    {
     "data": {
      "text/plain": [
       "list"
      ]
     },
     "execution_count": 167,
     "metadata": {},
     "output_type": "execute_result"
    }
   ],
   "source": [
    "type(pop_data)"
   ]
  },
  {
   "cell_type": "markdown",
   "id": "212ddb9b",
   "metadata": {},
   "source": [
    "## Groupby Methods"
   ]
  },
  {
   "cell_type": "code",
   "execution_count": 168,
   "id": "2ce4d239",
   "metadata": {},
   "outputs": [
    {
     "data": {
      "text/html": [
       "<div>\n",
       "<style scoped>\n",
       "    .dataframe tbody tr th:only-of-type {\n",
       "        vertical-align: middle;\n",
       "    }\n",
       "\n",
       "    .dataframe tbody tr th {\n",
       "        vertical-align: top;\n",
       "    }\n",
       "\n",
       "    .dataframe thead th {\n",
       "        text-align: right;\n",
       "    }\n",
       "</style>\n",
       "<table border=\"1\" class=\"dataframe\">\n",
       "  <thead>\n",
       "    <tr style=\"text-align: right;\">\n",
       "      <th></th>\n",
       "      <th>Gender</th>\n",
       "      <th>Married</th>\n",
       "      <th>Dependents</th>\n",
       "      <th>Education</th>\n",
       "      <th>Self_Employed</th>\n",
       "      <th>ApplicantIncome</th>\n",
       "      <th>CoapplicantIncome</th>\n",
       "      <th>LoanAmount</th>\n",
       "      <th>Loan_Amount_Term</th>\n",
       "      <th>Credit_History</th>\n",
       "      <th>Property_Area</th>\n",
       "      <th>Loan_Status</th>\n",
       "    </tr>\n",
       "  </thead>\n",
       "  <tbody>\n",
       "    <tr>\n",
       "      <th>0</th>\n",
       "      <td>Male</td>\n",
       "      <td>No</td>\n",
       "      <td>0</td>\n",
       "      <td>Graduate</td>\n",
       "      <td>No</td>\n",
       "      <td>5849</td>\n",
       "      <td>0</td>\n",
       "      <td>120.0</td>\n",
       "      <td>360.0</td>\n",
       "      <td>1.0</td>\n",
       "      <td>Urban</td>\n",
       "      <td>Y</td>\n",
       "    </tr>\n",
       "    <tr>\n",
       "      <th>1</th>\n",
       "      <td>Male</td>\n",
       "      <td>Yes</td>\n",
       "      <td>1</td>\n",
       "      <td>Graduate</td>\n",
       "      <td>No</td>\n",
       "      <td>4583</td>\n",
       "      <td>1508.0</td>\n",
       "      <td>128.0</td>\n",
       "      <td>360.0</td>\n",
       "      <td>1.0</td>\n",
       "      <td>Rural</td>\n",
       "      <td>N</td>\n",
       "    </tr>\n",
       "    <tr>\n",
       "      <th>2</th>\n",
       "      <td>Male</td>\n",
       "      <td>Yes</td>\n",
       "      <td>0</td>\n",
       "      <td>Graduate</td>\n",
       "      <td>Yes</td>\n",
       "      <td>3000</td>\n",
       "      <td>0</td>\n",
       "      <td>66.0</td>\n",
       "      <td>360.0</td>\n",
       "      <td>1.0</td>\n",
       "      <td>Urban</td>\n",
       "      <td>Y</td>\n",
       "    </tr>\n",
       "    <tr>\n",
       "      <th>3</th>\n",
       "      <td>Male</td>\n",
       "      <td>Yes</td>\n",
       "      <td>0</td>\n",
       "      <td>Not Graduate</td>\n",
       "      <td>No</td>\n",
       "      <td>2583</td>\n",
       "      <td>2358.0</td>\n",
       "      <td>120.0</td>\n",
       "      <td>360.0</td>\n",
       "      <td>1.0</td>\n",
       "      <td>Urban</td>\n",
       "      <td>Y</td>\n",
       "    </tr>\n",
       "    <tr>\n",
       "      <th>4</th>\n",
       "      <td>Male</td>\n",
       "      <td>No</td>\n",
       "      <td>0</td>\n",
       "      <td>Graduate</td>\n",
       "      <td>No</td>\n",
       "      <td>6000</td>\n",
       "      <td>0</td>\n",
       "      <td>141.0</td>\n",
       "      <td>360.0</td>\n",
       "      <td>1.0</td>\n",
       "      <td>Urban</td>\n",
       "      <td>Y</td>\n",
       "    </tr>\n",
       "  </tbody>\n",
       "</table>\n",
       "</div>"
      ],
      "text/plain": [
       "  Gender Married  Dependents     Education Self_Employed  ApplicantIncome  \\\n",
       "0   Male      No           0      Graduate            No             5849   \n",
       "1   Male     Yes           1      Graduate            No             4583   \n",
       "2   Male     Yes           0      Graduate           Yes             3000   \n",
       "3   Male     Yes           0  Not Graduate            No             2583   \n",
       "4   Male      No           0      Graduate            No             6000   \n",
       "\n",
       "  CoapplicantIncome LoanAmount Loan_Amount_Term Credit_History Property_Area  \\\n",
       "0                 0      120.0            360.0            1.0         Urban   \n",
       "1            1508.0      128.0            360.0            1.0         Rural   \n",
       "2                 0       66.0            360.0            1.0         Urban   \n",
       "3            2358.0      120.0            360.0            1.0         Urban   \n",
       "4                 0      141.0            360.0            1.0         Urban   \n",
       "\n",
       "  Loan_Status  \n",
       "0           Y  \n",
       "1           N  \n",
       "2           Y  \n",
       "3           Y  \n",
       "4           Y  "
      ]
     },
     "execution_count": 168,
     "metadata": {},
     "output_type": "execute_result"
    }
   ],
   "source": [
    "bank_data_updated.head()"
   ]
  },
  {
   "cell_type": "code",
   "execution_count": 34,
   "id": "474bf713",
   "metadata": {},
   "outputs": [],
   "source": [
    "bdu = bank_data_updated"
   ]
  },
  {
   "cell_type": "code",
   "execution_count": 35,
   "id": "e41a0196",
   "metadata": {},
   "outputs": [
    {
     "data": {
      "text/plain": [
       "(614, 12)"
      ]
     },
     "execution_count": 35,
     "metadata": {},
     "output_type": "execute_result"
    }
   ],
   "source": [
    "bdu.shape"
   ]
  },
  {
   "cell_type": "markdown",
   "id": "23a8368b",
   "metadata": {},
   "source": [
    "#### 1.Q. How much is average loan term of male and female customer"
   ]
  },
  {
   "cell_type": "code",
   "execution_count": 37,
   "id": "5d63a021",
   "metadata": {},
   "outputs": [],
   "source": [
    "GenderDF = bdu.groupby(\"Gender\")[\"Loan_Amount_Term\"].mean()"
   ]
  },
  {
   "cell_type": "code",
   "execution_count": 38,
   "id": "49524484",
   "metadata": {},
   "outputs": [
    {
     "data": {
      "text/plain": [
       "Gender\n",
       "Female    352.017857\n",
       "Male      339.764940\n",
       "Name: Loan_Amount_Term, dtype: float64"
      ]
     },
     "execution_count": 38,
     "metadata": {},
     "output_type": "execute_result"
    }
   ],
   "source": [
    "GenderDF"
   ]
  },
  {
   "cell_type": "code",
   "execution_count": 39,
   "id": "8629101b",
   "metadata": {},
   "outputs": [
    {
     "data": {
      "text/plain": [
       "Gender\n",
       "Female    112\n",
       "Male      502\n",
       "Name: Loan_Amount_Term, dtype: int64"
      ]
     },
     "execution_count": 39,
     "metadata": {},
     "output_type": "execute_result"
    }
   ],
   "source": [
    "bdu.groupby(\"Gender\")[\"Loan_Amount_Term\"].count()"
   ]
  },
  {
   "cell_type": "markdown",
   "id": "346a2f78",
   "metadata": {},
   "source": [
    "#### 2.Q.Find average loan amount requested on the basis customer education"
   ]
  },
  {
   "cell_type": "code",
   "execution_count": 41,
   "id": "a1c17863",
   "metadata": {},
   "outputs": [
    {
     "data": {
      "text/plain": [
       "Education\n",
       "Graduate        153.821213\n",
       "Not Graduate    119.872277\n",
       "Name: LoanAmount, dtype: float64"
      ]
     },
     "execution_count": 41,
     "metadata": {},
     "output_type": "execute_result"
    }
   ],
   "source": [
    "bdu.groupby(\"Education\")[\"LoanAmount\"].mean()"
   ]
  },
  {
   "cell_type": "code",
   "execution_count": 44,
   "id": "21808acc",
   "metadata": {},
   "outputs": [
    {
     "data": {
      "text/plain": [
       "Gender  Education   \n",
       "Female  Graduate        130.215482\n",
       "        Not Graduate    113.470608\n",
       "Male    Graduate        159.418449\n",
       "        Not Graduate    120.995377\n",
       "Name: LoanAmount, dtype: float64"
      ]
     },
     "execution_count": 44,
     "metadata": {},
     "output_type": "execute_result"
    }
   ],
   "source": [
    "bdu.groupby([\"Gender\",\"Education\"])[\"LoanAmount\"].mean()"
   ]
  },
  {
   "cell_type": "code",
   "execution_count": 45,
   "id": "1673f378",
   "metadata": {},
   "outputs": [
    {
     "data": {
      "text/html": [
       "<div>\n",
       "<style scoped>\n",
       "    .dataframe tbody tr th:only-of-type {\n",
       "        vertical-align: middle;\n",
       "    }\n",
       "\n",
       "    .dataframe tbody tr th {\n",
       "        vertical-align: top;\n",
       "    }\n",
       "\n",
       "    .dataframe thead th {\n",
       "        text-align: right;\n",
       "    }\n",
       "</style>\n",
       "<table border=\"1\" class=\"dataframe\">\n",
       "  <thead>\n",
       "    <tr style=\"text-align: right;\">\n",
       "      <th></th>\n",
       "      <th></th>\n",
       "      <th>LoanAmount</th>\n",
       "      <th>Loan_Amount_Term</th>\n",
       "    </tr>\n",
       "    <tr>\n",
       "      <th>Gender</th>\n",
       "      <th>Education</th>\n",
       "      <th></th>\n",
       "      <th></th>\n",
       "    </tr>\n",
       "  </thead>\n",
       "  <tbody>\n",
       "    <tr>\n",
       "      <th rowspan=\"2\" valign=\"top\">Female</th>\n",
       "      <th>Graduate</th>\n",
       "      <td>130.215482</td>\n",
       "      <td>350.673913</td>\n",
       "    </tr>\n",
       "    <tr>\n",
       "      <th>Not Graduate</th>\n",
       "      <td>113.470608</td>\n",
       "      <td>358.200000</td>\n",
       "    </tr>\n",
       "    <tr>\n",
       "      <th rowspan=\"2\" valign=\"top\">Male</th>\n",
       "      <th>Graduate</th>\n",
       "      <td>159.418449</td>\n",
       "      <td>343.190722</td>\n",
       "    </tr>\n",
       "    <tr>\n",
       "      <th>Not Graduate</th>\n",
       "      <td>120.995377</td>\n",
       "      <td>328.105263</td>\n",
       "    </tr>\n",
       "  </tbody>\n",
       "</table>\n",
       "</div>"
      ],
      "text/plain": [
       "                     LoanAmount  Loan_Amount_Term\n",
       "Gender Education                                 \n",
       "Female Graduate      130.215482        350.673913\n",
       "       Not Graduate  113.470608        358.200000\n",
       "Male   Graduate      159.418449        343.190722\n",
       "       Not Graduate  120.995377        328.105263"
      ]
     },
     "execution_count": 45,
     "metadata": {},
     "output_type": "execute_result"
    }
   ],
   "source": [
    "bdu.groupby([\"Gender\",\"Education\"])[[\"LoanAmount\",\"Loan_Amount_Term\"]].mean()"
   ]
  },
  {
   "cell_type": "markdown",
   "id": "11268096",
   "metadata": {},
   "source": [
    "## Pivot Tables"
   ]
  },
  {
   "cell_type": "markdown",
   "id": "631a4695",
   "metadata": {},
   "source": [
    " A PivotTable is an interactive way to quickly summarize large amounts of data"
   ]
  },
  {
   "cell_type": "markdown",
   "id": "90ea6b05",
   "metadata": {},
   "source": [
    "#### Case Study 1 : Pivot Tables"
   ]
  },
  {
   "cell_type": "code",
   "execution_count": 46,
   "id": "7194c84b",
   "metadata": {},
   "outputs": [],
   "source": [
    "movie_rating = {'Genre':[\"Action\", \"Action\", \"Action\", \"Action\",\"Adventure\",\"Adventure\",\"Comedy\",\"Comedy\",\"Comedy\"],\n",
    "        'Year': [2008, 2009,2008,2010,2009,2010,2010,2008,2009],\n",
    "        'Budget(M$)':[28, 200, 32, 20,18,105,20,8,30],\n",
    "        'Rating(%)':[48,63,57,52,84,44,70,81,71]}"
   ]
  },
  {
   "cell_type": "code",
   "execution_count": 47,
   "id": "39940683",
   "metadata": {},
   "outputs": [],
   "source": [
    "movie_df=pd.DataFrame(movie_rating)"
   ]
  },
  {
   "cell_type": "code",
   "execution_count": 48,
   "id": "a064c81d",
   "metadata": {},
   "outputs": [
    {
     "data": {
      "text/html": [
       "<div>\n",
       "<style scoped>\n",
       "    .dataframe tbody tr th:only-of-type {\n",
       "        vertical-align: middle;\n",
       "    }\n",
       "\n",
       "    .dataframe tbody tr th {\n",
       "        vertical-align: top;\n",
       "    }\n",
       "\n",
       "    .dataframe thead th {\n",
       "        text-align: right;\n",
       "    }\n",
       "</style>\n",
       "<table border=\"1\" class=\"dataframe\">\n",
       "  <thead>\n",
       "    <tr style=\"text-align: right;\">\n",
       "      <th></th>\n",
       "      <th>Genre</th>\n",
       "      <th>Year</th>\n",
       "      <th>Budget(M$)</th>\n",
       "      <th>Rating(%)</th>\n",
       "    </tr>\n",
       "  </thead>\n",
       "  <tbody>\n",
       "    <tr>\n",
       "      <th>0</th>\n",
       "      <td>Action</td>\n",
       "      <td>2008</td>\n",
       "      <td>28</td>\n",
       "      <td>48</td>\n",
       "    </tr>\n",
       "    <tr>\n",
       "      <th>1</th>\n",
       "      <td>Action</td>\n",
       "      <td>2009</td>\n",
       "      <td>200</td>\n",
       "      <td>63</td>\n",
       "    </tr>\n",
       "    <tr>\n",
       "      <th>2</th>\n",
       "      <td>Action</td>\n",
       "      <td>2008</td>\n",
       "      <td>32</td>\n",
       "      <td>57</td>\n",
       "    </tr>\n",
       "    <tr>\n",
       "      <th>3</th>\n",
       "      <td>Action</td>\n",
       "      <td>2010</td>\n",
       "      <td>20</td>\n",
       "      <td>52</td>\n",
       "    </tr>\n",
       "    <tr>\n",
       "      <th>4</th>\n",
       "      <td>Adventure</td>\n",
       "      <td>2009</td>\n",
       "      <td>18</td>\n",
       "      <td>84</td>\n",
       "    </tr>\n",
       "    <tr>\n",
       "      <th>5</th>\n",
       "      <td>Adventure</td>\n",
       "      <td>2010</td>\n",
       "      <td>105</td>\n",
       "      <td>44</td>\n",
       "    </tr>\n",
       "    <tr>\n",
       "      <th>6</th>\n",
       "      <td>Comedy</td>\n",
       "      <td>2010</td>\n",
       "      <td>20</td>\n",
       "      <td>70</td>\n",
       "    </tr>\n",
       "    <tr>\n",
       "      <th>7</th>\n",
       "      <td>Comedy</td>\n",
       "      <td>2008</td>\n",
       "      <td>8</td>\n",
       "      <td>81</td>\n",
       "    </tr>\n",
       "    <tr>\n",
       "      <th>8</th>\n",
       "      <td>Comedy</td>\n",
       "      <td>2009</td>\n",
       "      <td>30</td>\n",
       "      <td>71</td>\n",
       "    </tr>\n",
       "  </tbody>\n",
       "</table>\n",
       "</div>"
      ],
      "text/plain": [
       "       Genre  Year  Budget(M$)  Rating(%)\n",
       "0     Action  2008          28         48\n",
       "1     Action  2009         200         63\n",
       "2     Action  2008          32         57\n",
       "3     Action  2010          20         52\n",
       "4  Adventure  2009          18         84\n",
       "5  Adventure  2010         105         44\n",
       "6     Comedy  2010          20         70\n",
       "7     Comedy  2008           8         81\n",
       "8     Comedy  2009          30         71"
      ]
     },
     "execution_count": 48,
     "metadata": {},
     "output_type": "execute_result"
    }
   ],
   "source": [
    "movie_df"
   ]
  },
  {
   "cell_type": "code",
   "execution_count": 50,
   "id": "a7035b95",
   "metadata": {},
   "outputs": [
    {
     "data": {
      "text/html": [
       "<div>\n",
       "<style scoped>\n",
       "    .dataframe tbody tr th:only-of-type {\n",
       "        vertical-align: middle;\n",
       "    }\n",
       "\n",
       "    .dataframe tbody tr th {\n",
       "        vertical-align: top;\n",
       "    }\n",
       "\n",
       "    .dataframe thead th {\n",
       "        text-align: right;\n",
       "    }\n",
       "</style>\n",
       "<table border=\"1\" class=\"dataframe\">\n",
       "  <thead>\n",
       "    <tr style=\"text-align: right;\">\n",
       "      <th></th>\n",
       "      <th>Budget(M$)</th>\n",
       "      <th>Rating(%)</th>\n",
       "      <th>Year</th>\n",
       "    </tr>\n",
       "    <tr>\n",
       "      <th>Genre</th>\n",
       "      <th></th>\n",
       "      <th></th>\n",
       "      <th></th>\n",
       "    </tr>\n",
       "  </thead>\n",
       "  <tbody>\n",
       "    <tr>\n",
       "      <th>Action</th>\n",
       "      <td>70.000000</td>\n",
       "      <td>55</td>\n",
       "      <td>2008.75</td>\n",
       "    </tr>\n",
       "    <tr>\n",
       "      <th>Adventure</th>\n",
       "      <td>61.500000</td>\n",
       "      <td>64</td>\n",
       "      <td>2009.50</td>\n",
       "    </tr>\n",
       "    <tr>\n",
       "      <th>Comedy</th>\n",
       "      <td>19.333333</td>\n",
       "      <td>74</td>\n",
       "      <td>2009.00</td>\n",
       "    </tr>\n",
       "  </tbody>\n",
       "</table>\n",
       "</div>"
      ],
      "text/plain": [
       "           Budget(M$)  Rating(%)     Year\n",
       "Genre                                    \n",
       "Action      70.000000         55  2008.75\n",
       "Adventure   61.500000         64  2009.50\n",
       "Comedy      19.333333         74  2009.00"
      ]
     },
     "execution_count": 50,
     "metadata": {},
     "output_type": "execute_result"
    }
   ],
   "source": [
    "movie_df.pivot_table(index= \"Genre\")"
   ]
  },
  {
   "cell_type": "code",
   "execution_count": 51,
   "id": "92fc7bf2",
   "metadata": {},
   "outputs": [
    {
     "data": {
      "text/html": [
       "<div>\n",
       "<style scoped>\n",
       "    .dataframe tbody tr th:only-of-type {\n",
       "        vertical-align: middle;\n",
       "    }\n",
       "\n",
       "    .dataframe tbody tr th {\n",
       "        vertical-align: top;\n",
       "    }\n",
       "\n",
       "    .dataframe thead tr th {\n",
       "        text-align: left;\n",
       "    }\n",
       "\n",
       "    .dataframe thead tr:last-of-type th {\n",
       "        text-align: right;\n",
       "    }\n",
       "</style>\n",
       "<table border=\"1\" class=\"dataframe\">\n",
       "  <thead>\n",
       "    <tr>\n",
       "      <th></th>\n",
       "      <th colspan=\"3\" halign=\"left\">Budget(M$)</th>\n",
       "      <th colspan=\"3\" halign=\"left\">Rating(%)</th>\n",
       "    </tr>\n",
       "    <tr>\n",
       "      <th>Year</th>\n",
       "      <th>2008</th>\n",
       "      <th>2009</th>\n",
       "      <th>2010</th>\n",
       "      <th>2008</th>\n",
       "      <th>2009</th>\n",
       "      <th>2010</th>\n",
       "    </tr>\n",
       "    <tr>\n",
       "      <th>Genre</th>\n",
       "      <th></th>\n",
       "      <th></th>\n",
       "      <th></th>\n",
       "      <th></th>\n",
       "      <th></th>\n",
       "      <th></th>\n",
       "    </tr>\n",
       "  </thead>\n",
       "  <tbody>\n",
       "    <tr>\n",
       "      <th>Action</th>\n",
       "      <td>30.0</td>\n",
       "      <td>200.0</td>\n",
       "      <td>20.0</td>\n",
       "      <td>52.5</td>\n",
       "      <td>63.0</td>\n",
       "      <td>52.0</td>\n",
       "    </tr>\n",
       "    <tr>\n",
       "      <th>Adventure</th>\n",
       "      <td>NaN</td>\n",
       "      <td>18.0</td>\n",
       "      <td>105.0</td>\n",
       "      <td>NaN</td>\n",
       "      <td>84.0</td>\n",
       "      <td>44.0</td>\n",
       "    </tr>\n",
       "    <tr>\n",
       "      <th>Comedy</th>\n",
       "      <td>8.0</td>\n",
       "      <td>30.0</td>\n",
       "      <td>20.0</td>\n",
       "      <td>81.0</td>\n",
       "      <td>71.0</td>\n",
       "      <td>70.0</td>\n",
       "    </tr>\n",
       "  </tbody>\n",
       "</table>\n",
       "</div>"
      ],
      "text/plain": [
       "          Budget(M$)               Rating(%)            \n",
       "Year            2008   2009   2010      2008  2009  2010\n",
       "Genre                                                   \n",
       "Action          30.0  200.0   20.0      52.5  63.0  52.0\n",
       "Adventure        NaN   18.0  105.0       NaN  84.0  44.0\n",
       "Comedy           8.0   30.0   20.0      81.0  71.0  70.0"
      ]
     },
     "execution_count": 51,
     "metadata": {},
     "output_type": "execute_result"
    }
   ],
   "source": [
    "movie_df.pivot_table(index= \"Genre\",columns=\"Year\")"
   ]
  },
  {
   "cell_type": "code",
   "execution_count": 56,
   "id": "849a3d20",
   "metadata": {},
   "outputs": [
    {
     "data": {
      "text/html": [
       "<div>\n",
       "<style scoped>\n",
       "    .dataframe tbody tr th:only-of-type {\n",
       "        vertical-align: middle;\n",
       "    }\n",
       "\n",
       "    .dataframe tbody tr th {\n",
       "        vertical-align: top;\n",
       "    }\n",
       "\n",
       "    .dataframe thead tr th {\n",
       "        text-align: left;\n",
       "    }\n",
       "\n",
       "    .dataframe thead tr:last-of-type th {\n",
       "        text-align: right;\n",
       "    }\n",
       "</style>\n",
       "<table border=\"1\" class=\"dataframe\">\n",
       "  <thead>\n",
       "    <tr>\n",
       "      <th></th>\n",
       "      <th colspan=\"3\" halign=\"left\">Budget(M$)</th>\n",
       "      <th colspan=\"3\" halign=\"left\">Rating(%)</th>\n",
       "    </tr>\n",
       "    <tr>\n",
       "      <th>Year</th>\n",
       "      <th>2008</th>\n",
       "      <th>2009</th>\n",
       "      <th>2010</th>\n",
       "      <th>2008</th>\n",
       "      <th>2009</th>\n",
       "      <th>2010</th>\n",
       "    </tr>\n",
       "    <tr>\n",
       "      <th>Genre</th>\n",
       "      <th></th>\n",
       "      <th></th>\n",
       "      <th></th>\n",
       "      <th></th>\n",
       "      <th></th>\n",
       "      <th></th>\n",
       "    </tr>\n",
       "  </thead>\n",
       "  <tbody>\n",
       "    <tr>\n",
       "      <th>Action</th>\n",
       "      <td>60.0</td>\n",
       "      <td>200.0</td>\n",
       "      <td>20.0</td>\n",
       "      <td>105.0</td>\n",
       "      <td>63.0</td>\n",
       "      <td>52.0</td>\n",
       "    </tr>\n",
       "    <tr>\n",
       "      <th>Adventure</th>\n",
       "      <td>NaN</td>\n",
       "      <td>18.0</td>\n",
       "      <td>105.0</td>\n",
       "      <td>NaN</td>\n",
       "      <td>84.0</td>\n",
       "      <td>44.0</td>\n",
       "    </tr>\n",
       "    <tr>\n",
       "      <th>Comedy</th>\n",
       "      <td>8.0</td>\n",
       "      <td>30.0</td>\n",
       "      <td>20.0</td>\n",
       "      <td>81.0</td>\n",
       "      <td>71.0</td>\n",
       "      <td>70.0</td>\n",
       "    </tr>\n",
       "  </tbody>\n",
       "</table>\n",
       "</div>"
      ],
      "text/plain": [
       "          Budget(M$)               Rating(%)            \n",
       "Year            2008   2009   2010      2008  2009  2010\n",
       "Genre                                                   \n",
       "Action          60.0  200.0   20.0     105.0  63.0  52.0\n",
       "Adventure        NaN   18.0  105.0       NaN  84.0  44.0\n",
       "Comedy           8.0   30.0   20.0      81.0  71.0  70.0"
      ]
     },
     "execution_count": 56,
     "metadata": {},
     "output_type": "execute_result"
    }
   ],
   "source": [
    "movie_df.pivot_table(index= \"Genre\",columns=\"Year\",aggfunc=\"sum\")"
   ]
  },
  {
   "cell_type": "code",
   "execution_count": 57,
   "id": "1054563a",
   "metadata": {},
   "outputs": [
    {
     "data": {
      "text/html": [
       "<div>\n",
       "<style scoped>\n",
       "    .dataframe tbody tr th:only-of-type {\n",
       "        vertical-align: middle;\n",
       "    }\n",
       "\n",
       "    .dataframe tbody tr th {\n",
       "        vertical-align: top;\n",
       "    }\n",
       "\n",
       "    .dataframe thead tr th {\n",
       "        text-align: left;\n",
       "    }\n",
       "\n",
       "    .dataframe thead tr:last-of-type th {\n",
       "        text-align: right;\n",
       "    }\n",
       "</style>\n",
       "<table border=\"1\" class=\"dataframe\">\n",
       "  <thead>\n",
       "    <tr>\n",
       "      <th></th>\n",
       "      <th colspan=\"3\" halign=\"left\">Budget(M$)</th>\n",
       "      <th colspan=\"3\" halign=\"left\">Rating(%)</th>\n",
       "    </tr>\n",
       "    <tr>\n",
       "      <th>Year</th>\n",
       "      <th>2008</th>\n",
       "      <th>2009</th>\n",
       "      <th>2010</th>\n",
       "      <th>2008</th>\n",
       "      <th>2009</th>\n",
       "      <th>2010</th>\n",
       "    </tr>\n",
       "    <tr>\n",
       "      <th>Genre</th>\n",
       "      <th></th>\n",
       "      <th></th>\n",
       "      <th></th>\n",
       "      <th></th>\n",
       "      <th></th>\n",
       "      <th></th>\n",
       "    </tr>\n",
       "  </thead>\n",
       "  <tbody>\n",
       "    <tr>\n",
       "      <th>Action</th>\n",
       "      <td>2.0</td>\n",
       "      <td>1.0</td>\n",
       "      <td>1.0</td>\n",
       "      <td>2.0</td>\n",
       "      <td>1.0</td>\n",
       "      <td>1.0</td>\n",
       "    </tr>\n",
       "    <tr>\n",
       "      <th>Adventure</th>\n",
       "      <td>NaN</td>\n",
       "      <td>1.0</td>\n",
       "      <td>1.0</td>\n",
       "      <td>NaN</td>\n",
       "      <td>1.0</td>\n",
       "      <td>1.0</td>\n",
       "    </tr>\n",
       "    <tr>\n",
       "      <th>Comedy</th>\n",
       "      <td>1.0</td>\n",
       "      <td>1.0</td>\n",
       "      <td>1.0</td>\n",
       "      <td>1.0</td>\n",
       "      <td>1.0</td>\n",
       "      <td>1.0</td>\n",
       "    </tr>\n",
       "  </tbody>\n",
       "</table>\n",
       "</div>"
      ],
      "text/plain": [
       "          Budget(M$)           Rating(%)          \n",
       "Year            2008 2009 2010      2008 2009 2010\n",
       "Genre                                             \n",
       "Action           2.0  1.0  1.0       2.0  1.0  1.0\n",
       "Adventure        NaN  1.0  1.0       NaN  1.0  1.0\n",
       "Comedy           1.0  1.0  1.0       1.0  1.0  1.0"
      ]
     },
     "execution_count": 57,
     "metadata": {},
     "output_type": "execute_result"
    }
   ],
   "source": [
    "movie_df.pivot_table(index= \"Genre\",columns=\"Year\",aggfunc=\"count\")"
   ]
  },
  {
   "cell_type": "code",
   "execution_count": 58,
   "id": "4eec490a",
   "metadata": {},
   "outputs": [
    {
     "data": {
      "text/html": [
       "<div>\n",
       "<style scoped>\n",
       "    .dataframe tbody tr th:only-of-type {\n",
       "        vertical-align: middle;\n",
       "    }\n",
       "\n",
       "    .dataframe tbody tr th {\n",
       "        vertical-align: top;\n",
       "    }\n",
       "\n",
       "    .dataframe thead tr th {\n",
       "        text-align: left;\n",
       "    }\n",
       "\n",
       "    .dataframe thead tr:last-of-type th {\n",
       "        text-align: right;\n",
       "    }\n",
       "</style>\n",
       "<table border=\"1\" class=\"dataframe\">\n",
       "  <thead>\n",
       "    <tr>\n",
       "      <th></th>\n",
       "      <th colspan=\"3\" halign=\"left\">Budget(M$)</th>\n",
       "      <th colspan=\"3\" halign=\"left\">Rating(%)</th>\n",
       "    </tr>\n",
       "    <tr>\n",
       "      <th>Year</th>\n",
       "      <th>2008</th>\n",
       "      <th>2009</th>\n",
       "      <th>2010</th>\n",
       "      <th>2008</th>\n",
       "      <th>2009</th>\n",
       "      <th>2010</th>\n",
       "    </tr>\n",
       "    <tr>\n",
       "      <th>Genre</th>\n",
       "      <th></th>\n",
       "      <th></th>\n",
       "      <th></th>\n",
       "      <th></th>\n",
       "      <th></th>\n",
       "      <th></th>\n",
       "    </tr>\n",
       "  </thead>\n",
       "  <tbody>\n",
       "    <tr>\n",
       "      <th>Action</th>\n",
       "      <td>32.0</td>\n",
       "      <td>200.0</td>\n",
       "      <td>20.0</td>\n",
       "      <td>57.0</td>\n",
       "      <td>63.0</td>\n",
       "      <td>52.0</td>\n",
       "    </tr>\n",
       "    <tr>\n",
       "      <th>Adventure</th>\n",
       "      <td>NaN</td>\n",
       "      <td>18.0</td>\n",
       "      <td>105.0</td>\n",
       "      <td>NaN</td>\n",
       "      <td>84.0</td>\n",
       "      <td>44.0</td>\n",
       "    </tr>\n",
       "    <tr>\n",
       "      <th>Comedy</th>\n",
       "      <td>8.0</td>\n",
       "      <td>30.0</td>\n",
       "      <td>20.0</td>\n",
       "      <td>81.0</td>\n",
       "      <td>71.0</td>\n",
       "      <td>70.0</td>\n",
       "    </tr>\n",
       "  </tbody>\n",
       "</table>\n",
       "</div>"
      ],
      "text/plain": [
       "          Budget(M$)               Rating(%)            \n",
       "Year            2008   2009   2010      2008  2009  2010\n",
       "Genre                                                   \n",
       "Action          32.0  200.0   20.0      57.0  63.0  52.0\n",
       "Adventure        NaN   18.0  105.0       NaN  84.0  44.0\n",
       "Comedy           8.0   30.0   20.0      81.0  71.0  70.0"
      ]
     },
     "execution_count": 58,
     "metadata": {},
     "output_type": "execute_result"
    }
   ],
   "source": [
    "movie_df.pivot_table(index= \"Genre\",columns=\"Year\",aggfunc=\"max\")"
   ]
  },
  {
   "cell_type": "code",
   "execution_count": 59,
   "id": "4317c359",
   "metadata": {},
   "outputs": [
    {
     "data": {
      "text/html": [
       "<div>\n",
       "<style scoped>\n",
       "    .dataframe tbody tr th:only-of-type {\n",
       "        vertical-align: middle;\n",
       "    }\n",
       "\n",
       "    .dataframe tbody tr th {\n",
       "        vertical-align: top;\n",
       "    }\n",
       "\n",
       "    .dataframe thead tr th {\n",
       "        text-align: left;\n",
       "    }\n",
       "\n",
       "    .dataframe thead tr:last-of-type th {\n",
       "        text-align: right;\n",
       "    }\n",
       "</style>\n",
       "<table border=\"1\" class=\"dataframe\">\n",
       "  <thead>\n",
       "    <tr>\n",
       "      <th></th>\n",
       "      <th colspan=\"3\" halign=\"left\">Budget(M$)</th>\n",
       "      <th colspan=\"3\" halign=\"left\">Rating(%)</th>\n",
       "    </tr>\n",
       "    <tr>\n",
       "      <th>Year</th>\n",
       "      <th>2008</th>\n",
       "      <th>2009</th>\n",
       "      <th>2010</th>\n",
       "      <th>2008</th>\n",
       "      <th>2009</th>\n",
       "      <th>2010</th>\n",
       "    </tr>\n",
       "    <tr>\n",
       "      <th>Genre</th>\n",
       "      <th></th>\n",
       "      <th></th>\n",
       "      <th></th>\n",
       "      <th></th>\n",
       "      <th></th>\n",
       "      <th></th>\n",
       "    </tr>\n",
       "  </thead>\n",
       "  <tbody>\n",
       "    <tr>\n",
       "      <th>Action</th>\n",
       "      <td>28.0</td>\n",
       "      <td>200.0</td>\n",
       "      <td>20.0</td>\n",
       "      <td>48.0</td>\n",
       "      <td>63.0</td>\n",
       "      <td>52.0</td>\n",
       "    </tr>\n",
       "    <tr>\n",
       "      <th>Adventure</th>\n",
       "      <td>NaN</td>\n",
       "      <td>18.0</td>\n",
       "      <td>105.0</td>\n",
       "      <td>NaN</td>\n",
       "      <td>84.0</td>\n",
       "      <td>44.0</td>\n",
       "    </tr>\n",
       "    <tr>\n",
       "      <th>Comedy</th>\n",
       "      <td>8.0</td>\n",
       "      <td>30.0</td>\n",
       "      <td>20.0</td>\n",
       "      <td>81.0</td>\n",
       "      <td>71.0</td>\n",
       "      <td>70.0</td>\n",
       "    </tr>\n",
       "  </tbody>\n",
       "</table>\n",
       "</div>"
      ],
      "text/plain": [
       "          Budget(M$)               Rating(%)            \n",
       "Year            2008   2009   2010      2008  2009  2010\n",
       "Genre                                                   \n",
       "Action          28.0  200.0   20.0      48.0  63.0  52.0\n",
       "Adventure        NaN   18.0  105.0       NaN  84.0  44.0\n",
       "Comedy           8.0   30.0   20.0      81.0  71.0  70.0"
      ]
     },
     "execution_count": 59,
     "metadata": {},
     "output_type": "execute_result"
    }
   ],
   "source": [
    "movie_df.pivot_table(index= \"Genre\",columns=\"Year\",aggfunc=\"min\")"
   ]
  },
  {
   "cell_type": "code",
   "execution_count": 62,
   "id": "3fe22fcb",
   "metadata": {},
   "outputs": [
    {
     "data": {
      "text/html": [
       "<div>\n",
       "<style scoped>\n",
       "    .dataframe tbody tr th:only-of-type {\n",
       "        vertical-align: middle;\n",
       "    }\n",
       "\n",
       "    .dataframe tbody tr th {\n",
       "        vertical-align: top;\n",
       "    }\n",
       "\n",
       "    .dataframe thead tr th {\n",
       "        text-align: left;\n",
       "    }\n",
       "\n",
       "    .dataframe thead tr:last-of-type th {\n",
       "        text-align: right;\n",
       "    }\n",
       "</style>\n",
       "<table border=\"1\" class=\"dataframe\">\n",
       "  <thead>\n",
       "    <tr>\n",
       "      <th></th>\n",
       "      <th colspan=\"3\" halign=\"left\">Budget(M$)</th>\n",
       "      <th colspan=\"3\" halign=\"left\">Rating(%)</th>\n",
       "    </tr>\n",
       "    <tr>\n",
       "      <th>Year</th>\n",
       "      <th>2008</th>\n",
       "      <th>2009</th>\n",
       "      <th>2010</th>\n",
       "      <th>2008</th>\n",
       "      <th>2009</th>\n",
       "      <th>2010</th>\n",
       "    </tr>\n",
       "    <tr>\n",
       "      <th>Genre</th>\n",
       "      <th></th>\n",
       "      <th></th>\n",
       "      <th></th>\n",
       "      <th></th>\n",
       "      <th></th>\n",
       "      <th></th>\n",
       "    </tr>\n",
       "  </thead>\n",
       "  <tbody>\n",
       "    <tr>\n",
       "      <th>Action</th>\n",
       "      <td>60.0</td>\n",
       "      <td>200.0</td>\n",
       "      <td>20.0</td>\n",
       "      <td>105.0</td>\n",
       "      <td>63.0</td>\n",
       "      <td>52.0</td>\n",
       "    </tr>\n",
       "    <tr>\n",
       "      <th>Adventure</th>\n",
       "      <td>0</td>\n",
       "      <td>18.0</td>\n",
       "      <td>105.0</td>\n",
       "      <td>0</td>\n",
       "      <td>84.0</td>\n",
       "      <td>44.0</td>\n",
       "    </tr>\n",
       "    <tr>\n",
       "      <th>Comedy</th>\n",
       "      <td>8.0</td>\n",
       "      <td>30.0</td>\n",
       "      <td>20.0</td>\n",
       "      <td>81.0</td>\n",
       "      <td>71.0</td>\n",
       "      <td>70.0</td>\n",
       "    </tr>\n",
       "  </tbody>\n",
       "</table>\n",
       "</div>"
      ],
      "text/plain": [
       "          Budget(M$)               Rating(%)            \n",
       "Year            2008   2009   2010      2008  2009  2010\n",
       "Genre                                                   \n",
       "Action          60.0  200.0   20.0     105.0  63.0  52.0\n",
       "Adventure          0   18.0  105.0         0  84.0  44.0\n",
       "Comedy           8.0   30.0   20.0      81.0  71.0  70.0"
      ]
     },
     "execution_count": 62,
     "metadata": {},
     "output_type": "execute_result"
    }
   ],
   "source": [
    "movie_df.pivot_table(index= \"Genre\",columns=\"Year\",aggfunc=\"sum\",fill_value=\"0\")   #Filled na values"
   ]
  },
  {
   "cell_type": "code",
   "execution_count": 63,
   "id": "deb37886",
   "metadata": {},
   "outputs": [
    {
     "data": {
      "text/html": [
       "<div>\n",
       "<style scoped>\n",
       "    .dataframe tbody tr th:only-of-type {\n",
       "        vertical-align: middle;\n",
       "    }\n",
       "\n",
       "    .dataframe tbody tr th {\n",
       "        vertical-align: top;\n",
       "    }\n",
       "\n",
       "    .dataframe thead tr th {\n",
       "        text-align: left;\n",
       "    }\n",
       "\n",
       "    .dataframe thead tr:last-of-type th {\n",
       "        text-align: right;\n",
       "    }\n",
       "</style>\n",
       "<table border=\"1\" class=\"dataframe\">\n",
       "  <thead>\n",
       "    <tr>\n",
       "      <th></th>\n",
       "      <th colspan=\"4\" halign=\"left\">Budget(M$)</th>\n",
       "      <th colspan=\"4\" halign=\"left\">Rating(%)</th>\n",
       "    </tr>\n",
       "    <tr>\n",
       "      <th>Year</th>\n",
       "      <th>2008</th>\n",
       "      <th>2009</th>\n",
       "      <th>2010</th>\n",
       "      <th>All</th>\n",
       "      <th>2008</th>\n",
       "      <th>2009</th>\n",
       "      <th>2010</th>\n",
       "      <th>All</th>\n",
       "    </tr>\n",
       "    <tr>\n",
       "      <th>Genre</th>\n",
       "      <th></th>\n",
       "      <th></th>\n",
       "      <th></th>\n",
       "      <th></th>\n",
       "      <th></th>\n",
       "      <th></th>\n",
       "      <th></th>\n",
       "      <th></th>\n",
       "    </tr>\n",
       "  </thead>\n",
       "  <tbody>\n",
       "    <tr>\n",
       "      <th>Action</th>\n",
       "      <td>60.0</td>\n",
       "      <td>200.0</td>\n",
       "      <td>20.0</td>\n",
       "      <td>280</td>\n",
       "      <td>105.0</td>\n",
       "      <td>63.0</td>\n",
       "      <td>52.0</td>\n",
       "      <td>220</td>\n",
       "    </tr>\n",
       "    <tr>\n",
       "      <th>Adventure</th>\n",
       "      <td>0</td>\n",
       "      <td>18.0</td>\n",
       "      <td>105.0</td>\n",
       "      <td>123</td>\n",
       "      <td>0</td>\n",
       "      <td>84.0</td>\n",
       "      <td>44.0</td>\n",
       "      <td>128</td>\n",
       "    </tr>\n",
       "    <tr>\n",
       "      <th>Comedy</th>\n",
       "      <td>8.0</td>\n",
       "      <td>30.0</td>\n",
       "      <td>20.0</td>\n",
       "      <td>58</td>\n",
       "      <td>81.0</td>\n",
       "      <td>71.0</td>\n",
       "      <td>70.0</td>\n",
       "      <td>222</td>\n",
       "    </tr>\n",
       "    <tr>\n",
       "      <th>All</th>\n",
       "      <td>68</td>\n",
       "      <td>248</td>\n",
       "      <td>145</td>\n",
       "      <td>461</td>\n",
       "      <td>186</td>\n",
       "      <td>218</td>\n",
       "      <td>166</td>\n",
       "      <td>570</td>\n",
       "    </tr>\n",
       "  </tbody>\n",
       "</table>\n",
       "</div>"
      ],
      "text/plain": [
       "          Budget(M$)                    Rating(%)                 \n",
       "Year            2008   2009   2010  All      2008  2009  2010  All\n",
       "Genre                                                             \n",
       "Action          60.0  200.0   20.0  280     105.0  63.0  52.0  220\n",
       "Adventure          0   18.0  105.0  123         0  84.0  44.0  128\n",
       "Comedy           8.0   30.0   20.0   58      81.0  71.0  70.0  222\n",
       "All               68    248    145  461       186   218   166  570"
      ]
     },
     "execution_count": 63,
     "metadata": {},
     "output_type": "execute_result"
    }
   ],
   "source": [
    "movie_df.pivot_table(index= \"Genre\",columns=\"Year\",aggfunc=\"sum\",fill_value=\"0\",margins=True)"
   ]
  },
  {
   "cell_type": "code",
   "execution_count": 64,
   "id": "946fa484",
   "metadata": {},
   "outputs": [
    {
     "data": {
      "text/html": [
       "<div>\n",
       "<style scoped>\n",
       "    .dataframe tbody tr th:only-of-type {\n",
       "        vertical-align: middle;\n",
       "    }\n",
       "\n",
       "    .dataframe tbody tr th {\n",
       "        vertical-align: top;\n",
       "    }\n",
       "\n",
       "    .dataframe thead tr th {\n",
       "        text-align: left;\n",
       "    }\n",
       "\n",
       "    .dataframe thead tr:last-of-type th {\n",
       "        text-align: right;\n",
       "    }\n",
       "</style>\n",
       "<table border=\"1\" class=\"dataframe\">\n",
       "  <thead>\n",
       "    <tr>\n",
       "      <th></th>\n",
       "      <th colspan=\"4\" halign=\"left\">Budget(M$)</th>\n",
       "      <th colspan=\"4\" halign=\"left\">Rating(%)</th>\n",
       "    </tr>\n",
       "    <tr>\n",
       "      <th>Year</th>\n",
       "      <th>2008</th>\n",
       "      <th>2009</th>\n",
       "      <th>2010</th>\n",
       "      <th>Total</th>\n",
       "      <th>2008</th>\n",
       "      <th>2009</th>\n",
       "      <th>2010</th>\n",
       "      <th>Total</th>\n",
       "    </tr>\n",
       "    <tr>\n",
       "      <th>Genre</th>\n",
       "      <th></th>\n",
       "      <th></th>\n",
       "      <th></th>\n",
       "      <th></th>\n",
       "      <th></th>\n",
       "      <th></th>\n",
       "      <th></th>\n",
       "      <th></th>\n",
       "    </tr>\n",
       "  </thead>\n",
       "  <tbody>\n",
       "    <tr>\n",
       "      <th>Action</th>\n",
       "      <td>60.0</td>\n",
       "      <td>200.0</td>\n",
       "      <td>20.0</td>\n",
       "      <td>280</td>\n",
       "      <td>105.0</td>\n",
       "      <td>63.0</td>\n",
       "      <td>52.0</td>\n",
       "      <td>220</td>\n",
       "    </tr>\n",
       "    <tr>\n",
       "      <th>Adventure</th>\n",
       "      <td>0</td>\n",
       "      <td>18.0</td>\n",
       "      <td>105.0</td>\n",
       "      <td>123</td>\n",
       "      <td>0</td>\n",
       "      <td>84.0</td>\n",
       "      <td>44.0</td>\n",
       "      <td>128</td>\n",
       "    </tr>\n",
       "    <tr>\n",
       "      <th>Comedy</th>\n",
       "      <td>8.0</td>\n",
       "      <td>30.0</td>\n",
       "      <td>20.0</td>\n",
       "      <td>58</td>\n",
       "      <td>81.0</td>\n",
       "      <td>71.0</td>\n",
       "      <td>70.0</td>\n",
       "      <td>222</td>\n",
       "    </tr>\n",
       "    <tr>\n",
       "      <th>Total</th>\n",
       "      <td>68</td>\n",
       "      <td>248</td>\n",
       "      <td>145</td>\n",
       "      <td>461</td>\n",
       "      <td>186</td>\n",
       "      <td>218</td>\n",
       "      <td>166</td>\n",
       "      <td>570</td>\n",
       "    </tr>\n",
       "  </tbody>\n",
       "</table>\n",
       "</div>"
      ],
      "text/plain": [
       "          Budget(M$)                     Rating(%)                  \n",
       "Year            2008   2009   2010 Total      2008  2009  2010 Total\n",
       "Genre                                                               \n",
       "Action          60.0  200.0   20.0   280     105.0  63.0  52.0   220\n",
       "Adventure          0   18.0  105.0   123         0  84.0  44.0   128\n",
       "Comedy           8.0   30.0   20.0    58      81.0  71.0  70.0   222\n",
       "Total             68    248    145   461       186   218   166   570"
      ]
     },
     "execution_count": 64,
     "metadata": {},
     "output_type": "execute_result"
    }
   ],
   "source": [
    "movie_df.pivot_table(index= \"Genre\",columns=\"Year\",aggfunc=\"sum\",fill_value=\"0\",margins=True,margins_name=\"Total\")"
   ]
  },
  {
   "cell_type": "markdown",
   "id": "b9b0071f",
   "metadata": {},
   "source": [
    "#### Case Study 2 : Pivot Tables"
   ]
  },
  {
   "cell_type": "code",
   "execution_count": 84,
   "id": "e0d36bdd",
   "metadata": {},
   "outputs": [
    {
     "data": {
      "text/html": [
       "<div>\n",
       "<style scoped>\n",
       "    .dataframe tbody tr th:only-of-type {\n",
       "        vertical-align: middle;\n",
       "    }\n",
       "\n",
       "    .dataframe tbody tr th {\n",
       "        vertical-align: top;\n",
       "    }\n",
       "\n",
       "    .dataframe thead th {\n",
       "        text-align: right;\n",
       "    }\n",
       "</style>\n",
       "<table border=\"1\" class=\"dataframe\">\n",
       "  <thead>\n",
       "    <tr style=\"text-align: right;\">\n",
       "      <th></th>\n",
       "      <th>day</th>\n",
       "      <th>temp</th>\n",
       "      <th>windspeed</th>\n",
       "      <th>event</th>\n",
       "    </tr>\n",
       "  </thead>\n",
       "  <tbody>\n",
       "    <tr>\n",
       "      <th>0</th>\n",
       "      <td>1/1/2020</td>\n",
       "      <td>34</td>\n",
       "      <td>12</td>\n",
       "      <td>sunny</td>\n",
       "    </tr>\n",
       "    <tr>\n",
       "      <th>1</th>\n",
       "      <td>1/2/2020</td>\n",
       "      <td>23</td>\n",
       "      <td>18</td>\n",
       "      <td>rain</td>\n",
       "    </tr>\n",
       "    <tr>\n",
       "      <th>2</th>\n",
       "      <td>1/3/2020</td>\n",
       "      <td>41</td>\n",
       "      <td>17</td>\n",
       "      <td>overcast</td>\n",
       "    </tr>\n",
       "    <tr>\n",
       "      <th>3</th>\n",
       "      <td>1/4/2020</td>\n",
       "      <td>38</td>\n",
       "      <td>38</td>\n",
       "      <td>sunny</td>\n",
       "    </tr>\n",
       "    <tr>\n",
       "      <th>4</th>\n",
       "      <td>1/5/2020</td>\n",
       "      <td>28</td>\n",
       "      <td>22</td>\n",
       "      <td>rain</td>\n",
       "    </tr>\n",
       "    <tr>\n",
       "      <th>5</th>\n",
       "      <td>1/6/2020</td>\n",
       "      <td>19</td>\n",
       "      <td>23</td>\n",
       "      <td>snow</td>\n",
       "    </tr>\n",
       "  </tbody>\n",
       "</table>\n",
       "</div>"
      ],
      "text/plain": [
       "        day  temp  windspeed     event\n",
       "0  1/1/2020    34         12     sunny\n",
       "1  1/2/2020    23         18      rain\n",
       "2  1/3/2020    41         17  overcast\n",
       "3  1/4/2020    38         38     sunny\n",
       "4  1/5/2020    28         22      rain\n",
       "5  1/6/2020    19         23      snow"
      ]
     },
     "execution_count": 84,
     "metadata": {},
     "output_type": "execute_result"
    }
   ],
   "source": [
    "weather_data={\n",
    "    \"day\":[\"1/1/2020\",'1/2/2020','1/3/2020','1/4/2020','1/5/2020','1/6/2020'],\n",
    "    \"temp\":[34,23,41,38,28,19],\n",
    "    'windspeed':[12,18,17,38,22,23],\n",
    "    'event':['sunny','rain','overcast','sunny','rain','snow']\n",
    "}\n",
    "df1=pd.DataFrame(weather_data)\n",
    "df1"
   ]
  },
  {
   "cell_type": "code",
   "execution_count": 85,
   "id": "f21f5d4d",
   "metadata": {},
   "outputs": [
    {
     "data": {
      "text/html": [
       "<div>\n",
       "<style scoped>\n",
       "    .dataframe tbody tr th:only-of-type {\n",
       "        vertical-align: middle;\n",
       "    }\n",
       "\n",
       "    .dataframe tbody tr th {\n",
       "        vertical-align: top;\n",
       "    }\n",
       "\n",
       "    .dataframe thead th {\n",
       "        text-align: right;\n",
       "    }\n",
       "</style>\n",
       "<table border=\"1\" class=\"dataframe\">\n",
       "  <thead>\n",
       "    <tr style=\"text-align: right;\">\n",
       "      <th></th>\n",
       "      <th>temp</th>\n",
       "      <th>windspeed</th>\n",
       "    </tr>\n",
       "    <tr>\n",
       "      <th>event</th>\n",
       "      <th></th>\n",
       "      <th></th>\n",
       "    </tr>\n",
       "  </thead>\n",
       "  <tbody>\n",
       "    <tr>\n",
       "      <th>overcast</th>\n",
       "      <td>41.0</td>\n",
       "      <td>17</td>\n",
       "    </tr>\n",
       "    <tr>\n",
       "      <th>rain</th>\n",
       "      <td>25.5</td>\n",
       "      <td>20</td>\n",
       "    </tr>\n",
       "    <tr>\n",
       "      <th>snow</th>\n",
       "      <td>19.0</td>\n",
       "      <td>23</td>\n",
       "    </tr>\n",
       "    <tr>\n",
       "      <th>sunny</th>\n",
       "      <td>36.0</td>\n",
       "      <td>25</td>\n",
       "    </tr>\n",
       "  </tbody>\n",
       "</table>\n",
       "</div>"
      ],
      "text/plain": [
       "          temp  windspeed\n",
       "event                    \n",
       "overcast  41.0         17\n",
       "rain      25.5         20\n",
       "snow      19.0         23\n",
       "sunny     36.0         25"
      ]
     },
     "execution_count": 85,
     "metadata": {},
     "output_type": "execute_result"
    }
   ],
   "source": [
    "df1.pivot_table(index=\"event\")"
   ]
  },
  {
   "cell_type": "code",
   "execution_count": 86,
   "id": "a731d47e",
   "metadata": {},
   "outputs": [
    {
     "data": {
      "text/html": [
       "<div>\n",
       "<style scoped>\n",
       "    .dataframe tbody tr th:only-of-type {\n",
       "        vertical-align: middle;\n",
       "    }\n",
       "\n",
       "    .dataframe tbody tr th {\n",
       "        vertical-align: top;\n",
       "    }\n",
       "\n",
       "    .dataframe thead th {\n",
       "        text-align: right;\n",
       "    }\n",
       "</style>\n",
       "<table border=\"1\" class=\"dataframe\">\n",
       "  <thead>\n",
       "    <tr style=\"text-align: right;\">\n",
       "      <th></th>\n",
       "      <th>temp</th>\n",
       "      <th>windspeed</th>\n",
       "    </tr>\n",
       "    <tr>\n",
       "      <th>event</th>\n",
       "      <th></th>\n",
       "      <th></th>\n",
       "    </tr>\n",
       "  </thead>\n",
       "  <tbody>\n",
       "    <tr>\n",
       "      <th>overcast</th>\n",
       "      <td>41</td>\n",
       "      <td>17</td>\n",
       "    </tr>\n",
       "    <tr>\n",
       "      <th>rain</th>\n",
       "      <td>51</td>\n",
       "      <td>40</td>\n",
       "    </tr>\n",
       "    <tr>\n",
       "      <th>snow</th>\n",
       "      <td>19</td>\n",
       "      <td>23</td>\n",
       "    </tr>\n",
       "    <tr>\n",
       "      <th>sunny</th>\n",
       "      <td>72</td>\n",
       "      <td>50</td>\n",
       "    </tr>\n",
       "  </tbody>\n",
       "</table>\n",
       "</div>"
      ],
      "text/plain": [
       "          temp  windspeed\n",
       "event                    \n",
       "overcast    41         17\n",
       "rain        51         40\n",
       "snow        19         23\n",
       "sunny       72         50"
      ]
     },
     "execution_count": 86,
     "metadata": {},
     "output_type": "execute_result"
    }
   ],
   "source": [
    "df1.pivot_table(index=\"event\",aggfunc=\"sum\")"
   ]
  },
  {
   "cell_type": "code",
   "execution_count": 87,
   "id": "f36c1160",
   "metadata": {},
   "outputs": [
    {
     "data": {
      "text/html": [
       "<div>\n",
       "<style scoped>\n",
       "    .dataframe tbody tr th:only-of-type {\n",
       "        vertical-align: middle;\n",
       "    }\n",
       "\n",
       "    .dataframe tbody tr th {\n",
       "        vertical-align: top;\n",
       "    }\n",
       "\n",
       "    .dataframe thead tr th {\n",
       "        text-align: left;\n",
       "    }\n",
       "\n",
       "    .dataframe thead tr:last-of-type th {\n",
       "        text-align: right;\n",
       "    }\n",
       "</style>\n",
       "<table border=\"1\" class=\"dataframe\">\n",
       "  <thead>\n",
       "    <tr>\n",
       "      <th></th>\n",
       "      <th colspan=\"6\" halign=\"left\">temp</th>\n",
       "      <th colspan=\"6\" halign=\"left\">windspeed</th>\n",
       "    </tr>\n",
       "    <tr>\n",
       "      <th>day</th>\n",
       "      <th>1/1/2020</th>\n",
       "      <th>1/2/2020</th>\n",
       "      <th>1/3/2020</th>\n",
       "      <th>1/4/2020</th>\n",
       "      <th>1/5/2020</th>\n",
       "      <th>1/6/2020</th>\n",
       "      <th>1/1/2020</th>\n",
       "      <th>1/2/2020</th>\n",
       "      <th>1/3/2020</th>\n",
       "      <th>1/4/2020</th>\n",
       "      <th>1/5/2020</th>\n",
       "      <th>1/6/2020</th>\n",
       "    </tr>\n",
       "    <tr>\n",
       "      <th>event</th>\n",
       "      <th></th>\n",
       "      <th></th>\n",
       "      <th></th>\n",
       "      <th></th>\n",
       "      <th></th>\n",
       "      <th></th>\n",
       "      <th></th>\n",
       "      <th></th>\n",
       "      <th></th>\n",
       "      <th></th>\n",
       "      <th></th>\n",
       "      <th></th>\n",
       "    </tr>\n",
       "  </thead>\n",
       "  <tbody>\n",
       "    <tr>\n",
       "      <th>overcast</th>\n",
       "      <td>NaN</td>\n",
       "      <td>NaN</td>\n",
       "      <td>41.0</td>\n",
       "      <td>NaN</td>\n",
       "      <td>NaN</td>\n",
       "      <td>NaN</td>\n",
       "      <td>NaN</td>\n",
       "      <td>NaN</td>\n",
       "      <td>17.0</td>\n",
       "      <td>NaN</td>\n",
       "      <td>NaN</td>\n",
       "      <td>NaN</td>\n",
       "    </tr>\n",
       "    <tr>\n",
       "      <th>rain</th>\n",
       "      <td>NaN</td>\n",
       "      <td>23.0</td>\n",
       "      <td>NaN</td>\n",
       "      <td>NaN</td>\n",
       "      <td>28.0</td>\n",
       "      <td>NaN</td>\n",
       "      <td>NaN</td>\n",
       "      <td>18.0</td>\n",
       "      <td>NaN</td>\n",
       "      <td>NaN</td>\n",
       "      <td>22.0</td>\n",
       "      <td>NaN</td>\n",
       "    </tr>\n",
       "    <tr>\n",
       "      <th>snow</th>\n",
       "      <td>NaN</td>\n",
       "      <td>NaN</td>\n",
       "      <td>NaN</td>\n",
       "      <td>NaN</td>\n",
       "      <td>NaN</td>\n",
       "      <td>19.0</td>\n",
       "      <td>NaN</td>\n",
       "      <td>NaN</td>\n",
       "      <td>NaN</td>\n",
       "      <td>NaN</td>\n",
       "      <td>NaN</td>\n",
       "      <td>23.0</td>\n",
       "    </tr>\n",
       "    <tr>\n",
       "      <th>sunny</th>\n",
       "      <td>34.0</td>\n",
       "      <td>NaN</td>\n",
       "      <td>NaN</td>\n",
       "      <td>38.0</td>\n",
       "      <td>NaN</td>\n",
       "      <td>NaN</td>\n",
       "      <td>12.0</td>\n",
       "      <td>NaN</td>\n",
       "      <td>NaN</td>\n",
       "      <td>38.0</td>\n",
       "      <td>NaN</td>\n",
       "      <td>NaN</td>\n",
       "    </tr>\n",
       "  </tbody>\n",
       "</table>\n",
       "</div>"
      ],
      "text/plain": [
       "             temp                                              windspeed  \\\n",
       "day      1/1/2020 1/2/2020 1/3/2020 1/4/2020 1/5/2020 1/6/2020  1/1/2020   \n",
       "event                                                                      \n",
       "overcast      NaN      NaN     41.0      NaN      NaN      NaN       NaN   \n",
       "rain          NaN     23.0      NaN      NaN     28.0      NaN       NaN   \n",
       "snow          NaN      NaN      NaN      NaN      NaN     19.0       NaN   \n",
       "sunny        34.0      NaN      NaN     38.0      NaN      NaN      12.0   \n",
       "\n",
       "                                                       \n",
       "day      1/2/2020 1/3/2020 1/4/2020 1/5/2020 1/6/2020  \n",
       "event                                                  \n",
       "overcast      NaN     17.0      NaN      NaN      NaN  \n",
       "rain         18.0      NaN      NaN     22.0      NaN  \n",
       "snow          NaN      NaN      NaN      NaN     23.0  \n",
       "sunny         NaN      NaN     38.0      NaN      NaN  "
      ]
     },
     "execution_count": 87,
     "metadata": {},
     "output_type": "execute_result"
    }
   ],
   "source": [
    "df1.pivot_table(index=\"event\",aggfunc=\"sum\",columns=\"day\")"
   ]
  },
  {
   "cell_type": "code",
   "execution_count": 88,
   "id": "a9d1b0b8",
   "metadata": {},
   "outputs": [
    {
     "data": {
      "text/html": [
       "<div>\n",
       "<style scoped>\n",
       "    .dataframe tbody tr th:only-of-type {\n",
       "        vertical-align: middle;\n",
       "    }\n",
       "\n",
       "    .dataframe tbody tr th {\n",
       "        vertical-align: top;\n",
       "    }\n",
       "\n",
       "    .dataframe thead tr th {\n",
       "        text-align: left;\n",
       "    }\n",
       "\n",
       "    .dataframe thead tr:last-of-type th {\n",
       "        text-align: right;\n",
       "    }\n",
       "</style>\n",
       "<table border=\"1\" class=\"dataframe\">\n",
       "  <thead>\n",
       "    <tr>\n",
       "      <th></th>\n",
       "      <th colspan=\"6\" halign=\"left\">temp</th>\n",
       "      <th colspan=\"6\" halign=\"left\">windspeed</th>\n",
       "    </tr>\n",
       "    <tr>\n",
       "      <th>day</th>\n",
       "      <th>1/1/2020</th>\n",
       "      <th>1/2/2020</th>\n",
       "      <th>1/3/2020</th>\n",
       "      <th>1/4/2020</th>\n",
       "      <th>1/5/2020</th>\n",
       "      <th>1/6/2020</th>\n",
       "      <th>1/1/2020</th>\n",
       "      <th>1/2/2020</th>\n",
       "      <th>1/3/2020</th>\n",
       "      <th>1/4/2020</th>\n",
       "      <th>1/5/2020</th>\n",
       "      <th>1/6/2020</th>\n",
       "    </tr>\n",
       "    <tr>\n",
       "      <th>event</th>\n",
       "      <th></th>\n",
       "      <th></th>\n",
       "      <th></th>\n",
       "      <th></th>\n",
       "      <th></th>\n",
       "      <th></th>\n",
       "      <th></th>\n",
       "      <th></th>\n",
       "      <th></th>\n",
       "      <th></th>\n",
       "      <th></th>\n",
       "      <th></th>\n",
       "    </tr>\n",
       "  </thead>\n",
       "  <tbody>\n",
       "    <tr>\n",
       "      <th>overcast</th>\n",
       "      <td>0</td>\n",
       "      <td>0</td>\n",
       "      <td>41.0</td>\n",
       "      <td>0</td>\n",
       "      <td>0</td>\n",
       "      <td>0</td>\n",
       "      <td>0</td>\n",
       "      <td>0</td>\n",
       "      <td>17.0</td>\n",
       "      <td>0</td>\n",
       "      <td>0</td>\n",
       "      <td>0</td>\n",
       "    </tr>\n",
       "    <tr>\n",
       "      <th>rain</th>\n",
       "      <td>0</td>\n",
       "      <td>23.0</td>\n",
       "      <td>0</td>\n",
       "      <td>0</td>\n",
       "      <td>28.0</td>\n",
       "      <td>0</td>\n",
       "      <td>0</td>\n",
       "      <td>18.0</td>\n",
       "      <td>0</td>\n",
       "      <td>0</td>\n",
       "      <td>22.0</td>\n",
       "      <td>0</td>\n",
       "    </tr>\n",
       "    <tr>\n",
       "      <th>snow</th>\n",
       "      <td>0</td>\n",
       "      <td>0</td>\n",
       "      <td>0</td>\n",
       "      <td>0</td>\n",
       "      <td>0</td>\n",
       "      <td>19.0</td>\n",
       "      <td>0</td>\n",
       "      <td>0</td>\n",
       "      <td>0</td>\n",
       "      <td>0</td>\n",
       "      <td>0</td>\n",
       "      <td>23.0</td>\n",
       "    </tr>\n",
       "    <tr>\n",
       "      <th>sunny</th>\n",
       "      <td>34.0</td>\n",
       "      <td>0</td>\n",
       "      <td>0</td>\n",
       "      <td>38.0</td>\n",
       "      <td>0</td>\n",
       "      <td>0</td>\n",
       "      <td>12.0</td>\n",
       "      <td>0</td>\n",
       "      <td>0</td>\n",
       "      <td>38.0</td>\n",
       "      <td>0</td>\n",
       "      <td>0</td>\n",
       "    </tr>\n",
       "  </tbody>\n",
       "</table>\n",
       "</div>"
      ],
      "text/plain": [
       "             temp                                              windspeed  \\\n",
       "day      1/1/2020 1/2/2020 1/3/2020 1/4/2020 1/5/2020 1/6/2020  1/1/2020   \n",
       "event                                                                      \n",
       "overcast        0        0     41.0        0        0        0         0   \n",
       "rain            0     23.0        0        0     28.0        0         0   \n",
       "snow            0        0        0        0        0     19.0         0   \n",
       "sunny        34.0        0        0     38.0        0        0      12.0   \n",
       "\n",
       "                                                       \n",
       "day      1/2/2020 1/3/2020 1/4/2020 1/5/2020 1/6/2020  \n",
       "event                                                  \n",
       "overcast        0     17.0        0        0        0  \n",
       "rain         18.0        0        0     22.0        0  \n",
       "snow            0        0        0        0     23.0  \n",
       "sunny           0        0     38.0        0        0  "
      ]
     },
     "execution_count": 88,
     "metadata": {},
     "output_type": "execute_result"
    }
   ],
   "source": [
    "df1.pivot_table(index=\"event\",aggfunc=\"sum\",columns=\"day\",fill_value=\"0\")"
   ]
  },
  {
   "cell_type": "markdown",
   "id": "e26c4650",
   "metadata": {},
   "source": [
    "## Pandas Plotting"
   ]
  },
  {
   "cell_type": "code",
   "execution_count": 2,
   "id": "fcab5388",
   "metadata": {},
   "outputs": [],
   "source": [
    "# Lets create DF for pandas plotting\n",
    "dict = {'Unemployement_rate':[6.1,5.8,5.7,5.7,5.8,5.6,5.5,5.3,5.2,5.2],\n",
    "        'Stock_price_index': [1500,1520,1525,1523,1515,1540,1545,1560,1555,1565]\n",
    "       }"
   ]
  },
  {
   "cell_type": "code",
   "execution_count": 3,
   "id": "9d0f4b51",
   "metadata": {},
   "outputs": [
    {
     "data": {
      "text/plain": [
       "{'Unemployement_rate': [6.1, 5.8, 5.7, 5.7, 5.8, 5.6, 5.5, 5.3, 5.2, 5.2],\n",
       " 'Stock_price_index': [1500,\n",
       "  1520,\n",
       "  1525,\n",
       "  1523,\n",
       "  1515,\n",
       "  1540,\n",
       "  1545,\n",
       "  1560,\n",
       "  1555,\n",
       "  1565]}"
      ]
     },
     "execution_count": 3,
     "metadata": {},
     "output_type": "execute_result"
    }
   ],
   "source": [
    "dict"
   ]
  },
  {
   "cell_type": "code",
   "execution_count": 7,
   "id": "74a4250c",
   "metadata": {},
   "outputs": [
    {
     "data": {
      "text/html": [
       "<div>\n",
       "<style scoped>\n",
       "    .dataframe tbody tr th:only-of-type {\n",
       "        vertical-align: middle;\n",
       "    }\n",
       "\n",
       "    .dataframe tbody tr th {\n",
       "        vertical-align: top;\n",
       "    }\n",
       "\n",
       "    .dataframe thead th {\n",
       "        text-align: right;\n",
       "    }\n",
       "</style>\n",
       "<table border=\"1\" class=\"dataframe\">\n",
       "  <thead>\n",
       "    <tr style=\"text-align: right;\">\n",
       "      <th></th>\n",
       "      <th>Unemployement_rate</th>\n",
       "      <th>Stock_price_index</th>\n",
       "    </tr>\n",
       "  </thead>\n",
       "  <tbody>\n",
       "    <tr>\n",
       "      <th>0</th>\n",
       "      <td>6.1</td>\n",
       "      <td>1500</td>\n",
       "    </tr>\n",
       "    <tr>\n",
       "      <th>1</th>\n",
       "      <td>5.8</td>\n",
       "      <td>1520</td>\n",
       "    </tr>\n",
       "    <tr>\n",
       "      <th>2</th>\n",
       "      <td>5.7</td>\n",
       "      <td>1525</td>\n",
       "    </tr>\n",
       "    <tr>\n",
       "      <th>3</th>\n",
       "      <td>5.7</td>\n",
       "      <td>1523</td>\n",
       "    </tr>\n",
       "    <tr>\n",
       "      <th>4</th>\n",
       "      <td>5.8</td>\n",
       "      <td>1515</td>\n",
       "    </tr>\n",
       "    <tr>\n",
       "      <th>5</th>\n",
       "      <td>5.6</td>\n",
       "      <td>1540</td>\n",
       "    </tr>\n",
       "    <tr>\n",
       "      <th>6</th>\n",
       "      <td>5.5</td>\n",
       "      <td>1545</td>\n",
       "    </tr>\n",
       "    <tr>\n",
       "      <th>7</th>\n",
       "      <td>5.3</td>\n",
       "      <td>1560</td>\n",
       "    </tr>\n",
       "    <tr>\n",
       "      <th>8</th>\n",
       "      <td>5.2</td>\n",
       "      <td>1555</td>\n",
       "    </tr>\n",
       "    <tr>\n",
       "      <th>9</th>\n",
       "      <td>5.2</td>\n",
       "      <td>1565</td>\n",
       "    </tr>\n",
       "  </tbody>\n",
       "</table>\n",
       "</div>"
      ],
      "text/plain": [
       "   Unemployement_rate  Stock_price_index\n",
       "0                 6.1               1500\n",
       "1                 5.8               1520\n",
       "2                 5.7               1525\n",
       "3                 5.7               1523\n",
       "4                 5.8               1515\n",
       "5                 5.6               1540\n",
       "6                 5.5               1545\n",
       "7                 5.3               1560\n",
       "8                 5.2               1555\n",
       "9                 5.2               1565"
      ]
     },
     "execution_count": 7,
     "metadata": {},
     "output_type": "execute_result"
    }
   ],
   "source": [
    "df=pd.DataFrame(dict)\n",
    "df"
   ]
  },
  {
   "cell_type": "code",
   "execution_count": 8,
   "id": "06f64294",
   "metadata": {},
   "outputs": [
    {
     "data": {
      "text/plain": [
       "<AxesSubplot:xlabel='Unemployement_rate'>"
      ]
     },
     "execution_count": 8,
     "metadata": {},
     "output_type": "execute_result"
    },
    {
     "data": {
      "image/png": "[encoded data removed]",
      "text/plain": [
       "<Figure size 432x288 with 1 Axes>"
      ]
     },
     "metadata": {
      "needs_background": "light"
     },
     "output_type": "display_data"
    }
   ],
   "source": [
    "#Line plot\n",
    "df.plot(x=\"Unemployement_rate\" ,y=\"Stock_price_index\",kind=\"line\")"
   ]
  },
  {
   "cell_type": "code",
   "execution_count": 9,
   "id": "1a046dc7",
   "metadata": {},
   "outputs": [
    {
     "data": {
      "text/plain": [
       "<AxesSubplot:xlabel='Unemployement_rate'>"
      ]
     },
     "execution_count": 9,
     "metadata": {},
     "output_type": "execute_result"
    },
    {
     "data": {
      "image/png": "[encoded data removed]",
      "text/plain": [
       "<Figure size 432x288 with 1 Axes>"
      ]
     },
     "metadata": {
      "needs_background": "light"
     },
     "output_type": "display_data"
    }
   ],
   "source": [
    "df.plot(x=\"Unemployement_rate\" ,y=\"Stock_price_index\",kind=\"line\",grid=True)    #linw graph with grid"
   ]
  },
  {
   "cell_type": "code",
   "execution_count": 10,
   "id": "5d5261e1",
   "metadata": {},
   "outputs": [
    {
     "data": {
      "text/plain": [
       "<AxesSubplot:xlabel='Unemployement_rate', ylabel='Stock_price_index'>"
      ]
     },
     "execution_count": 10,
     "metadata": {},
     "output_type": "execute_result"
    },
    {
     "data": {
      "image/png": "[encoded data removed]",
      "text/plain": [
       "<Figure size 432x288 with 1 Axes>"
      ]
     },
     "metadata": {
      "needs_background": "light"
     },
     "output_type": "display_data"
    }
   ],
   "source": [
    "#Scatter Plot\n",
    "df.plot(x=\"Unemployement_rate\" ,y=\"Stock_price_index\",kind=\"scatter\")"
   ]
  },
  {
   "cell_type": "code",
   "execution_count": 11,
   "id": "c13b2b75",
   "metadata": {},
   "outputs": [
    {
     "data": {
      "text/plain": [
       "<AxesSubplot:xlabel='Unemployement_rate'>"
      ]
     },
     "execution_count": 11,
     "metadata": {},
     "output_type": "execute_result"
    },
    {
     "data": {
      "image/png": "[encoded data removed]",
      "text/plain": [
       "<Figure size 432x288 with 1 Axes>"
      ]
     },
     "metadata": {
      "needs_background": "light"
     },
     "output_type": "display_data"
    }
   ],
   "source": [
    "#Bar plot\n",
    "df.plot(x=\"Unemployement_rate\" ,y=\"Stock_price_index\",kind=\"bar\")"
   ]
  },
  {
   "cell_type": "code",
   "execution_count": 25,
   "id": "982ec392",
   "metadata": {},
   "outputs": [],
   "source": [
    "#Bar Plot - Only for 1 Variable\n",
    "data={\"Tasks\":[300,500,700]}"
   ]
  },
  {
   "cell_type": "code",
   "execution_count": 26,
   "id": "3cf59770",
   "metadata": {},
   "outputs": [
    {
     "data": {
      "text/plain": [
       "{'Tasks': [300, 500, 700]}"
      ]
     },
     "execution_count": 26,
     "metadata": {},
     "output_type": "execute_result"
    }
   ],
   "source": [
    "data"
   ]
  },
  {
   "cell_type": "code",
   "execution_count": 27,
   "id": "bc9f1079",
   "metadata": {},
   "outputs": [],
   "source": [
    "df=pd.DataFrame(data)"
   ]
  },
  {
   "cell_type": "code",
   "execution_count": 28,
   "id": "59b87730",
   "metadata": {},
   "outputs": [
    {
     "data": {
      "text/html": [
       "<div>\n",
       "<style scoped>\n",
       "    .dataframe tbody tr th:only-of-type {\n",
       "        vertical-align: middle;\n",
       "    }\n",
       "\n",
       "    .dataframe tbody tr th {\n",
       "        vertical-align: top;\n",
       "    }\n",
       "\n",
       "    .dataframe thead th {\n",
       "        text-align: right;\n",
       "    }\n",
       "</style>\n",
       "<table border=\"1\" class=\"dataframe\">\n",
       "  <thead>\n",
       "    <tr style=\"text-align: right;\">\n",
       "      <th></th>\n",
       "      <th>Tasks</th>\n",
       "    </tr>\n",
       "  </thead>\n",
       "  <tbody>\n",
       "    <tr>\n",
       "      <th>0</th>\n",
       "      <td>300</td>\n",
       "    </tr>\n",
       "    <tr>\n",
       "      <th>1</th>\n",
       "      <td>500</td>\n",
       "    </tr>\n",
       "    <tr>\n",
       "      <th>2</th>\n",
       "      <td>700</td>\n",
       "    </tr>\n",
       "  </tbody>\n",
       "</table>\n",
       "</div>"
      ],
      "text/plain": [
       "   Tasks\n",
       "0    300\n",
       "1    500\n",
       "2    700"
      ]
     },
     "execution_count": 28,
     "metadata": {},
     "output_type": "execute_result"
    }
   ],
   "source": [
    "df"
   ]
  },
  {
   "cell_type": "code",
   "execution_count": 29,
   "id": "d2ff4a4c",
   "metadata": {},
   "outputs": [],
   "source": [
    "df1=pd.DataFrame(data,columns=[\"Tasks\"],index=[\"Tasks_pending\",\"Tasks_progress\",\"Task_Completed\"])"
   ]
  },
  {
   "cell_type": "code",
   "execution_count": 30,
   "id": "1cb2d3a8",
   "metadata": {},
   "outputs": [
    {
     "data": {
      "text/html": [
       "<div>\n",
       "<style scoped>\n",
       "    .dataframe tbody tr th:only-of-type {\n",
       "        vertical-align: middle;\n",
       "    }\n",
       "\n",
       "    .dataframe tbody tr th {\n",
       "        vertical-align: top;\n",
       "    }\n",
       "\n",
       "    .dataframe thead th {\n",
       "        text-align: right;\n",
       "    }\n",
       "</style>\n",
       "<table border=\"1\" class=\"dataframe\">\n",
       "  <thead>\n",
       "    <tr style=\"text-align: right;\">\n",
       "      <th></th>\n",
       "      <th>Tasks</th>\n",
       "    </tr>\n",
       "  </thead>\n",
       "  <tbody>\n",
       "    <tr>\n",
       "      <th>Tasks_pending</th>\n",
       "      <td>300</td>\n",
       "    </tr>\n",
       "    <tr>\n",
       "      <th>Tasks_progress</th>\n",
       "      <td>500</td>\n",
       "    </tr>\n",
       "    <tr>\n",
       "      <th>Task_Completed</th>\n",
       "      <td>700</td>\n",
       "    </tr>\n",
       "  </tbody>\n",
       "</table>\n",
       "</div>"
      ],
      "text/plain": [
       "                Tasks\n",
       "Tasks_pending     300\n",
       "Tasks_progress    500\n",
       "Task_Completed    700"
      ]
     },
     "execution_count": 30,
     "metadata": {},
     "output_type": "execute_result"
    }
   ],
   "source": [
    "df1"
   ]
  },
  {
   "cell_type": "code",
   "execution_count": 31,
   "id": "49e6d72a",
   "metadata": {},
   "outputs": [
    {
     "data": {
      "text/plain": [
       "<AxesSubplot:ylabel='Tasks'>"
      ]
     },
     "execution_count": 31,
     "metadata": {},
     "output_type": "execute_result"
    },
    {
     "data": {
      "image/png": "[encoded data removed]",
      "text/plain": [
       "<Figure size 360x360 with 1 Axes>"
      ]
     },
     "metadata": {},
     "output_type": "display_data"
    }
   ],
   "source": [
    "df1.plot.pie(y='Tasks',figsize=(5,5),autopct='%1.1f%%' ,startangle=60)"
   ]
  }
 ],
 "metadata": {
  "kernelspec": {
   "display_name": "Python 3",
   "language": "python",
   "name": "python3"
  },
  "language_info": {
   "codemirror_mode": {
    "name": "ipython",
    "version": 3
   },
   "file_extension": ".py",
   "mimetype": "text/x-python",
   "name": "python",
   "nbconvert_exporter": "python",
   "pygments_lexer": "ipython3",
   "version": "3.8.8"
  }
 },
 "nbformat": 4,
 "nbformat_minor": 5
}

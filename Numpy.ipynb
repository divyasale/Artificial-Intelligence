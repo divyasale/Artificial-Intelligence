{
 "cells": [
  {
   "cell_type": "markdown",
   "id": "cf981b80",
   "metadata": {},
   "source": [
    "### Numpy\n",
    "\n",
    "    Numpy stands for numerical python\n",
    "    \n",
    "    Fundamental package for numerical computations in Python\n",
    "    \n",
    "    Supports N-dimensional array objects that can be used for processing multidimensional data\n",
    "    \n",
    "    Supports different data-types\n"
   ]
  },
  {
   "cell_type": "markdown",
   "id": "8ed46d1a",
   "metadata": {},
   "source": [
    "### Create array in numpy"
   ]
  },
  {
   "cell_type": "markdown",
   "id": "cb820a8f",
   "metadata": {},
   "source": [
    "### 1.Create array by using np.array( ) method\n",
    "\n",
    "    Ordered collection of elements of basic data types of given length\n",
    "    \n",
    "    Syntax: numpy.array(object)\n"
   ]
  },
  {
   "cell_type": "code",
   "execution_count": 59,
   "id": "273e721c",
   "metadata": {},
   "outputs": [],
   "source": [
    "import numpy as np"
   ]
  },
  {
   "cell_type": "code",
   "execution_count": 2,
   "id": "404346b0",
   "metadata": {},
   "outputs": [
    {
     "name": "stdout",
     "output_type": "stream",
     "text": [
      "[1, 2, 3, 4, 5]\n",
      "<class 'list'>\n"
     ]
    }
   ],
   "source": [
    "L1=[1,2,3,4,5]\n",
    "print(L1)\n",
    "print(type(L1))"
   ]
  },
  {
   "cell_type": "code",
   "execution_count": 3,
   "id": "b1839d0a",
   "metadata": {},
   "outputs": [],
   "source": [
    "a1=np.array(L1)    #List is converted into array"
   ]
  },
  {
   "cell_type": "code",
   "execution_count": 4,
   "id": "dc3811ee",
   "metadata": {},
   "outputs": [
    {
     "name": "stdout",
     "output_type": "stream",
     "text": [
      "[1 2 3 4 5]\n"
     ]
    }
   ],
   "source": [
    "print(a1)"
   ]
  },
  {
   "cell_type": "code",
   "execution_count": 5,
   "id": "aac1c497",
   "metadata": {},
   "outputs": [
    {
     "name": "stdout",
     "output_type": "stream",
     "text": [
      "<class 'numpy.ndarray'>\n"
     ]
    }
   ],
   "source": [
    "print(type(a1))"
   ]
  },
  {
   "cell_type": "code",
   "execution_count": 7,
   "id": "32d24846",
   "metadata": {},
   "outputs": [
    {
     "name": "stdout",
     "output_type": "stream",
     "text": [
      "[44 86 92 24 35 51]\n",
      "<class 'numpy.ndarray'>\n"
     ]
    }
   ],
   "source": [
    "#Create np array\n",
    "a2=np.array([44,86,92,24,35,51])\n",
    "print(a2)\n",
    "print(type(a2))"
   ]
  },
  {
   "cell_type": "markdown",
   "id": "e398a44a",
   "metadata": {},
   "source": [
    "### Numpy statistical functions"
   ]
  },
  {
   "cell_type": "code",
   "execution_count": 14,
   "id": "3b3713e3",
   "metadata": {},
   "outputs": [
    {
     "name": "stdout",
     "output_type": "stream",
     "text": [
      "[45 89 62 12 74 32 56 44 65 99  1 15]\n",
      "<class 'numpy.ndarray'>\n",
      "Max : 99\n",
      "Min : 1\n",
      "Mean : 49.5\n",
      "Median : 50.5\n",
      "ptp : 98\n",
      "Standard deviation : 29.37544325906703\n",
      "Variance: 862.9166666666666\n"
     ]
    }
   ],
   "source": [
    "array = np.array([45,89,62,12,74,32,56,44,65,99,1,15])\n",
    "print(array)\n",
    "print(type(array))\n",
    "\n",
    "max_ele=np.max(array)\n",
    "min_ele=np.min(array)\n",
    "mean=np.mean(array)\n",
    "median=np.median(array)\n",
    "ptp=np.ptp(array)\n",
    "std_dev=np.std(array)\n",
    "variance=np.var(array)\n",
    "average=np.average(array)\n",
    "\n",
    "\n",
    "print(\"Max :\",max_ele)\n",
    "print(\"Min :\",min_ele)\n",
    "print(\"Mean :\",mean)\n",
    "print(\"Median :\",median)\n",
    "print(\"ptp :\",ptp)\n",
    "print(\"Standard deviation :\",std_dev)\n",
    "print(\"Variance:\",variance)"
   ]
  },
  {
   "cell_type": "code",
   "execution_count": 16,
   "id": "85044afc",
   "metadata": {},
   "outputs": [
    {
     "name": "stdout",
     "output_type": "stream",
     "text": [
      "28.303025005991778\n",
      "1.0301575072754254\n"
     ]
    }
   ],
   "source": [
    "arr1=np.array([70,99,85,42,12,32,61])\n",
    "arr2=np.array([20,22,21,23,20,21,22])\n",
    "\n",
    "std_1=np.std(arr1)\n",
    "std_2=np.std(arr2)\n",
    "print(std_1)   #less Similarity in data , more the variance\n",
    "print(std_2)   #More similarity in data , less the variance"
   ]
  },
  {
   "cell_type": "code",
   "execution_count": 67,
   "id": "b0435543",
   "metadata": {},
   "outputs": [],
   "source": [
    "#Percentile\n",
    "array = np.array([45,89,62,12,74,32,56,44,65,99,1,15])\n",
    "Q1=(np.min(array))             #First Quartile gives minimum value\n",
    "Q2=(np.percentile(array,25))   #Second Quartile\n",
    "Q3=(np.percentile(array,50))   # Third quartile gives Median\n",
    "Q4=(np.percentile(array,75))   #Fourth Quartile\n",
    "Q5=(np.max(array))             #Fifth quartile gives maximum value"
   ]
  },
  {
   "cell_type": "code",
   "execution_count": 70,
   "id": "e867fc69",
   "metadata": {},
   "outputs": [
    {
     "name": "stdout",
     "output_type": "stream",
     "text": [
      "1\n",
      "27.75\n",
      "50.5\n",
      "67.25\n",
      "99\n"
     ]
    }
   ],
   "source": [
    "print(Q1)\n",
    "print(Q2)\n",
    "print(Q3)\n",
    "print(Q4)\n",
    "print(Q5)"
   ]
  },
  {
   "cell_type": "code",
   "execution_count": 71,
   "id": "9d3d5e0d",
   "metadata": {},
   "outputs": [],
   "source": [
    "IQR=Q3-Q1"
   ]
  },
  {
   "cell_type": "code",
   "execution_count": 72,
   "id": "f1840bfa",
   "metadata": {},
   "outputs": [
    {
     "data": {
      "text/plain": [
       "49.5"
      ]
     },
     "execution_count": 72,
     "metadata": {},
     "output_type": "execute_result"
    }
   ],
   "source": [
    "IQR  #Inter-Quartile Range(Diffrence between third and first quartile)"
   ]
  },
  {
   "cell_type": "markdown",
   "id": "992dc799",
   "metadata": {},
   "source": [
    "##### Note: Numpy array can handle different categorical entities\n",
    "##### All elements are coerced(converted) to same data type\n",
    "\n"
   ]
  },
  {
   "cell_type": "code",
   "execution_count": 20,
   "id": "6eb347a5",
   "metadata": {},
   "outputs": [
    {
     "name": "stdout",
     "output_type": "stream",
     "text": [
      "['2' '3' '5.6' 'n']\n",
      "<class 'numpy.ndarray'>\n",
      "<class 'numpy.str_'>\n",
      "<class 'numpy.str_'>\n",
      "<class 'numpy.str_'>\n",
      "<class 'numpy.str_'>\n"
     ]
    }
   ],
   "source": [
    "arr1=np.array([2,3,5.6,'n'])\n",
    "print(arr1)\n",
    "print(type(arr1))\n",
    "print(type(arr1[0]))\n",
    "print(type(arr1[1]))\n",
    "print(type(arr1[2]))\n",
    "print(type(arr1[3]))"
   ]
  },
  {
   "cell_type": "markdown",
   "id": "4c19317f",
   "metadata": {},
   "source": [
    "\n",
    "### 2. Generate Array using linespace\n",
    "\n",
    "    numpy.linspace()- returns equally spaced numbers within the given range based on the sample number\n",
    "    \n",
    "##### Syntax:numpy.linspace(start,stop,num)\n",
    "        \n",
    "##### start - start of interval range\n",
    "    \n",
    "##### stop - end of interval range\n",
    "    \n",
    "##### num - number of samples to be generated\n",
    "\n"
   ]
  },
  {
   "cell_type": "code",
   "execution_count": 21,
   "id": "aeaf5d19",
   "metadata": {},
   "outputs": [
    {
     "name": "stdout",
     "output_type": "stream",
     "text": [
      "[ 0. 18. 36. 54. 72. 90.]\n",
      "(array([ 0., 18., 36., 54., 72., 90.]), 18.0)\n"
     ]
    }
   ],
   "source": [
    "arr2=np.linspace(0,90,6)    #In linspace third element is that how many numbers we have to generate\n",
    "print(arr2)\n",
    "arr3=np.linspace(0,90,6,retstep=True)\n",
    "print(arr3)"
   ]
  },
  {
   "cell_type": "code",
   "execution_count": 22,
   "id": "aa5b475b",
   "metadata": {},
   "outputs": [
    {
     "name": "stdout",
     "output_type": "stream",
     "text": [
      "(array([1.        , 1.44444444, 1.88888889, 2.33333333, 2.77777778,\n",
      "       3.22222222, 3.66666667, 4.11111111, 4.55555556, 5.        ]), 0.4444444444444444)\n"
     ]
    }
   ],
   "source": [
    "# Generate an array b with start=1 and stop=5, also return step/diffrence\n",
    "b=np.linspace(start=1,stop=5,num=10,retstep=True)\n",
    "print(b)"
   ]
  },
  {
   "cell_type": "markdown",
   "id": "fd4226c6",
   "metadata": {},
   "source": [
    "\n",
    "### 3. Generate arrays using arange( )\n",
    "\n",
    "    numpy.arange()- returns equally spaced numbers with in the given range based on step size\n",
    "    \n",
    "    Syntax:numpy.arange(start,stop,step)\n",
    "        \n",
    "    start - start of interval range\n",
    "    \n",
    "    stop - end of interval range\n",
    "    \n",
    "    step - step size of interval\n",
    "\n"
   ]
  },
  {
   "cell_type": "code",
   "execution_count": 25,
   "id": "0e68c32a",
   "metadata": {},
   "outputs": [
    {
     "name": "stdout",
     "output_type": "stream",
     "text": [
      "arr4: [0 1 2 3 4 5 6 7 8 9]\n",
      "arr5: [10 11 12 13 14 15 16 17 18 19]\n",
      "arr6: [10 13 16 19]\n"
     ]
    }
   ],
   "source": [
    "#In arange method the third element is that diffrence between one elemrnt and next element\n",
    "arr4=np.arange(10)   # start\n",
    "print(\"arr4:\",arr4)\n",
    "arr5=np.arange(10,20)  # start, stop\n",
    "print(\"arr5:\",arr5)\n",
    "arr6=np.arange(10,20,3)  # start, stop, step\n",
    "print(\"arr6:\",arr6)\n"
   ]
  },
  {
   "cell_type": "code",
   "execution_count": 30,
   "id": "26a026e9",
   "metadata": {},
   "outputs": [
    {
     "name": "stdout",
     "output_type": "stream",
     "text": [
      "[900 890 880 870 860 850 840 830 820 810 800 790 780 770 760 750 740 730\n",
      " 720 710 700 690 680 670 660 650 640 630 620 610 600 590 580 570 560 550\n",
      " 540 530 520 510 500 490 480 470 460 450 440 430 420 410 400 390 380 370\n",
      " 360 350 340 330 320 310 300 290 280 270 260 250 240 230 220 210 200 190\n",
      " 180 170 160 150 140 130 120 110]\n"
     ]
    }
   ],
   "source": [
    "array=np.arange(900,100,-10)\n",
    "print(array)"
   ]
  },
  {
   "cell_type": "markdown",
   "id": "d4da7800",
   "metadata": {},
   "source": [
    "\n",
    "### 4. Generate arrays using ones\n",
    "\n",
    "    numpy.ones()- returns an array of given shape and type filled with ones\n",
    "    \n",
    "    Syntax:numpy.ones(shape,dtype)\n",
    "        \n",
    "    shape - integer or sequence of integers\n",
    "    \n",
    "    dtype - data type (default:float)"
   ]
  },
  {
   "cell_type": "code",
   "execution_count": 37,
   "id": "81fddf6b",
   "metadata": {},
   "outputs": [
    {
     "name": "stdout",
     "output_type": "stream",
     "text": [
      "[1. 1. 1. 1. 1. 1.]\n",
      "1\n"
     ]
    }
   ],
   "source": [
    "arr7=np.ones(6)\n",
    "print(arr7)\n",
    "print(arr7.ndim)"
   ]
  },
  {
   "cell_type": "code",
   "execution_count": 36,
   "id": "fd0cb818",
   "metadata": {},
   "outputs": [
    {
     "name": "stdout",
     "output_type": "stream",
     "text": [
      "[[1. 1. 1. 1.]\n",
      " [1. 1. 1. 1.]\n",
      " [1. 1. 1. 1.]]\n",
      "2\n"
     ]
    }
   ],
   "source": [
    "arr8=np.ones((3,4))\n",
    "print(arr8)\n",
    "print(arr8.ndim)   #Gives Dimentions"
   ]
  },
  {
   "cell_type": "markdown",
   "id": "3f2c06fb",
   "metadata": {},
   "source": [
    "\n",
    "### 5. Generate arrays using zeros\n",
    "\n",
    "    numpy.zeros()- returns an array of given shape and type filled with zeros\n",
    "    \n",
    "    Syntax:numpy.zeros(shape,dtype)\n",
    "        \n",
    "    shape - integer or sequence of integers\n",
    "    \n",
    "    dtype - data type (default:float)"
   ]
  },
  {
   "cell_type": "code",
   "execution_count": 38,
   "id": "911915ce",
   "metadata": {},
   "outputs": [
    {
     "name": "stdout",
     "output_type": "stream",
     "text": [
      "[0. 0. 0. 0. 0.]\n"
     ]
    }
   ],
   "source": [
    "arr8=np.zeros(5)\n",
    "print(arr8)"
   ]
  },
  {
   "cell_type": "code",
   "execution_count": 42,
   "id": "a13dfefa",
   "metadata": {},
   "outputs": [
    {
     "name": "stdout",
     "output_type": "stream",
     "text": [
      "[[0. 0. 0. 0. 0. 0. 0. 0. 0.]\n",
      " [0. 0. 0. 0. 0. 0. 0. 0. 0.]\n",
      " [0. 0. 0. 0. 0. 0. 0. 0. 0.]\n",
      " [0. 0. 0. 0. 0. 0. 0. 0. 0.]\n",
      " [0. 0. 0. 0. 0. 0. 0. 0. 0.]\n",
      " [0. 0. 0. 0. 0. 0. 0. 0. 0.]\n",
      " [0. 0. 0. 0. 0. 0. 0. 0. 0.]\n",
      " [0. 0. 0. 0. 0. 0. 0. 0. 0.]]\n",
      "2\n"
     ]
    }
   ],
   "source": [
    "arr=np.zeros((8,9))\n",
    "print(arr)\n",
    "print(arr.ndim)"
   ]
  },
  {
   "cell_type": "markdown",
   "id": "c9ed19ee",
   "metadata": {},
   "source": [
    "\n",
    "### 6. Generate arrays using random.rand( )\n",
    "\n",
    "    numpy.random.rand()- returns an array of given shape filled with random values\n",
    "    \n",
    "    Syntax:numpy.random.rand(shape)\n",
    "        \n",
    "    shape - integer or sequence of integers"
   ]
  },
  {
   "cell_type": "code",
   "execution_count": 44,
   "id": "15593fb2",
   "metadata": {},
   "outputs": [
    {
     "name": "stdout",
     "output_type": "stream",
     "text": [
      "[0.72458247 0.48397503 0.99890984 0.10300081 0.56675424]\n"
     ]
    }
   ],
   "source": [
    "arr9=np.random.rand(5)\n",
    "print(arr9)"
   ]
  },
  {
   "cell_type": "code",
   "execution_count": 45,
   "id": "76ba7f62",
   "metadata": {},
   "outputs": [
    {
     "name": "stdout",
     "output_type": "stream",
     "text": [
      "[[0.24048238 0.08986259 0.37802576 0.85059336 0.34165407]\n",
      " [0.53747105 0.3081673  0.22170797 0.75457673 0.60297792]\n",
      " [0.4264272  0.45132334 0.94583066 0.0568765  0.05313255]\n",
      " [0.37788061 0.66145063 0.44690919 0.2933784  0.90795287]\n",
      " [0.34325899 0.0966825  0.82334318 0.60593309 0.68694881]\n",
      " [0.63329224 0.56672388 0.81649418 0.13517478 0.57118343]\n",
      " [0.70967931 0.44323338 0.98380828 0.87128117 0.8894368 ]]\n"
     ]
    }
   ],
   "source": [
    "arr10=np.random.rand(7,5)\n",
    "print(arr10)   #if we not specify range of numbers by default it is in range 0 to 1"
   ]
  },
  {
   "cell_type": "code",
   "execution_count": 47,
   "id": "8917e59b",
   "metadata": {},
   "outputs": [
    {
     "name": "stdout",
     "output_type": "stream",
     "text": [
      "arr12:\n",
      " [[68 81  3]\n",
      " [50 93 55]\n",
      " [81 75 26]\n",
      " [18 21  8]\n",
      " [46 16 35]]\n",
      "15\n",
      "(5, 3)\n"
     ]
    }
   ],
   "source": [
    "#Select 5 random integers from the range of 1 to 100\n",
    "\n",
    "arr12=np.random.randint(1,100,(5,3))\n",
    "print(\"arr12:\\n\",arr12)\n",
    "print(arr12.size)\n",
    "print(arr12.shape)"
   ]
  },
  {
   "cell_type": "markdown",
   "id": "17821a88",
   "metadata": {},
   "source": [
    "\n",
    "### 7. Generate arrays using logspace( )\n",
    "\n",
    "    numpy.logspace()- returns equally spaced numbers based on log scale\n",
    "    \n",
    "    Syntax: numpy.logspace(start,stop,num,endpoint,base,dtype)\n",
    "    start, stop,\n",
    "    \n",
    "    num - number of samples to generate (default :50),\n",
    "    \n",
    "    endpoint- if true, stop is the last sample,\n",
    "    \n",
    "    base - base of the log space (default :10.0),\n",
    "    \n",
    "    dtype- type of output array"
   ]
  },
  {
   "cell_type": "code",
   "execution_count": 48,
   "id": "64beb5b8",
   "metadata": {},
   "outputs": [
    {
     "data": {
      "text/plain": [
       "array([1.00000000e+01, 1.77827941e+03, 3.16227766e+05, 5.62341325e+07,\n",
       "       1.00000000e+10])"
      ]
     },
     "execution_count": 48,
     "metadata": {},
     "output_type": "execute_result"
    }
   ],
   "source": [
    "np.logspace(start=1,stop=10,num=5,endpoint=True, base=10)"
   ]
  },
  {
   "cell_type": "markdown",
   "id": "2a28212a",
   "metadata": {},
   "source": [
    "### Advatages of Numpy"
   ]
  },
  {
   "cell_type": "markdown",
   "id": "234d77cc",
   "metadata": {},
   "source": [
    "##### Speed : \n",
    "Array operations are carried out in C and hence the universal functions in numpy are faster than operations carried out on python lists\n",
    "   "
   ]
  },
  {
   "cell_type": "code",
   "execution_count": 49,
   "id": "15c69635",
   "metadata": {},
   "outputs": [],
   "source": [
    "import time"
   ]
  },
  {
   "cell_type": "code",
   "execution_count": 54,
   "id": "919f74cb",
   "metadata": {},
   "outputs": [],
   "source": [
    "py_list=[i for i in range (100000)]"
   ]
  },
  {
   "cell_type": "code",
   "execution_count": 56,
   "id": "77353090",
   "metadata": {},
   "outputs": [
    {
     "name": "stdout",
     "output_type": "stream",
     "text": [
      "0.004687070846557617\n"
     ]
    }
   ],
   "source": [
    "start=time.time()\n",
    "py_list=[i+2 for i in py_list]\n",
    "stop=time.time()\n",
    "\n",
    "print(stop-start)"
   ]
  },
  {
   "cell_type": "code",
   "execution_count": 64,
   "id": "f3b1e09a",
   "metadata": {},
   "outputs": [],
   "source": [
    "#By using numpy\n",
    "py_array=np.array([i for i in range (100000)])"
   ]
  },
  {
   "cell_type": "code",
   "execution_count": 65,
   "id": "90c42e23",
   "metadata": {},
   "outputs": [
    {
     "name": "stdout",
     "output_type": "stream",
     "text": [
      "0.0003044605255126953\n"
     ]
    }
   ],
   "source": [
    "start=time.time()\n",
    "py_array=py_array+2\n",
    "stop=time.time()\n",
    "\n",
    "print(stop-start)   #Requires less time therefore speed is fast"
   ]
  },
  {
   "cell_type": "markdown",
   "id": "c6db4360",
   "metadata": {},
   "source": [
    "##### Storage Space :\n",
    "Note that numpy array uses less bytes for storage than the python list\n"
   ]
  },
  {
   "cell_type": "code",
   "execution_count": 66,
   "id": "5e47489e",
   "metadata": {},
   "outputs": [],
   "source": [
    "import sys"
   ]
  },
  {
   "cell_type": "code",
   "execution_count": 70,
   "id": "50941e50",
   "metadata": {},
   "outputs": [
    {
     "name": "stdout",
     "output_type": "stream",
     "text": [
      "100\n",
      " Total size required to store l1=  2400\n"
     ]
    }
   ],
   "source": [
    "l1=[i for i in range (100)]\n",
    "print(len(l1))\n",
    "\n",
    "print(\" Total size required to store l1= \",sys.getsizeof(l1[0])*len(l1))"
   ]
  },
  {
   "cell_type": "code",
   "execution_count": 71,
   "id": "b4ddc668",
   "metadata": {},
   "outputs": [
    {
     "name": "stdout",
     "output_type": "stream",
     "text": [
      "Total size required to store a1 = 800\n"
     ]
    }
   ],
   "source": [
    "a1=np.arange(100)\n",
    "print(\"Total size required to store a1 =\",a1.itemsize*100)"
   ]
  },
  {
   "cell_type": "markdown",
   "id": "6ab32403",
   "metadata": {},
   "source": [
    "### Operations on Array"
   ]
  },
  {
   "cell_type": "markdown",
   "id": "e5b57a56",
   "metadata": {},
   "source": [
    "##### 1.Check Shape of Array"
   ]
  },
  {
   "cell_type": "code",
   "execution_count": 75,
   "id": "1ea61b98",
   "metadata": {},
   "outputs": [
    {
     "name": "stdout",
     "output_type": "stream",
     "text": [
      "[[1 2 3]\n",
      " [4 5 6]\n",
      " [7 8 9]]\n"
     ]
    }
   ],
   "source": [
    "a=np.array([[1,2,3],[4,5,6],[7,8,9]])\n",
    "print(a)"
   ]
  },
  {
   "cell_type": "code",
   "execution_count": 76,
   "id": "821f230e",
   "metadata": {},
   "outputs": [
    {
     "name": "stdout",
     "output_type": "stream",
     "text": [
      "(3, 3)\n"
     ]
    }
   ],
   "source": [
    "print(a.shape)"
   ]
  },
  {
   "cell_type": "code",
   "execution_count": 77,
   "id": "d9f5f8f8",
   "metadata": {},
   "outputs": [
    {
     "name": "stdout",
     "output_type": "stream",
     "text": [
      "9\n"
     ]
    }
   ],
   "source": [
    "print(a.size)"
   ]
  },
  {
   "cell_type": "code",
   "execution_count": 78,
   "id": "ed9a1849",
   "metadata": {},
   "outputs": [
    {
     "data": {
      "text/plain": [
       "array([12, 15, 18])"
      ]
     },
     "execution_count": 78,
     "metadata": {},
     "output_type": "execute_result"
    }
   ],
   "source": [
    "np.sum(a,axis=0)  #Sum of columns"
   ]
  },
  {
   "cell_type": "code",
   "execution_count": 79,
   "id": "37848c6f",
   "metadata": {},
   "outputs": [
    {
     "data": {
      "text/plain": [
       "array([ 6, 15, 24])"
      ]
     },
     "execution_count": 79,
     "metadata": {},
     "output_type": "execute_result"
    }
   ],
   "source": [
    "np.sum(a,axis=1) #Sum of rows"
   ]
  },
  {
   "cell_type": "code",
   "execution_count": 80,
   "id": "52768274",
   "metadata": {},
   "outputs": [
    {
     "data": {
      "text/plain": [
       "4950"
      ]
     },
     "execution_count": 80,
     "metadata": {},
     "output_type": "execute_result"
    }
   ],
   "source": [
    "np.sum(a1)"
   ]
  },
  {
   "cell_type": "markdown",
   "id": "dae1dbc6",
   "metadata": {},
   "source": [
    "\n",
    "##### 2. Reshaping Size of Array\n",
    "\n",
    "    reshape()- recasts an array to new shape without changing it’s data\n",
    "\n"
   ]
  },
  {
   "cell_type": "code",
   "execution_count": 89,
   "id": "47dd2317",
   "metadata": {},
   "outputs": [
    {
     "name": "stdout",
     "output_type": "stream",
     "text": [
      "[[1 2 3 4]\n",
      " [6 7 8 9]]\n"
     ]
    }
   ],
   "source": [
    "a=np.array([[1,2,3,4],[6,7,8,9]])\n",
    "print(a)"
   ]
  },
  {
   "cell_type": "code",
   "execution_count": 90,
   "id": "ea089a01",
   "metadata": {},
   "outputs": [
    {
     "name": "stdout",
     "output_type": "stream",
     "text": [
      "[[1 2]\n",
      " [3 4]\n",
      " [6 7]\n",
      " [8 9]]\n",
      "(4, 2)\n"
     ]
    }
   ],
   "source": [
    "b = a.reshape(4,2)\n",
    "print(b)\n",
    "print(b.shape)"
   ]
  },
  {
   "cell_type": "code",
   "execution_count": 91,
   "id": "98b1ade0",
   "metadata": {},
   "outputs": [
    {
     "name": "stdout",
     "output_type": "stream",
     "text": [
      "[[51 52 53]\n",
      " [54 55 56]\n",
      " [57 58 59]\n",
      " [60 61 62]\n",
      " [63 64 65]\n",
      " [66 67 68]]\n"
     ]
    }
   ],
   "source": [
    "c=np.arange(51,69).reshape(6,3)\n",
    "print(c)"
   ]
  },
  {
   "cell_type": "markdown",
   "id": "9b715d5a",
   "metadata": {},
   "source": [
    "##### 3. Accessing Elements"
   ]
  },
  {
   "cell_type": "code",
   "execution_count": 96,
   "id": "d411c0b3",
   "metadata": {},
   "outputs": [
    {
     "name": "stdout",
     "output_type": "stream",
     "text": [
      "53\n",
      "55\n"
     ]
    }
   ],
   "source": [
    "# print 53 in c array\n",
    "print(c[0][2])\n",
    "# print 55 in c array\n",
    "print(c[1,1])"
   ]
  },
  {
   "cell_type": "code",
   "execution_count": 97,
   "id": "27fba548",
   "metadata": {},
   "outputs": [
    {
     "name": "stdout",
     "output_type": "stream",
     "text": [
      "[[1 2 3]\n",
      " [4 5 6]\n",
      " [7 8 9]]\n",
      "\n",
      "[[4 5 6]\n",
      " [7 8 9]]\n",
      "\n",
      "[[1 3]\n",
      " [4 6]\n",
      " [7 9]]\n"
     ]
    }
   ],
   "source": [
    "a=np.array([[1,2,3],[4,5,6],[7,8,9]])\n",
    "print(a)\n",
    "# Access 2nd and 3rd row from a\n",
    "print()\n",
    "print(a[1:3])\n",
    "# Access 1st and 3rd column from a\n",
    "print()\n",
    "print(a[:,(0,2)])"
   ]
  },
  {
   "cell_type": "code",
   "execution_count": 98,
   "id": "648e9e30",
   "metadata": {},
   "outputs": [
    {
     "name": "stdout",
     "output_type": "stream",
     "text": [
      "[[1 2 3]\n",
      " [4 5 6]\n",
      " [7 8 9]]\n",
      "\n",
      "[[11 12 13]\n",
      " [14 15 16]\n",
      " [17 18 19]]\n"
     ]
    }
   ],
   "source": [
    "#Take two arrays for further operations\n",
    "a1=np.array([[1,2,3],[4,5,6],[7,8,9]])\n",
    "a2=np.array([[11,12,13],[14,15,16],[17,18,19]])\n",
    "print(a1)\n",
    "print()\n",
    "print(a2)"
   ]
  },
  {
   "cell_type": "markdown",
   "id": "2e9ac35b",
   "metadata": {},
   "source": [
    "##### 4. Numpy Addition"
   ]
  },
  {
   "cell_type": "code",
   "execution_count": 101,
   "id": "38913504",
   "metadata": {},
   "outputs": [
    {
     "name": "stdout",
     "output_type": "stream",
     "text": [
      "a+b = \n",
      " [[12 14 16]\n",
      " [18 20 22]\n",
      " [24 26 28]]\n"
     ]
    }
   ],
   "source": [
    "print(\"a+b = \\n\",np.add(a1,a2))"
   ]
  },
  {
   "cell_type": "markdown",
   "id": "5b263496",
   "metadata": {},
   "source": [
    "##### 5. Numpy Substraction"
   ]
  },
  {
   "cell_type": "code",
   "execution_count": 103,
   "id": "b895fb46",
   "metadata": {},
   "outputs": [
    {
     "name": "stdout",
     "output_type": "stream",
     "text": [
      "a-b = \n",
      " [[-10 -10 -10]\n",
      " [-10 -10 -10]\n",
      " [-10 -10 -10]]\n"
     ]
    }
   ],
   "source": [
    "print(\"a-b = \\n\",np.subtract(a1,a2))"
   ]
  },
  {
   "cell_type": "markdown",
   "id": "0f32ea29",
   "metadata": {},
   "source": [
    "##### 6. Numpy Multiplication"
   ]
  },
  {
   "cell_type": "code",
   "execution_count": 104,
   "id": "680dc332",
   "metadata": {},
   "outputs": [
    {
     "name": "stdout",
     "output_type": "stream",
     "text": [
      "a*b = \n",
      " [[ 11  24  39]\n",
      " [ 56  75  96]\n",
      " [119 144 171]]\n"
     ]
    }
   ],
   "source": [
    "print(\"a*b = \\n\",np.multiply(a1,a2))"
   ]
  },
  {
   "cell_type": "markdown",
   "id": "51ee658e",
   "metadata": {},
   "source": [
    "##### 7. Numpy Division"
   ]
  },
  {
   "cell_type": "code",
   "execution_count": 107,
   "id": "c8c6888d",
   "metadata": {},
   "outputs": [
    {
     "name": "stdout",
     "output_type": "stream",
     "text": [
      "a/b = \n",
      " [[11.          6.          4.33333333]\n",
      " [ 3.5         3.          2.66666667]\n",
      " [ 2.42857143  2.25        2.11111111]]\n"
     ]
    }
   ],
   "source": [
    "print(\"a/b = \\n\",np.divide(a2,a1))"
   ]
  },
  {
   "cell_type": "markdown",
   "id": "245d443a",
   "metadata": {},
   "source": [
    "##### 8. Remainder"
   ]
  },
  {
   "cell_type": "code",
   "execution_count": 108,
   "id": "78450097",
   "metadata": {},
   "outputs": [
    {
     "name": "stdout",
     "output_type": "stream",
     "text": [
      "a%b=\n",
      " [[0 0 1]\n",
      " [2 0 4]\n",
      " [3 2 1]]\n"
     ]
    }
   ],
   "source": [
    "print(\"a%b=\\n\",np.remainder(a2,a1))"
   ]
  },
  {
   "cell_type": "markdown",
   "id": "82108008",
   "metadata": {},
   "source": [
    "##### 9. Numpy Transpose"
   ]
  },
  {
   "cell_type": "code",
   "execution_count": 109,
   "id": "c68eb69e",
   "metadata": {},
   "outputs": [
    {
     "name": "stdout",
     "output_type": "stream",
     "text": [
      "[[1 2 3]\n",
      " [4 5 6]\n",
      " [7 8 9]]\n"
     ]
    }
   ],
   "source": [
    "print(a1)"
   ]
  },
  {
   "cell_type": "code",
   "execution_count": 111,
   "id": "8c657449",
   "metadata": {},
   "outputs": [
    {
     "name": "stdout",
     "output_type": "stream",
     "text": [
      "[[1 4 7]\n",
      " [2 5 8]\n",
      " [3 6 9]]\n"
     ]
    }
   ],
   "source": [
    "print(a.transpose())"
   ]
  },
  {
   "cell_type": "code",
   "execution_count": 115,
   "id": "49a1fb7f",
   "metadata": {},
   "outputs": [
    {
     "name": "stdout",
     "output_type": "stream",
     "text": [
      "[[1 4 7]\n",
      " [2 5 8]\n",
      " [3 6 9]]\n"
     ]
    }
   ],
   "source": [
    "print(np.transpose(a1))"
   ]
  },
  {
   "cell_type": "markdown",
   "id": "b957dc72",
   "metadata": {},
   "source": [
    "##### 10. Numpy Append"
   ]
  },
  {
   "cell_type": "code",
   "execution_count": 117,
   "id": "fa67a4b8",
   "metadata": {},
   "outputs": [
    {
     "name": "stdout",
     "output_type": "stream",
     "text": [
      "[[1 2 3]\n",
      " [4 5 6]\n",
      " [7 8 9]]\n",
      "\n",
      "[[ 1  2  3]\n",
      " [ 4  5  6]\n",
      " [ 7  8  9]\n",
      " [10 11 12]]\n"
     ]
    }
   ],
   "source": [
    "print(a)\n",
    "print()\n",
    "print(np.append(a,[[10,11,12]],axis=0)) #Elements are added in columns"
   ]
  },
  {
   "cell_type": "code",
   "execution_count": 119,
   "id": "fde280e8",
   "metadata": {},
   "outputs": [
    {
     "name": "stdout",
     "output_type": "stream",
     "text": [
      "[[11 12 13]\n",
      " [14 15 16]\n",
      " [17 18 19]]\n",
      "[[13]\n",
      " [14]\n",
      " [15]]\n",
      "[[11 12 13 13]\n",
      " [14 15 16 14]\n",
      " [17 18 19 15]]\n"
     ]
    }
   ],
   "source": [
    "print(a2)\n",
    "# To append in rows, transpose horizontal array to vertical array\n",
    "c=np.array([[13,14,15]])\n",
    "c=np.transpose(c)\n",
    "print(c)\n",
    "d=np.append(a2,c,axis=1) #Elements are added in rows\n",
    "print(d)"
   ]
  },
  {
   "cell_type": "markdown",
   "id": "3325ebdf",
   "metadata": {},
   "source": [
    "##### 11. Numpy Insert"
   ]
  },
  {
   "cell_type": "code",
   "execution_count": 120,
   "id": "defe43cc",
   "metadata": {},
   "outputs": [
    {
     "name": "stdout",
     "output_type": "stream",
     "text": [
      "a=\n",
      " [[1 2 3]\n",
      " [4 5 6]\n",
      " [7 8 9]]\n",
      "a_ins=\n",
      " [[ 1  2  3]\n",
      " [11 12 13]\n",
      " [ 4  5  6]\n",
      " [ 7  8  9]]\n"
     ]
    }
   ],
   "source": [
    "a=np.array([[1,2,3],[4,5,6],[7,8,9]])\n",
    "print(\"a=\\n\",a)\n",
    "a_ins=np.insert(a,1,[[11,12,13]],axis=0)\n",
    "print(\"a_ins=\\n\",a_ins)"
   ]
  },
  {
   "cell_type": "markdown",
   "id": "ff6f1d44",
   "metadata": {},
   "source": [
    "##### 12. Numpy Delete"
   ]
  },
  {
   "cell_type": "code",
   "execution_count": 121,
   "id": "9d2c9e52",
   "metadata": {},
   "outputs": [
    {
     "name": "stdout",
     "output_type": "stream",
     "text": [
      "a_ins=\n",
      " [[ 1  2  3]\n",
      " [11 12 13]\n",
      " [ 4  5  6]\n",
      " [ 7  8  9]]\n"
     ]
    }
   ],
   "source": [
    "print(\"a_ins=\\n\",a_ins)\n"
   ]
  },
  {
   "cell_type": "code",
   "execution_count": 122,
   "id": "53a9597d",
   "metadata": {},
   "outputs": [
    {
     "name": "stdout",
     "output_type": "stream",
     "text": [
      "[[1 2 3]\n",
      " [4 5 6]\n",
      " [7 8 9]]\n"
     ]
    }
   ],
   "source": [
    "a_del=np.delete(a_ins,1,axis=0)\n",
    "print(a_del)"
   ]
  },
  {
   "cell_type": "markdown",
   "id": "c8498939",
   "metadata": {},
   "source": [
    "##### How to create scalar in numpy"
   ]
  },
  {
   "cell_type": "code",
   "execution_count": 127,
   "id": "b38712d8",
   "metadata": {},
   "outputs": [
    {
     "name": "stdout",
     "output_type": "stream",
     "text": [
      "[8]\n",
      "<class 'numpy.ndarray'>\n",
      "(1,)\n",
      "1\n"
     ]
    }
   ],
   "source": [
    "import numpy as np\n",
    "a1=np.array([8])\n",
    "print(a1)\n",
    "print(type(a1))\n",
    "print(a1.shape)\n",
    "print(a1.size)    "
   ]
  },
  {
   "cell_type": "code",
   "execution_count": 130,
   "id": "ea421907",
   "metadata": {},
   "outputs": [
    {
     "name": "stderr",
     "output_type": "stream",
     "text": [
      "<ipython-input-130-f5645744cc6a>:1: DeprecationWarning: np.asscalar(a) is deprecated since NumPy v1.16, use a.item() instead\n",
      "  scalar_a1=np.asscalar(a1)\n"
     ]
    }
   ],
   "source": [
    "scalar_a1=np.asscalar(a1)"
   ]
  },
  {
   "cell_type": "code",
   "execution_count": 131,
   "id": "975c1a19",
   "metadata": {},
   "outputs": [
    {
     "name": "stdout",
     "output_type": "stream",
     "text": [
      "8\n"
     ]
    }
   ],
   "source": [
    "print(scalar_a1)"
   ]
  },
  {
   "cell_type": "code",
   "execution_count": 132,
   "id": "04c755e8",
   "metadata": {},
   "outputs": [
    {
     "name": "stdout",
     "output_type": "stream",
     "text": [
      "<class 'int'>\n"
     ]
    }
   ],
   "source": [
    "print(type(scalar_a1))"
   ]
  },
  {
   "cell_type": "markdown",
   "id": "3703771c",
   "metadata": {},
   "source": [
    "##### How to create vector in numpy"
   ]
  },
  {
   "cell_type": "code",
   "execution_count": 3,
   "id": "679d2552",
   "metadata": {},
   "outputs": [],
   "source": [
    "import numpy as np\n",
    "l1=([1,2,3,4])\n",
    "l2=([12],\n",
    "   [13],\n",
    "   [14])"
   ]
  },
  {
   "cell_type": "code",
   "execution_count": 4,
   "id": "4636fa3f",
   "metadata": {},
   "outputs": [],
   "source": [
    "v1=np.array(l1)\n",
    "v2=np.array(l2)"
   ]
  },
  {
   "cell_type": "code",
   "execution_count": 6,
   "id": "27704c2e",
   "metadata": {},
   "outputs": [
    {
     "data": {
      "text/plain": [
       "array([1, 2, 3, 4])"
      ]
     },
     "execution_count": 6,
     "metadata": {},
     "output_type": "execute_result"
    }
   ],
   "source": [
    "v1"
   ]
  },
  {
   "cell_type": "code",
   "execution_count": 7,
   "id": "4807e6af",
   "metadata": {},
   "outputs": [
    {
     "data": {
      "text/plain": [
       "array([[12],\n",
       "       [13],\n",
       "       [14]])"
      ]
     },
     "execution_count": 7,
     "metadata": {},
     "output_type": "execute_result"
    }
   ],
   "source": [
    "v2"
   ]
  },
  {
   "cell_type": "markdown",
   "id": "bce829b7",
   "metadata": {},
   "source": [
    "### Matrices"
   ]
  },
  {
   "cell_type": "markdown",
   "id": "7da4ded5",
   "metadata": {},
   "source": [
    "Rectangular arrangement of numbers in rows and columns\n",
    "\n",
    "Rows run horizontally and columns run vertically\n",
    "\n"
   ]
  },
  {
   "cell_type": "markdown",
   "id": "bd0dd8ed",
   "metadata": {},
   "source": [
    "##### How to create and work with matrix"
   ]
  },
  {
   "cell_type": "markdown",
   "id": "d0e5bde2",
   "metadata": {},
   "source": [
    "matrix()- returns a matrix from an array type object or string of data\n",
    "\n",
    "Syntax:numpy.matrix(data)\n",
    "\n"
   ]
  },
  {
   "cell_type": "code",
   "execution_count": 10,
   "id": "bc6ff641",
   "metadata": {},
   "outputs": [],
   "source": [
    "m1=np.matrix('1,2;3,4')"
   ]
  },
  {
   "cell_type": "code",
   "execution_count": 11,
   "id": "ba92baec",
   "metadata": {},
   "outputs": [
    {
     "data": {
      "text/plain": [
       "matrix([[1, 2],\n",
       "        [3, 4]])"
      ]
     },
     "execution_count": 11,
     "metadata": {},
     "output_type": "execute_result"
    }
   ],
   "source": [
    "m1"
   ]
  },
  {
   "cell_type": "code",
   "execution_count": 12,
   "id": "c67754e4",
   "metadata": {},
   "outputs": [
    {
     "data": {
      "text/plain": [
       "numpy.matrix"
      ]
     },
     "execution_count": 12,
     "metadata": {},
     "output_type": "execute_result"
    }
   ],
   "source": [
    "type(m1)"
   ]
  },
  {
   "cell_type": "code",
   "execution_count": 13,
   "id": "98136289",
   "metadata": {},
   "outputs": [
    {
     "name": "stdout",
     "output_type": "stream",
     "text": [
      "4\n"
     ]
    }
   ],
   "source": [
    "print(m1[1,1])  #Access elements"
   ]
  },
  {
   "cell_type": "markdown",
   "id": "e5a8d6be",
   "metadata": {},
   "source": [
    "##### Matrix Addition"
   ]
  },
  {
   "cell_type": "code",
   "execution_count": 21,
   "id": "4d7a5543",
   "metadata": {},
   "outputs": [],
   "source": [
    "m1=np.matrix(\"1,2,3;4,5,6;7,8,9\")\n",
    "m2=np.matrix(\"11,12,13;14,15,16;17,18,19\")"
   ]
  },
  {
   "cell_type": "code",
   "execution_count": 22,
   "id": "83347328",
   "metadata": {},
   "outputs": [
    {
     "data": {
      "text/plain": [
       "matrix([[1, 2, 3],\n",
       "        [4, 5, 6],\n",
       "        [7, 8, 9]])"
      ]
     },
     "execution_count": 22,
     "metadata": {},
     "output_type": "execute_result"
    }
   ],
   "source": [
    "m1"
   ]
  },
  {
   "cell_type": "code",
   "execution_count": 23,
   "id": "a42429cc",
   "metadata": {},
   "outputs": [
    {
     "data": {
      "text/plain": [
       "matrix([[11, 12, 13],\n",
       "        [14, 15, 16],\n",
       "        [17, 18, 19]])"
      ]
     },
     "execution_count": 23,
     "metadata": {},
     "output_type": "execute_result"
    }
   ],
   "source": [
    "m2"
   ]
  },
  {
   "cell_type": "markdown",
   "id": "0674c3bd",
   "metadata": {},
   "source": [
    "##### Matrix Addition\n",
    "\n",
    "    numpy.add(matrix_1,matrix_2)\n",
    "\n"
   ]
  },
  {
   "cell_type": "code",
   "execution_count": 24,
   "id": "18e58696",
   "metadata": {},
   "outputs": [
    {
     "name": "stdout",
     "output_type": "stream",
     "text": [
      "[[12 14 16]\n",
      " [18 20 22]\n",
      " [24 26 28]]\n"
     ]
    }
   ],
   "source": [
    "print(np.add(m1,m2))"
   ]
  },
  {
   "cell_type": "markdown",
   "id": "88df9f02",
   "metadata": {},
   "source": [
    "##### Matrix Subtraction\n",
    "\n",
    "    numpy.subtract(m1,m2)\n",
    "\n"
   ]
  },
  {
   "cell_type": "code",
   "execution_count": 27,
   "id": "489d1c65",
   "metadata": {},
   "outputs": [
    {
     "name": "stdout",
     "output_type": "stream",
     "text": [
      "[[10 10 10]\n",
      " [10 10 10]\n",
      " [10 10 10]]\n"
     ]
    }
   ],
   "source": [
    "print(np.subtract(m2,m1))"
   ]
  },
  {
   "cell_type": "markdown",
   "id": "6275343d",
   "metadata": {},
   "source": [
    "##### Matrix Multiplication\n",
    " Two ways = 1)numpy.dot(matrix1,matrix2)\n",
    "    \n",
    "            2)numpy.multiply(matrix1,matrix2)"
   ]
  },
  {
   "cell_type": "code",
   "execution_count": 30,
   "id": "ec0a31ac",
   "metadata": {},
   "outputs": [
    {
     "data": {
      "text/plain": [
       "matrix([[1, 2, 3],\n",
       "        [4, 5, 6],\n",
       "        [7, 8, 9]])"
      ]
     },
     "execution_count": 30,
     "metadata": {},
     "output_type": "execute_result"
    }
   ],
   "source": [
    "m1"
   ]
  },
  {
   "cell_type": "code",
   "execution_count": 31,
   "id": "ea21c2e6",
   "metadata": {},
   "outputs": [
    {
     "data": {
      "text/plain": [
       "matrix([[11, 12, 13],\n",
       "        [14, 15, 16],\n",
       "        [17, 18, 19]])"
      ]
     },
     "execution_count": 31,
     "metadata": {},
     "output_type": "execute_result"
    }
   ],
   "source": [
    "m2"
   ]
  },
  {
   "cell_type": "code",
   "execution_count": 28,
   "id": "dca12e91",
   "metadata": {},
   "outputs": [
    {
     "name": "stdout",
     "output_type": "stream",
     "text": [
      "[[ 90  96 102]\n",
      " [216 231 246]\n",
      " [342 366 390]]\n"
     ]
    }
   ],
   "source": [
    "print(np.dot(m1,m2))"
   ]
  },
  {
   "cell_type": "code",
   "execution_count": 29,
   "id": "b1d02a19",
   "metadata": {},
   "outputs": [
    {
     "name": "stdout",
     "output_type": "stream",
     "text": [
      "[[ 11  24  39]\n",
      " [ 56  75  96]\n",
      " [119 144 171]]\n"
     ]
    }
   ],
   "source": [
    "# Matrix multiplication element wise\n",
    "print(np.multiply(m1,m2))"
   ]
  },
  {
   "cell_type": "markdown",
   "id": "ea2dd1ec",
   "metadata": {},
   "source": [
    "##### Matrix Division\n",
    "\n",
    "    numpy.divide(matrix_1,matrix_2)\n",
    "\n"
   ]
  },
  {
   "cell_type": "code",
   "execution_count": 33,
   "id": "b02a5e4f",
   "metadata": {},
   "outputs": [
    {
     "name": "stdout",
     "output_type": "stream",
     "text": [
      "[[11.          6.          4.33333333]\n",
      " [ 3.5         3.          2.66666667]\n",
      " [ 2.42857143  2.25        2.11111111]]\n"
     ]
    }
   ],
   "source": [
    "print(np.divide(m2,m1))"
   ]
  },
  {
   "cell_type": "markdown",
   "id": "c7fed125",
   "metadata": {},
   "source": [
    "### Linear Algeabra : numpy.linalg"
   ]
  },
  {
   "cell_type": "markdown",
   "id": "dc8f8311",
   "metadata": {},
   "source": [
    "##### Determinent of Matrix"
   ]
  },
  {
   "cell_type": "code",
   "execution_count": 38,
   "id": "7671a24a",
   "metadata": {},
   "outputs": [
    {
     "data": {
      "text/plain": [
       "6.66133814775094e-16"
      ]
     },
     "execution_count": 38,
     "metadata": {},
     "output_type": "execute_result"
    }
   ],
   "source": [
    "det_1=np.linalg.det(m1)\n",
    "det_1"
   ]
  },
  {
   "cell_type": "code",
   "execution_count": 39,
   "id": "9199e321",
   "metadata": {},
   "outputs": [
    {
     "data": {
      "text/plain": [
       "-1.5987211554602137e-14"
      ]
     },
     "execution_count": 39,
     "metadata": {},
     "output_type": "execute_result"
    }
   ],
   "source": [
    "det_2=np.linalg.det(m2)\n",
    "det_2"
   ]
  },
  {
   "cell_type": "markdown",
   "id": "61249404",
   "metadata": {},
   "source": [
    "##### Rank of Matrix"
   ]
  },
  {
   "cell_type": "code",
   "execution_count": 37,
   "id": "69930e7f",
   "metadata": {},
   "outputs": [
    {
     "data": {
      "text/plain": [
       "2"
      ]
     },
     "execution_count": 37,
     "metadata": {},
     "output_type": "execute_result"
    }
   ],
   "source": [
    "rank_m1=np.linalg.matrix_rank(m1)\n",
    "rank_m1"
   ]
  },
  {
   "cell_type": "markdown",
   "id": "3569113c",
   "metadata": {},
   "source": [
    "##### Inverse of Matrix"
   ]
  },
  {
   "cell_type": "code",
   "execution_count": 40,
   "id": "7238c7f0",
   "metadata": {},
   "outputs": [
    {
     "data": {
      "text/plain": [
       "matrix([[-4.50359963e+15,  9.00719925e+15, -4.50359963e+15],\n",
       "        [ 9.00719925e+15, -1.80143985e+16,  9.00719925e+15],\n",
       "        [-4.50359963e+15,  9.00719925e+15, -4.50359963e+15]])"
      ]
     },
     "execution_count": 40,
     "metadata": {},
     "output_type": "execute_result"
    }
   ],
   "source": [
    "inv_m1=np.linalg.inv(m1)\n",
    "inv_m1\n",
    "# Inverse possible if matrix is non singular(Determinent Non-Zero)\n"
   ]
  },
  {
   "cell_type": "markdown",
   "id": "6a6733ed",
   "metadata": {},
   "source": [
    "### Systems of Linear Equations"
   ]
  },
  {
   "cell_type": "code",
   "execution_count": 42,
   "id": "d1ed3f41",
   "metadata": {},
   "outputs": [],
   "source": [
    "#Take two equations: 2x-y=-1 and 3x+2y=9\n",
    "#Lets solve these equations"
   ]
  },
  {
   "cell_type": "code",
   "execution_count": 51,
   "id": "dde5ddf6",
   "metadata": {},
   "outputs": [],
   "source": [
    "A=np.matrix('2,-1;3,2')\n",
    "B=np.matrix('-1;9')"
   ]
  },
  {
   "cell_type": "code",
   "execution_count": 52,
   "id": "14181814",
   "metadata": {},
   "outputs": [
    {
     "data": {
      "text/plain": [
       "matrix([[ 2, -1],\n",
       "        [ 3,  2]])"
      ]
     },
     "execution_count": 52,
     "metadata": {},
     "output_type": "execute_result"
    }
   ],
   "source": [
    "A"
   ]
  },
  {
   "cell_type": "code",
   "execution_count": 53,
   "id": "a1326ad1",
   "metadata": {},
   "outputs": [
    {
     "data": {
      "text/plain": [
       "matrix([[-1],\n",
       "        [ 9]])"
      ]
     },
     "execution_count": 53,
     "metadata": {},
     "output_type": "execute_result"
    }
   ],
   "source": [
    "B"
   ]
  },
  {
   "cell_type": "code",
   "execution_count": 54,
   "id": "63dd1dfd",
   "metadata": {},
   "outputs": [],
   "source": [
    "Result=np.linalg.solve(A,B)"
   ]
  },
  {
   "cell_type": "code",
   "execution_count": 55,
   "id": "c405e216",
   "metadata": {},
   "outputs": [
    {
     "data": {
      "text/plain": [
       "matrix([[1.],\n",
       "        [3.]])"
      ]
     },
     "execution_count": 55,
     "metadata": {},
     "output_type": "execute_result"
    }
   ],
   "source": [
    "Result"
   ]
  },
  {
   "cell_type": "code",
   "execution_count": 57,
   "id": "c5b64138",
   "metadata": {},
   "outputs": [],
   "source": [
    "#Lets take another example and Find Values of x,y,z\n",
    "#3x+y+2z=2 , 3x+2y+5z=-1 , 6x+7y+8z=3\n",
    "C=np.matrix(\"3,1,2;3,2,5;6,7,8\")\n",
    "D=np.matrix(\"2;-1;3\")"
   ]
  },
  {
   "cell_type": "code",
   "execution_count": 59,
   "id": "c43c6485",
   "metadata": {},
   "outputs": [
    {
     "data": {
      "text/plain": [
       "matrix([[3, 1, 2],\n",
       "        [3, 2, 5],\n",
       "        [6, 7, 8]])"
      ]
     },
     "execution_count": 59,
     "metadata": {},
     "output_type": "execute_result"
    }
   ],
   "source": [
    "C"
   ]
  },
  {
   "cell_type": "code",
   "execution_count": 60,
   "id": "a64e84d3",
   "metadata": {},
   "outputs": [
    {
     "data": {
      "text/plain": [
       "matrix([[ 2],\n",
       "        [-1],\n",
       "        [ 3]])"
      ]
     },
     "execution_count": 60,
     "metadata": {},
     "output_type": "execute_result"
    }
   ],
   "source": [
    "D"
   ]
  },
  {
   "cell_type": "code",
   "execution_count": 61,
   "id": "ed9ce7a6",
   "metadata": {},
   "outputs": [],
   "source": [
    "Result=np.linalg.solve(C,D)"
   ]
  },
  {
   "cell_type": "code",
   "execution_count": 63,
   "id": "8644b50f",
   "metadata": {},
   "outputs": [
    {
     "name": "stdout",
     "output_type": "stream",
     "text": [
      "The Value of x,y,z are :\n",
      " [[ 1.24242424]\n",
      " [ 0.81818182]\n",
      " [-1.27272727]] Respectively\n"
     ]
    }
   ],
   "source": [
    "print(\"The Value of x,y,z are :\\n\" ,Result,\"Respectively\")"
   ]
  },
  {
   "cell_type": "markdown",
   "id": "a3d1e543",
   "metadata": {},
   "source": [
    "### Array broadcasting in Numpy"
   ]
  },
  {
   "cell_type": "code",
   "execution_count": 73,
   "id": "b2fbd672",
   "metadata": {},
   "outputs": [],
   "source": [
    "array1=np.array([11,22,33])"
   ]
  },
  {
   "cell_type": "code",
   "execution_count": 74,
   "id": "3c4825bf",
   "metadata": {},
   "outputs": [],
   "source": [
    "array2=np.array([5])"
   ]
  },
  {
   "cell_type": "code",
   "execution_count": 77,
   "id": "5c05984b",
   "metadata": {},
   "outputs": [
    {
     "name": "stdout",
     "output_type": "stream",
     "text": [
      "[11 22 33]\n",
      "3\n"
     ]
    }
   ],
   "source": [
    "print(array1)\n",
    "print(len(array1))"
   ]
  },
  {
   "cell_type": "code",
   "execution_count": 78,
   "id": "6235333b",
   "metadata": {},
   "outputs": [
    {
     "name": "stdout",
     "output_type": "stream",
     "text": [
      "[5]\n",
      "1\n"
     ]
    }
   ],
   "source": [
    "print(array2)\n",
    "print(len(array2))"
   ]
  },
  {
   "cell_type": "code",
   "execution_count": 88,
   "id": "63254482",
   "metadata": {},
   "outputs": [
    {
     "data": {
      "text/plain": [
       "array([ 55, 110, 165])"
      ]
     },
     "execution_count": 88,
     "metadata": {},
     "output_type": "execute_result"
    }
   ],
   "source": [
    "array3=array1*array2\n",
    "#     11 22 33  * 5 5 5    ->Broadcasting of array(Array2 is broadcast array)\n",
    "array3"
   ]
  },
  {
   "cell_type": "code",
   "execution_count": 93,
   "id": "ecba48ad",
   "metadata": {},
   "outputs": [
    {
     "name": "stdout",
     "output_type": "stream",
     "text": [
      "3\n",
      "<class 'numpy.ndarray'>\n",
      "[ 55 110 165]\n"
     ]
    }
   ],
   "source": [
    "print(len(array3))\n",
    "print(type(array3))\n",
    "print(array3)"
   ]
  },
  {
   "cell_type": "markdown",
   "id": "89801eee",
   "metadata": {},
   "source": [
    "###### Numpy Sorting Arrays"
   ]
  },
  {
   "cell_type": "markdown",
   "id": "faf3ba1c",
   "metadata": {},
   "source": [
    "Sorting means putting elements in an ordered sequence."
   ]
  },
  {
   "cell_type": "code",
   "execution_count": 94,
   "id": "13e8527b",
   "metadata": {},
   "outputs": [
    {
     "data": {
      "text/plain": [
       "array([11,  2, 45, 61, 25, 98, 75, 43])"
      ]
     },
     "execution_count": 94,
     "metadata": {},
     "output_type": "execute_result"
    }
   ],
   "source": [
    "array=np.array([11,2,45,61,25,98,75,43])\n",
    "array"
   ]
  },
  {
   "cell_type": "code",
   "execution_count": 95,
   "id": "8b035318",
   "metadata": {},
   "outputs": [
    {
     "name": "stdout",
     "output_type": "stream",
     "text": [
      "[ 2 11 25 43 45 61 75 98]\n"
     ]
    }
   ],
   "source": [
    "print(np.sort(array))"
   ]
  },
  {
   "cell_type": "code",
   "execution_count": 98,
   "id": "5b9e0d55",
   "metadata": {},
   "outputs": [
    {
     "data": {
      "text/plain": [
       "['Banana', 'Mango', 'Apple', 'Orange', 'Grapes']"
      ]
     },
     "execution_count": 98,
     "metadata": {},
     "output_type": "execute_result"
    }
   ],
   "source": [
    "array1=([\"Banana\",\"Mango\",\"Apple\",\"Orange\",\"Grapes\"])\n",
    "array1"
   ]
  },
  {
   "cell_type": "code",
   "execution_count": 99,
   "id": "7c4c7060",
   "metadata": {},
   "outputs": [
    {
     "name": "stdout",
     "output_type": "stream",
     "text": [
      "['Apple' 'Banana' 'Grapes' 'Mango' 'Orange']\n"
     ]
    }
   ],
   "source": [
    "print(np.sort(array1))"
   ]
  },
  {
   "cell_type": "code",
   "execution_count": 100,
   "id": "458bba1f",
   "metadata": {},
   "outputs": [
    {
     "name": "stdout",
     "output_type": "stream",
     "text": [
      "[False  True  True]\n"
     ]
    }
   ],
   "source": [
    "arr = np.array([True, False, True])\n",
    "\n",
    "print(np.sort(arr)) "
   ]
  },
  {
   "cell_type": "code",
   "execution_count": 101,
   "id": "228cfe42",
   "metadata": {},
   "outputs": [
    {
     "name": "stdout",
     "output_type": "stream",
     "text": [
      "[[2 3 4]\n",
      " [0 1 5]]\n"
     ]
    }
   ],
   "source": [
    "#Sorting 2-D Array\n",
    "\n",
    "arr = np.array([[3, 2, 4], [5, 0, 1]])\n",
    "print(np.sort(arr)) "
   ]
  },
  {
   "cell_type": "code",
   "execution_count": 102,
   "id": "8724719f",
   "metadata": {},
   "outputs": [
    {
     "name": "stdout",
     "output_type": "stream",
     "text": [
      "Sorted Array in Descending Order:  [18 11  9  8  6  4  4  3  2  2  1]\n"
     ]
    }
   ],
   "source": [
    "arr = np.array([6, 1, 4, 2, 18, 9, 3, 4, 2, 8, 11])\n",
    "# Get a sorted copy of numpy array (Descending Order)\n",
    "arr = np.sort(arr)[::-1]\n",
    "print('Sorted Array in Descending Order: ', arr)"
   ]
  },
  {
   "cell_type": "code",
   "execution_count": 105,
   "id": "b13cdaa4",
   "metadata": {},
   "outputs": [],
   "source": [
    "# Sort Using 'mergesort'\n",
    "sortedArr1 = np.sort(arr, kind='mergesort')\n",
    " \n",
    "# Sort Using 'heapsort'\n",
    "sortedArr2 = np.sort(arr, kind='heapsort')\n",
    "\n",
    "# Sort Using 'heapsort'\n",
    "sortedArr3 = np.sort(arr, kind='stable')"
   ]
  },
  {
   "cell_type": "code",
   "execution_count": 106,
   "id": "34102383",
   "metadata": {},
   "outputs": [
    {
     "name": "stdout",
     "output_type": "stream",
     "text": [
      "[ 1  2  2  3  4  4  6  8  9 11 18]\n",
      "[ 1  2  2  3  4  4  6  8  9 11 18]\n",
      "[ 1  2  2  3  4  4  6  8  9 11 18]\n"
     ]
    }
   ],
   "source": [
    "print(sortedArr1)\n",
    "print(sortedArr2)\n",
    "print(sortedArr3)"
   ]
  },
  {
   "cell_type": "code",
   "execution_count": 107,
   "id": "9b980366",
   "metadata": {},
   "outputs": [],
   "source": [
    "#Sorting 2-D array along axis\n",
    "# Create a 2D Numpy array list of list\n",
    "arr2D = np.array([[8, 7, 1, 2], [3, 2, 3, 1], [29, 32, 11, 9]])"
   ]
  },
  {
   "cell_type": "code",
   "execution_count": 108,
   "id": "ae74f9e2",
   "metadata": {},
   "outputs": [
    {
     "data": {
      "text/plain": [
       "array([[ 8,  7,  1,  2],\n",
       "       [ 3,  2,  3,  1],\n",
       "       [29, 32, 11,  9]])"
      ]
     },
     "execution_count": 108,
     "metadata": {},
     "output_type": "execute_result"
    }
   ],
   "source": [
    "arr2D"
   ]
  },
  {
   "cell_type": "code",
   "execution_count": 109,
   "id": "70ad8c64",
   "metadata": {},
   "outputs": [
    {
     "name": "stdout",
     "output_type": "stream",
     "text": [
      "Sorted Array : \n",
      "[[ 3  2  1  1]\n",
      " [ 8  7  3  2]\n",
      " [29 32 11  9]]\n"
     ]
    }
   ],
   "source": [
    "# Sort along axis 0 i.e. sort contents of each Column in numpy array\n",
    "arr2D.sort(axis=0)\n",
    "print('Sorted Array : ')\n",
    "print(arr2D)"
   ]
  },
  {
   "cell_type": "code",
   "execution_count": 110,
   "id": "0b8984ff",
   "metadata": {},
   "outputs": [
    {
     "name": "stdout",
     "output_type": "stream",
     "text": [
      "Sorted Array : \n",
      "[[ 1  1  2  3]\n",
      " [ 2  3  7  8]\n",
      " [ 9 11 29 32]]\n"
     ]
    }
   ],
   "source": [
    "# Sort along axis 1 i.e. sort contents of each Row in numpy array\n",
    "arr2D.sort(axis=1)\n",
    "print('Sorted Array : ')\n",
    "print(arr2D)"
   ]
  },
  {
   "cell_type": "code",
   "execution_count": 111,
   "id": "cd19f356",
   "metadata": {},
   "outputs": [
    {
     "name": "stdout",
     "output_type": "stream",
     "text": [
      "Original Array :  [ 6  1  4  2 18  9  3  4  2  8 11]\n",
      "*** Sort a Numpy Array inplace ***\n",
      "Sorted Array :  [ 1  2  2  3  4  4  6  8  9 11 18]\n",
      "*** Get a Sorted copy of a Numpy Array ***\n",
      "Sorted Array :  [ 1  2  2  3  4  4  6  8  9 11 18]\n",
      "Original Array :  [ 6  1  4  2 18  9  3  4  2  8 11]\n",
      "*** Sort a Numpy Array in Descending Order ***\n",
      "Sorted Array in Descending Order:  [18 11  9  8  6  4  4  3  2  2  1]\n",
      "Sorted Array :  [ 1  2  2  3  4  4  6  8  9 11 18]\n",
      "Sorted Array :  [ 1  2  2  3  4  4  6  8  9 11 18]\n",
      "*** Sorting 2D numpy array along axis ***\n",
      "2D Numpy Array\n",
      "[[ 8  7  1  2]\n",
      " [ 3  2  3  1]\n",
      " [29 32 11  9]]\n",
      "*** Sort Contents of each Column in 2D numpy Array | Sorting along axis 0 ***\n",
      "Sorted Array : \n",
      "[[ 3  2  1  1]\n",
      " [ 8  7  3  2]\n",
      " [29 32 11  9]]\n",
      "*** Sort Contents of each Row in 2D numpy Array | Sorting along axis 1 ***\n",
      "Sorted Array : \n",
      "[[ 1  1  2  3]\n",
      " [ 2  3  7  8]\n",
      " [ 9 11 29 32]]\n"
     ]
    }
   ],
   "source": [
    "def main():\n",
    "    # Create a Numpy array from list of numbers\n",
    "    arr = np.array([6, 1, 4, 2, 18, 9, 3, 4, 2, 8, 11])\n",
    "    print('Original Array : ', arr)\n",
    "    \n",
    "    print('*** Sort a Numpy Array inplace ***')\n",
    "    # Sort the numpy array inplace\n",
    "    arr.sort()\n",
    "    print('Sorted Array : ', arr)\n",
    "    \n",
    "    print('*** Get a Sorted copy of a Numpy Array ***')\n",
    "    arr = np.array([6, 1, 4, 2, 18, 9, 3, 4, 2, 8, 11])\n",
    "    # To Get a sorted copy of numpy array (Ascending Order)\n",
    "    sortedArr = np.sort(arr)\n",
    "    print('Sorted Array : ', sortedArr)\n",
    "    print('Original Array : ', arr)\n",
    "    \n",
    "    print('*** Sort a Numpy Array in Descending Order ***')\n",
    "    arr = np.array([6, 1, 4, 2, 18, 9, 3, 4, 2, 8, 11])\n",
    "    # Get a sorted copy of numpy array (Descending Order)\n",
    "    arr = np.sort(arr)[::-1]\n",
    "    print('Sorted Array in Descending Order: ', arr)\n",
    "    \n",
    "    # Sort Using 'mergesort'\n",
    "    sortedArr = np.sort(arr, kind='mergesort')\n",
    "    print('Sorted Array : ', sortedArr)\n",
    "    \n",
    "    # Sort Using 'heapsort'\n",
    "    sortedArr = np.sort(arr, kind='heapsort')\n",
    "    print('Sorted Array : ', sortedArr)\n",
    "    print('*** Sorting 2D numpy array along axis ***')\n",
    "    \n",
    "    # Create a 2D Numpy array list of list\n",
    "    arr2D = np.array([[8, 7, 1, 2], [3, 2, 3, 1], [29, 32, 11, 9]])\n",
    "    print('2D Numpy Array')\n",
    "    print(arr2D)\n",
    "    \n",
    "    print('*** Sort Contents of each Column in 2D numpy Array | Sorting along axis 0 ***')\n",
    "    # Sort along axis 0 i.e. sort contents of each Column in numpy array\n",
    "    arr2D.sort(axis=0)\n",
    "    print('Sorted Array : ')\n",
    "    print(arr2D)\n",
    "    \n",
    "    print('*** Sort Contents of each Row in 2D numpy Array | Sorting along axis 1 ***')\n",
    "    # Sort along axis 1 i.e. sort contents of each Row in numpy array\n",
    "    arr2D.sort(axis=1)\n",
    "    print('Sorted Array : ')\n",
    "    print(arr2D)\n",
    "    \n",
    "if __name__ == '__main__':\n",
    "  main()"
   ]
  },
  {
   "cell_type": "markdown",
   "id": "f5a5de33",
   "metadata": {},
   "source": [
    "### Case study on Numpy"
   ]
  },
  {
   "cell_type": "code",
   "execution_count": 113,
   "id": "3860895a",
   "metadata": {},
   "outputs": [],
   "source": [
    "import numpy as np"
   ]
  },
  {
   "cell_type": "code",
   "execution_count": 122,
   "id": "98a6b001",
   "metadata": {},
   "outputs": [],
   "source": [
    "### First Step :- Load data\n",
    "data=np.loadtxt(\"/home/divyasale/Downloads/cric.tsv\",skiprows=1)"
   ]
  },
  {
   "cell_type": "code",
   "execution_count": 123,
   "id": "02146306",
   "metadata": {},
   "outputs": [
    {
     "data": {
      "text/plain": [
       "array([[  0., 100.,  78., 342.],\n",
       "       [  1.,  11.,  62., 191.],\n",
       "       [  2.,   8.,  85., 252.],\n",
       "       [  3.,  71.,  24., 307.],\n",
       "       [  4., 104.,  17., 229.],\n",
       "       [  5.,  18., 104., 246.],\n",
       "       [  6.,   8.,  76., 226.],\n",
       "       [  7.,  86.,  74., 288.],\n",
       "       [  8.,  12.,  60., 216.],\n",
       "       [  9.,  25.,  90., 304.],\n",
       "       [ 10.,  56.,   6., 272.],\n",
       "       [ 11.,  88.,  69., 302.],\n",
       "       [ 12., 147.,  65., 312.],\n",
       "       [ 13., 121., 146., 370.],\n",
       "       [ 15.,  99., 110., 362.]])"
      ]
     },
     "execution_count": 123,
     "metadata": {},
     "output_type": "execute_result"
    }
   ],
   "source": [
    "data"
   ]
  },
  {
   "cell_type": "code",
   "execution_count": 138,
   "id": "5480664d",
   "metadata": {},
   "outputs": [],
   "source": [
    "Sachin_Data=data[:,1]\n",
    "Dravid_Data=data[:,2]\n",
    "India_data=data[:,3]"
   ]
  },
  {
   "cell_type": "code",
   "execution_count": 139,
   "id": "3d973812",
   "metadata": {},
   "outputs": [
    {
     "data": {
      "text/plain": [
       "array([100.,  11.,   8.,  71., 104.,  18.,   8.,  86.,  12.,  25.,  56.,\n",
       "        88., 147., 121.,  99.])"
      ]
     },
     "execution_count": 139,
     "metadata": {},
     "output_type": "execute_result"
    }
   ],
   "source": [
    "Sachin_Data"
   ]
  },
  {
   "cell_type": "code",
   "execution_count": 140,
   "id": "66d4a333",
   "metadata": {},
   "outputs": [
    {
     "data": {
      "text/plain": [
       "array([ 78.,  62.,  85.,  24.,  17., 104.,  76.,  74.,  60.,  90.,   6.,\n",
       "        69.,  65., 146., 110.])"
      ]
     },
     "execution_count": 140,
     "metadata": {},
     "output_type": "execute_result"
    }
   ],
   "source": [
    "Dravid_Data"
   ]
  },
  {
   "cell_type": "code",
   "execution_count": 162,
   "id": "cf776f55",
   "metadata": {},
   "outputs": [
    {
     "data": {
      "text/plain": [
       "array([342., 191., 252., 307., 229., 246., 226., 288., 216., 304., 272.,\n",
       "       302., 312., 370., 362.])"
      ]
     },
     "execution_count": 162,
     "metadata": {},
     "output_type": "execute_result"
    }
   ],
   "source": [
    "India_data"
   ]
  },
  {
   "cell_type": "markdown",
   "id": "d99d3a18",
   "metadata": {},
   "source": [
    "### 1.Find Mean and Median of Sachin, Dravid and India"
   ]
  },
  {
   "cell_type": "code",
   "execution_count": 149,
   "id": "59e44723",
   "metadata": {},
   "outputs": [
    {
     "name": "stdout",
     "output_type": "stream",
     "text": [
      "Mean of Sachin is :  63.6 \n",
      "and Median of Sachin is :  71.0\n"
     ]
    }
   ],
   "source": [
    "#For Sachin\n",
    "print(\"Mean of Sachin is : \",Sachin_Data.mean() ,\"\\nand Median of Sachin is : \",np.median(Sachin_Data))"
   ]
  },
  {
   "cell_type": "code",
   "execution_count": 150,
   "id": "541b56cc",
   "metadata": {},
   "outputs": [
    {
     "name": "stdout",
     "output_type": "stream",
     "text": [
      "Mean of Dravid is :  71.06666666666666 \n",
      "and Median of Dravid is :  74.0\n"
     ]
    }
   ],
   "source": [
    "#For Dravid\n",
    "print(\"Mean of Dravid is : \",Dravid_Data.mean() ,\"\\nand Median of Dravid is : \",np.median(Dravid_Data))"
   ]
  },
  {
   "cell_type": "code",
   "execution_count": 151,
   "id": "8be84fcc",
   "metadata": {},
   "outputs": [
    {
     "name": "stdout",
     "output_type": "stream",
     "text": [
      "Mean of India is :  281.26666666666665 \n",
      "and Median of India is :  288.0\n"
     ]
    }
   ],
   "source": [
    "#For India\n",
    "print(\"Mean of India is : \",India_data.mean() ,\"\\nand Median of India is : \",np.median(India_data))"
   ]
  },
  {
   "cell_type": "markdown",
   "id": "d6cd48af",
   "metadata": {},
   "source": [
    "### 2. How many centuries did Sachin and Dravid Score\n"
   ]
  },
  {
   "cell_type": "code",
   "execution_count": 155,
   "id": "f5598035",
   "metadata": {},
   "outputs": [],
   "source": [
    "#For Sachin\n",
    "Sachin_centuries = np.count_nonzero(Sachin_Data>99)"
   ]
  },
  {
   "cell_type": "code",
   "execution_count": 156,
   "id": "3df205f6",
   "metadata": {},
   "outputs": [
    {
     "name": "stdout",
     "output_type": "stream",
     "text": [
      "4\n"
     ]
    }
   ],
   "source": [
    "print(Sachin_centuries)"
   ]
  },
  {
   "cell_type": "code",
   "execution_count": 157,
   "id": "810401cb",
   "metadata": {},
   "outputs": [],
   "source": [
    "#For Dravid\n",
    "Dravid_centuries = np.count_nonzero(Dravid_Data>99)"
   ]
  },
  {
   "cell_type": "code",
   "execution_count": 158,
   "id": "42b68ab5",
   "metadata": {},
   "outputs": [
    {
     "name": "stdout",
     "output_type": "stream",
     "text": [
      "3\n"
     ]
    }
   ],
   "source": [
    "print(Dravid_centuries)"
   ]
  },
  {
   "cell_type": "code",
   "execution_count": 166,
   "id": "6d7fe876",
   "metadata": {},
   "outputs": [],
   "source": [
    "Total_India_Century = np.count_nonzero(India_data>300)"
   ]
  },
  {
   "cell_type": "code",
   "execution_count": 167,
   "id": "a2e2d86b",
   "metadata": {},
   "outputs": [
    {
     "name": "stdout",
     "output_type": "stream",
     "text": [
      "7\n"
     ]
    }
   ],
   "source": [
    "print(Total_India_Century )"
   ]
  },
  {
   "cell_type": "markdown",
   "id": "ea22baed",
   "metadata": {},
   "source": [
    "##### 3.How many matches did Sachin and Dravid takes to reach 500"
   ]
  },
  {
   "cell_type": "code",
   "execution_count": 168,
   "id": "31e8d48f",
   "metadata": {},
   "outputs": [],
   "source": [
    "#For sachin\n",
    "sachin_score=np.cumsum(Sachin_Data)"
   ]
  },
  {
   "cell_type": "code",
   "execution_count": 169,
   "id": "8940a234",
   "metadata": {},
   "outputs": [
    {
     "data": {
      "text/plain": [
       "11"
      ]
     },
     "execution_count": 169,
     "metadata": {},
     "output_type": "execute_result"
    }
   ],
   "source": [
    "np.searchsorted(sachin_score,500)"
   ]
  },
  {
   "cell_type": "code",
   "execution_count": 171,
   "id": "8857d285",
   "metadata": {},
   "outputs": [
    {
     "data": {
      "text/plain": [
       "7"
      ]
     },
     "execution_count": 171,
     "metadata": {},
     "output_type": "execute_result"
    }
   ],
   "source": [
    "#For Dravid\n",
    "dravid_score=np.cumsum(Dravid_Data)\n",
    "np.searchsorted(dravid_score,500)"
   ]
  },
  {
   "cell_type": "code",
   "execution_count": null,
   "id": "6cd68da9",
   "metadata": {},
   "outputs": [],
   "source": []
  }
 ],
 "metadata": {
  "kernelspec": {
   "display_name": "Python 3",
   "language": "python",
   "name": "python3"
  },
  "language_info": {
   "codemirror_mode": {
    "name": "ipython",
    "version": 3
   },
   "file_extension": ".py",
   "mimetype": "text/x-python",
   "name": "python",
   "nbconvert_exporter": "python",
   "pygments_lexer": "ipython3",
   "version": "3.8.8"
  }
 },
 "nbformat": 4,
 "nbformat_minor": 5
}
